{
 "cells": [
  {
   "cell_type": "markdown",
   "metadata": {},
   "source": [
    "# EDA and Modeling #"
   ]
  },
  {
   "cell_type": "markdown",
   "metadata": {},
   "source": [
    "After running the Zipcode grouped baseline models(R-squared of .62), we ran these following models with cluster based groups:\n",
    "\n",
    "- Simple Linear Regression\n",
    "- Lasso Regression\n",
    "- Ridge Regression\n",
    "- Random Forest \n",
    "\n",
    "In Linear Regression, we aim to minimize sum of squared errors by finding the line of best fit.\n",
    "\n",
    "Ridge and Lasso Regression penalizes overfitting (too many variables) and reduces the effects (sometimes to 0 with Lasso) of some unnecessary variables.\n",
    "\n",
    "In Random Forest, we use an ensemble model that uses Boot Strap Aggregation (randomly sampling the data's features/variables and replacing to avoid duplication). Random Forest model takes a group of trees that pick a sample of the variables at random. It is a tree based method that seeks to gain purity (classifying a group all from the same class, as much as possible), while reducing the variance (overfitting) that Decision Trees (another tree based method but without bootstrap aggregation)."
   ]
  },
  {
   "cell_type": "code",
   "execution_count": 44,
   "metadata": {},
   "outputs": [],
   "source": [
    "import pandas as pd\n",
    "import numpy as np\n",
    "import matplotlib.pyplot as plt\n",
    "from sklearn.metrics import r2_score, mean_squared_error\n",
    "from sklearn.preprocessing import StandardScaler\n",
    "from sklearn.model_selection import train_test_split, GridSearchCV\n",
    "from sklearn.linear_model import LinearRegression, LassoCV, RidgeCV\n",
    "from sklearn.tree import DecisionTreeRegressor\n",
    "from sklearn.ensemble import RandomForestRegressor\n",
    "import statsmodels.api as sm"
   ]
  },
  {
   "cell_type": "code",
   "execution_count": 2,
   "metadata": {},
   "outputs": [],
   "source": [
    "yelp_df_dummies = pd.read_csv('./data/yelp_df_dummies_150.csv', index_col = 0)\n",
    "property_df = pd.read_csv('./data/property_final_df_labeled_cleaned_150.csv', index_col = 0)"
   ]
  },
  {
   "cell_type": "code",
   "execution_count": 3,
   "metadata": {},
   "outputs": [
    {
     "data": {
      "text/html": [
       "<div>\n",
       "<style scoped>\n",
       "    .dataframe tbody tr th:only-of-type {\n",
       "        vertical-align: middle;\n",
       "    }\n",
       "\n",
       "    .dataframe tbody tr th {\n",
       "        vertical-align: top;\n",
       "    }\n",
       "\n",
       "    .dataframe thead th {\n",
       "        text-align: right;\n",
       "    }\n",
       "</style>\n",
       "<table border=\"1\" class=\"dataframe\">\n",
       "  <thead>\n",
       "    <tr style=\"text-align: right;\">\n",
       "      <th></th>\n",
       "      <th>name</th>\n",
       "      <th>id</th>\n",
       "      <th>category</th>\n",
       "      <th>zip</th>\n",
       "      <th>latitude</th>\n",
       "      <th>longitude</th>\n",
       "      <th>labels_km</th>\n",
       "      <th>centroid_latitude</th>\n",
       "      <th>centroid_longitude</th>\n",
       "      <th>distance_centroid</th>\n",
       "      <th>...</th>\n",
       "      <th>rating_2.5</th>\n",
       "      <th>rating_3.0</th>\n",
       "      <th>rating_3.5</th>\n",
       "      <th>rating_4.0</th>\n",
       "      <th>rating_4.5</th>\n",
       "      <th>rating_5.0</th>\n",
       "      <th>price_1.0</th>\n",
       "      <th>price_2.0</th>\n",
       "      <th>price_3.0</th>\n",
       "      <th>price_4.0</th>\n",
       "    </tr>\n",
       "  </thead>\n",
       "  <tbody>\n",
       "    <tr>\n",
       "      <th>0</th>\n",
       "      <td>The Crawfish Co</td>\n",
       "      <td>9fEG4fIAc1DgrghJ2Bo2Vw</td>\n",
       "      <td>cajun</td>\n",
       "      <td>91342</td>\n",
       "      <td>34.3103</td>\n",
       "      <td>-118.429</td>\n",
       "      <td>48</td>\n",
       "      <td>34.306431</td>\n",
       "      <td>-118.435662</td>\n",
       "      <td>0.007704</td>\n",
       "      <td>...</td>\n",
       "      <td>0</td>\n",
       "      <td>0</td>\n",
       "      <td>0</td>\n",
       "      <td>0</td>\n",
       "      <td>1</td>\n",
       "      <td>0</td>\n",
       "      <td>0</td>\n",
       "      <td>1</td>\n",
       "      <td>0</td>\n",
       "      <td>0</td>\n",
       "    </tr>\n",
       "    <tr>\n",
       "      <th>1</th>\n",
       "      <td>Truman House Tavern</td>\n",
       "      <td>fe7WfjLwWsfFdvuJ2lhDxg</td>\n",
       "      <td>gastropubs</td>\n",
       "      <td>91340</td>\n",
       "      <td>34.2819</td>\n",
       "      <td>-118.440</td>\n",
       "      <td>83</td>\n",
       "      <td>34.283499</td>\n",
       "      <td>-118.442816</td>\n",
       "      <td>0.003238</td>\n",
       "      <td>...</td>\n",
       "      <td>0</td>\n",
       "      <td>0</td>\n",
       "      <td>0</td>\n",
       "      <td>0</td>\n",
       "      <td>1</td>\n",
       "      <td>0</td>\n",
       "      <td>0</td>\n",
       "      <td>1</td>\n",
       "      <td>0</td>\n",
       "      <td>0</td>\n",
       "    </tr>\n",
       "    <tr>\n",
       "      <th>2</th>\n",
       "      <td>Ranch Side Cafe</td>\n",
       "      <td>fzLtFDsHZSuDC36Tlw_3DQ</td>\n",
       "      <td>tradamerican</td>\n",
       "      <td>91342</td>\n",
       "      <td>34.2763</td>\n",
       "      <td>-118.379</td>\n",
       "      <td>25</td>\n",
       "      <td>34.277959</td>\n",
       "      <td>-118.410547</td>\n",
       "      <td>0.031590</td>\n",
       "      <td>...</td>\n",
       "      <td>0</td>\n",
       "      <td>0</td>\n",
       "      <td>0</td>\n",
       "      <td>1</td>\n",
       "      <td>0</td>\n",
       "      <td>0</td>\n",
       "      <td>0</td>\n",
       "      <td>1</td>\n",
       "      <td>0</td>\n",
       "      <td>0</td>\n",
       "    </tr>\n",
       "    <tr>\n",
       "      <th>3</th>\n",
       "      <td>Hide Away Cafe Mexican Grill</td>\n",
       "      <td>CjBiw0DusS7ymVZcq8BTeA</td>\n",
       "      <td>mexican</td>\n",
       "      <td>91342</td>\n",
       "      <td>34.2821</td>\n",
       "      <td>-118.373</td>\n",
       "      <td>25</td>\n",
       "      <td>34.277959</td>\n",
       "      <td>-118.410547</td>\n",
       "      <td>0.037774</td>\n",
       "      <td>...</td>\n",
       "      <td>0</td>\n",
       "      <td>0</td>\n",
       "      <td>0</td>\n",
       "      <td>0</td>\n",
       "      <td>1</td>\n",
       "      <td>0</td>\n",
       "      <td>1</td>\n",
       "      <td>0</td>\n",
       "      <td>0</td>\n",
       "      <td>0</td>\n",
       "    </tr>\n",
       "    <tr>\n",
       "      <th>4</th>\n",
       "      <td>Villa Terraza</td>\n",
       "      <td>jx-Ptpw7tNvLPnP97N6HBQ</td>\n",
       "      <td>italian</td>\n",
       "      <td>91040</td>\n",
       "      <td>34.2531</td>\n",
       "      <td>-118.346</td>\n",
       "      <td>35</td>\n",
       "      <td>34.259617</td>\n",
       "      <td>-118.314914</td>\n",
       "      <td>0.031762</td>\n",
       "      <td>...</td>\n",
       "      <td>0</td>\n",
       "      <td>0</td>\n",
       "      <td>0</td>\n",
       "      <td>0</td>\n",
       "      <td>1</td>\n",
       "      <td>0</td>\n",
       "      <td>0</td>\n",
       "      <td>1</td>\n",
       "      <td>0</td>\n",
       "      <td>0</td>\n",
       "    </tr>\n",
       "  </tbody>\n",
       "</table>\n",
       "<p>5 rows × 76 columns</p>\n",
       "</div>"
      ],
      "text/plain": [
       "                           name                      id      category    zip  \\\n",
       "0               The Crawfish Co  9fEG4fIAc1DgrghJ2Bo2Vw         cajun  91342   \n",
       "1           Truman House Tavern  fe7WfjLwWsfFdvuJ2lhDxg    gastropubs  91340   \n",
       "2               Ranch Side Cafe  fzLtFDsHZSuDC36Tlw_3DQ  tradamerican  91342   \n",
       "3  Hide Away Cafe Mexican Grill  CjBiw0DusS7ymVZcq8BTeA       mexican  91342   \n",
       "4                 Villa Terraza  jx-Ptpw7tNvLPnP97N6HBQ       italian  91040   \n",
       "\n",
       "   latitude  longitude  labels_km  centroid_latitude  centroid_longitude  \\\n",
       "0   34.3103   -118.429         48          34.306431         -118.435662   \n",
       "1   34.2819   -118.440         83          34.283499         -118.442816   \n",
       "2   34.2763   -118.379         25          34.277959         -118.410547   \n",
       "3   34.2821   -118.373         25          34.277959         -118.410547   \n",
       "4   34.2531   -118.346         35          34.259617         -118.314914   \n",
       "\n",
       "   distance_centroid  ...  rating_2.5  rating_3.0  rating_3.5  rating_4.0  \\\n",
       "0           0.007704  ...           0           0           0           0   \n",
       "1           0.003238  ...           0           0           0           0   \n",
       "2           0.031590  ...           0           0           0           1   \n",
       "3           0.037774  ...           0           0           0           0   \n",
       "4           0.031762  ...           0           0           0           0   \n",
       "\n",
       "   rating_4.5  rating_5.0  price_1.0  price_2.0  price_3.0  price_4.0  \n",
       "0           1           0          0          1          0          0  \n",
       "1           1           0          0          1          0          0  \n",
       "2           0           0          0          1          0          0  \n",
       "3           1           0          1          0          0          0  \n",
       "4           1           0          0          1          0          0  \n",
       "\n",
       "[5 rows x 76 columns]"
      ]
     },
     "execution_count": 3,
     "metadata": {},
     "output_type": "execute_result"
    }
   ],
   "source": [
    "yelp_df_dummies.head()"
   ]
  },
  {
   "cell_type": "code",
   "execution_count": 4,
   "metadata": {},
   "outputs": [
    {
     "data": {
      "text/plain": [
       "(103, 68)"
      ]
     },
     "execution_count": 4,
     "metadata": {},
     "output_type": "execute_result"
    }
   ],
   "source": [
    "property_df.shape"
   ]
  },
  {
   "cell_type": "markdown",
   "metadata": {},
   "source": [
    "Creating variables and using Train Test Split to train our models and test our models on unseen held out data. We will stick with the default 75% training data and 25% test data (to check if our model can perform on new data)."
   ]
  },
  {
   "cell_type": "code",
   "execution_count": 5,
   "metadata": {},
   "outputs": [],
   "source": [
    "X = property_df.drop(columns='value')\n",
    "y = property_df['value']"
   ]
  },
  {
   "cell_type": "code",
   "execution_count": 6,
   "metadata": {},
   "outputs": [],
   "source": [
    "X_train, X_test, y_train, y_test = train_test_split(X, y, random_state=42)"
   ]
  },
  {
   "cell_type": "markdown",
   "metadata": {},
   "source": [
    "We are scaling data because Centroid Distance is a different unit of measure than feature counts of dummied variables"
   ]
  },
  {
   "cell_type": "code",
   "execution_count": 7,
   "metadata": {},
   "outputs": [],
   "source": [
    "lr = LinearRegression()\n",
    "ss = StandardScaler()"
   ]
  },
  {
   "cell_type": "code",
   "execution_count": 8,
   "metadata": {},
   "outputs": [
    {
     "name": "stderr",
     "output_type": "stream",
     "text": [
      "C:\\Users\\seung\\Anaconda3\\lib\\site-packages\\sklearn\\preprocessing\\data.py:625: DataConversionWarning: Data with input dtype int64, float64 were all converted to float64 by StandardScaler.\n",
      "  return self.partial_fit(X, y)\n",
      "C:\\Users\\seung\\Anaconda3\\lib\\site-packages\\sklearn\\base.py:462: DataConversionWarning: Data with input dtype int64, float64 were all converted to float64 by StandardScaler.\n",
      "  return self.fit(X, **fit_params).transform(X)\n",
      "C:\\Users\\seung\\Anaconda3\\lib\\site-packages\\ipykernel_launcher.py:2: DataConversionWarning: Data with input dtype int64, float64 were all converted to float64 by StandardScaler.\n",
      "  \n"
     ]
    }
   ],
   "source": [
    "X_train_sc = ss.fit_transform(X_train)\n",
    "X_test_sc = ss.transform(X_test)"
   ]
  },
  {
   "cell_type": "markdown",
   "metadata": {},
   "source": [
    "### Fitting Simple Linear Regression"
   ]
  },
  {
   "cell_type": "code",
   "execution_count": 9,
   "metadata": {},
   "outputs": [
    {
     "data": {
      "text/plain": [
       "LinearRegression(copy_X=True, fit_intercept=True, n_jobs=None,\n",
       "         normalize=False)"
      ]
     },
     "execution_count": 9,
     "metadata": {},
     "output_type": "execute_result"
    }
   ],
   "source": [
    "lr.fit(X_train_sc, y_train)"
   ]
  },
  {
   "cell_type": "code",
   "execution_count": 10,
   "metadata": {},
   "outputs": [
    {
     "data": {
      "text/plain": [
       "0.9748325710188855"
      ]
     },
     "execution_count": 10,
     "metadata": {},
     "output_type": "execute_result"
    }
   ],
   "source": [
    "lr.score(X_train_sc, y_train)"
   ]
  },
  {
   "cell_type": "code",
   "execution_count": 11,
   "metadata": {},
   "outputs": [
    {
     "data": {
      "text/plain": [
       "-1.5107520071198877"
      ]
     },
     "execution_count": 11,
     "metadata": {},
     "output_type": "execute_result"
    }
   ],
   "source": [
    "lr.score(X_test_sc, y_test)"
   ]
  },
  {
   "cell_type": "markdown",
   "metadata": {},
   "source": [
    "### Fitting Ridge Regression"
   ]
  },
  {
   "cell_type": "code",
   "execution_count": 12,
   "metadata": {},
   "outputs": [],
   "source": [
    "ridge = RidgeCV()"
   ]
  },
  {
   "cell_type": "code",
   "execution_count": 13,
   "metadata": {},
   "outputs": [
    {
     "data": {
      "text/plain": [
       "RidgeCV(alphas=array([ 0.1,  1. , 10. ]), cv=None, fit_intercept=True,\n",
       "    gcv_mode=None, normalize=False, scoring=None, store_cv_values=False)"
      ]
     },
     "execution_count": 13,
     "metadata": {},
     "output_type": "execute_result"
    }
   ],
   "source": [
    "ridge.fit(X_train_sc, y_train)"
   ]
  },
  {
   "cell_type": "code",
   "execution_count": 14,
   "metadata": {},
   "outputs": [
    {
     "data": {
      "text/plain": [
       "0.925421188046642"
      ]
     },
     "execution_count": 14,
     "metadata": {},
     "output_type": "execute_result"
    }
   ],
   "source": [
    "ridge.score(X_train_sc, y_train)"
   ]
  },
  {
   "cell_type": "code",
   "execution_count": 15,
   "metadata": {},
   "outputs": [
    {
     "data": {
      "text/plain": [
       "0.6579736968727441"
      ]
     },
     "execution_count": 15,
     "metadata": {},
     "output_type": "execute_result"
    }
   ],
   "source": [
    "ridge.score(X_test_sc, y_test)"
   ]
  },
  {
   "cell_type": "markdown",
   "metadata": {},
   "source": [
    "### Fitting Lasso Regression"
   ]
  },
  {
   "cell_type": "code",
   "execution_count": 16,
   "metadata": {},
   "outputs": [],
   "source": [
    "ls = LassoCV()"
   ]
  },
  {
   "cell_type": "code",
   "execution_count": 17,
   "metadata": {},
   "outputs": [
    {
     "name": "stderr",
     "output_type": "stream",
     "text": [
      "C:\\Users\\seung\\Anaconda3\\lib\\site-packages\\sklearn\\model_selection\\_split.py:2053: FutureWarning: You should specify a value for 'cv' instead of relying on the default value. The default value will change from 3 to 5 in version 0.22.\n",
      "  warnings.warn(CV_WARNING, FutureWarning)\n",
      "C:\\Users\\seung\\Anaconda3\\lib\\site-packages\\sklearn\\linear_model\\coordinate_descent.py:492: ConvergenceWarning: Objective did not converge. You might want to increase the number of iterations. Fitting data with very small alpha may cause precision problems.\n",
      "  ConvergenceWarning)\n",
      "C:\\Users\\seung\\Anaconda3\\lib\\site-packages\\sklearn\\linear_model\\coordinate_descent.py:492: ConvergenceWarning: Objective did not converge. You might want to increase the number of iterations. Fitting data with very small alpha may cause precision problems.\n",
      "  ConvergenceWarning)\n"
     ]
    },
    {
     "data": {
      "text/plain": [
       "LassoCV(alphas=None, copy_X=True, cv='warn', eps=0.001, fit_intercept=True,\n",
       "    max_iter=1000, n_alphas=100, n_jobs=None, normalize=False,\n",
       "    positive=False, precompute='auto', random_state=None,\n",
       "    selection='cyclic', tol=0.0001, verbose=False)"
      ]
     },
     "execution_count": 17,
     "metadata": {},
     "output_type": "execute_result"
    }
   ],
   "source": [
    "ls.fit(X_train_sc, y_train)"
   ]
  },
  {
   "cell_type": "code",
   "execution_count": 18,
   "metadata": {},
   "outputs": [
    {
     "data": {
      "text/plain": [
       "0.843997539928412"
      ]
     },
     "execution_count": 18,
     "metadata": {},
     "output_type": "execute_result"
    }
   ],
   "source": [
    "ls.score(X_train_sc, y_train)"
   ]
  },
  {
   "cell_type": "code",
   "execution_count": 19,
   "metadata": {},
   "outputs": [
    {
     "data": {
      "text/plain": [
       "0.5640761715419496"
      ]
     },
     "execution_count": 19,
     "metadata": {},
     "output_type": "execute_result"
    }
   ],
   "source": [
    "ls.score(X_test_sc, y_test)"
   ]
  },
  {
   "cell_type": "markdown",
   "metadata": {},
   "source": [
    "### Fitting Random Forest"
   ]
  },
  {
   "cell_type": "code",
   "execution_count": 172,
   "metadata": {},
   "outputs": [],
   "source": [
    "rf = RandomForestRegressor(random_state=42, min_samples_split=15, n_estimators=100)"
   ]
  },
  {
   "cell_type": "code",
   "execution_count": 173,
   "metadata": {},
   "outputs": [
    {
     "data": {
      "text/plain": [
       "RandomForestRegressor(bootstrap=True, criterion='mse', max_depth=None,\n",
       "           max_features='auto', max_leaf_nodes=None,\n",
       "           min_impurity_decrease=0.0, min_impurity_split=None,\n",
       "           min_samples_leaf=1, min_samples_split=15,\n",
       "           min_weight_fraction_leaf=0.0, n_estimators=100, n_jobs=None,\n",
       "           oob_score=False, random_state=42, verbose=0, warm_start=False)"
      ]
     },
     "execution_count": 173,
     "metadata": {},
     "output_type": "execute_result"
    }
   ],
   "source": [
    "rf.fit(X_train, y_train)"
   ]
  },
  {
   "cell_type": "code",
   "execution_count": 174,
   "metadata": {},
   "outputs": [
    {
     "data": {
      "text/plain": [
       "0.8113848649540466"
      ]
     },
     "execution_count": 174,
     "metadata": {},
     "output_type": "execute_result"
    }
   ],
   "source": [
    "rf.score(X_train, y_train)"
   ]
  },
  {
   "cell_type": "code",
   "execution_count": 175,
   "metadata": {},
   "outputs": [
    {
     "data": {
      "text/plain": [
       "0.5836770699578875"
      ]
     },
     "execution_count": 175,
     "metadata": {},
     "output_type": "execute_result"
    }
   ],
   "source": [
    "rf.score(X_test, y_test)"
   ]
  },
  {
   "cell_type": "markdown",
   "metadata": {},
   "source": [
    "## Production Model"
   ]
  },
  {
   "cell_type": "markdown",
   "metadata": {},
   "source": [
    "**Production Model will be Cluster Grouped Ridge Model**\n",
    "\n",
    "Since the R-squared score of 0.65 was the higher than our baseline, our Production Model will be Ridge.\n",
    "\n",
    "The RMSE (or residual) was $208,357\n",
    "\n",
    "The Ridge Model was still overfit but all of our models were. That was attributed to having 103 samples(aggregate groups) vs 68 features.\n",
    "\n",
    "We are examining of Beta Weights to see the effects of features on Home Values."
   ]
  },
  {
   "cell_type": "code",
   "execution_count": 28,
   "metadata": {},
   "outputs": [
    {
     "data": {
      "text/html": [
       "<div>\n",
       "<style scoped>\n",
       "    .dataframe tbody tr th:only-of-type {\n",
       "        vertical-align: middle;\n",
       "    }\n",
       "\n",
       "    .dataframe tbody tr th {\n",
       "        vertical-align: top;\n",
       "    }\n",
       "\n",
       "    .dataframe thead th {\n",
       "        text-align: right;\n",
       "    }\n",
       "</style>\n",
       "<table border=\"1\" class=\"dataframe\">\n",
       "  <thead>\n",
       "    <tr style=\"text-align: right;\">\n",
       "      <th></th>\n",
       "      <th>betas</th>\n",
       "      <th>abs_betas</th>\n",
       "    </tr>\n",
       "  </thead>\n",
       "  <tbody>\n",
       "    <tr>\n",
       "      <th>distance_centroid</th>\n",
       "      <td>53856.386273</td>\n",
       "      <td>53856.386273</td>\n",
       "    </tr>\n",
       "    <tr>\n",
       "      <th>price_1.0</th>\n",
       "      <td>-26266.564280</td>\n",
       "      <td>26266.564280</td>\n",
       "    </tr>\n",
       "    <tr>\n",
       "      <th>price_2.0</th>\n",
       "      <td>23437.257461</td>\n",
       "      <td>23437.257461</td>\n",
       "    </tr>\n",
       "    <tr>\n",
       "      <th>price_3.0</th>\n",
       "      <td>32004.534261</td>\n",
       "      <td>32004.534261</td>\n",
       "    </tr>\n",
       "    <tr>\n",
       "      <th>price_4.0</th>\n",
       "      <td>1417.061148</td>\n",
       "      <td>1417.061148</td>\n",
       "    </tr>\n",
       "    <tr>\n",
       "      <th>rating_0.0</th>\n",
       "      <td>6229.725084</td>\n",
       "      <td>6229.725084</td>\n",
       "    </tr>\n",
       "    <tr>\n",
       "      <th>rating_1.0</th>\n",
       "      <td>-4229.155046</td>\n",
       "      <td>4229.155046</td>\n",
       "    </tr>\n",
       "    <tr>\n",
       "      <th>rating_1.5</th>\n",
       "      <td>6603.545671</td>\n",
       "      <td>6603.545671</td>\n",
       "    </tr>\n",
       "    <tr>\n",
       "      <th>rating_2.0</th>\n",
       "      <td>-27203.473288</td>\n",
       "      <td>27203.473288</td>\n",
       "    </tr>\n",
       "    <tr>\n",
       "      <th>rating_2.5</th>\n",
       "      <td>-23364.529824</td>\n",
       "      <td>23364.529824</td>\n",
       "    </tr>\n",
       "  </tbody>\n",
       "</table>\n",
       "</div>"
      ],
      "text/plain": [
       "                          betas     abs_betas\n",
       "distance_centroid  53856.386273  53856.386273\n",
       "price_1.0         -26266.564280  26266.564280\n",
       "price_2.0          23437.257461  23437.257461\n",
       "price_3.0          32004.534261  32004.534261\n",
       "price_4.0           1417.061148   1417.061148\n",
       "rating_0.0          6229.725084   6229.725084\n",
       "rating_1.0         -4229.155046   4229.155046\n",
       "rating_1.5          6603.545671   6603.545671\n",
       "rating_2.0        -27203.473288  27203.473288\n",
       "rating_2.5        -23364.529824  23364.529824"
      ]
     },
     "execution_count": 28,
     "metadata": {},
     "output_type": "execute_result"
    }
   ],
   "source": [
    "beta_0 = ridge.intercept_\n",
    "\n",
    "ridge.coef_\n",
    "\n",
    "betas = pd.DataFrame(ridge.coef_, index=X.columns)\n",
    "\n",
    "betas.rename(columns={0: 'betas'}, inplace=True)\n",
    "\n",
    "betas['abs_betas'] = betas['betas'].abs()\n",
    "\n",
    "betas.head(10)"
   ]
  },
  {
   "cell_type": "markdown",
   "metadata": {},
   "source": [
    "These are the highest Beta Weights that effect Home values (per a 1 standard deviation move)"
   ]
  },
  {
   "cell_type": "code",
   "execution_count": 29,
   "metadata": {},
   "outputs": [
    {
     "data": {
      "text/plain": [
       "type_italian          81115.772399\n",
       "type_cafes            68084.745388\n",
       "type_newamerican      63953.364851\n",
       "type_indpak           62225.673536\n",
       "type_salad           -54518.522881\n",
       "distance_centroid     53856.386273\n",
       "rating_5.0           -51487.509919\n",
       "type_cocktailbars    -45585.331486\n",
       "type_thai             45577.280018\n",
       "type_seafood         -43593.318083\n",
       "type_japanese        -40655.852025\n",
       "type_hotdogs         -39802.586895\n",
       "type_juicebars        37739.536070\n",
       "type_burgers         -35803.174816\n",
       "type_streetvendors   -35495.540049\n",
       "Name: betas, dtype: float64"
      ]
     },
     "execution_count": 29,
     "metadata": {},
     "output_type": "execute_result"
    }
   ],
   "source": [
    "betas.sort_values('abs_betas', ascending=False)['betas'][:15]"
   ]
  },
  {
   "cell_type": "code",
   "execution_count": 30,
   "metadata": {},
   "outputs": [
    {
     "data": {
      "image/png": "[encoded data removed]",
      "text/plain": [
       "<Figure size 1440x720 with 1 Axes>"
      ]
     },
     "metadata": {
      "needs_background": "light"
     },
     "output_type": "display_data"
    }
   ],
   "source": [
    "plt.figure(figsize=(20,10))\n",
    "plt.barh(betas.sort_values('abs_betas', ascending=False)['betas'][:15].index,\n",
    "         betas.sort_values('abs_betas', ascending=False)['betas'][:15])\n",
    "plt.yticks(fontsize=20)\n",
    "plt.xticks(fontsize=20)\n",
    "plt.xlabel('Weights', fontsize=30)\n",
    "plt.ylabel('Features', fontsize=30)\n",
    "plt.title(f'Most Important Features and Weights\\ny intercept: ${beta_0:0.02f}', fontsize=42)\n",
    "plt.tight_layout()"
   ]
  },
  {
   "cell_type": "code",
   "execution_count": 31,
   "metadata": {},
   "outputs": [],
   "source": [
    "ridge_predict = ridge.predict(X_test_sc)"
   ]
  },
  {
   "cell_type": "code",
   "execution_count": 32,
   "metadata": {},
   "outputs": [
    {
     "data": {
      "text/plain": [
       "43412731789.106186"
      ]
     },
     "execution_count": 32,
     "metadata": {},
     "output_type": "execute_result"
    }
   ],
   "source": [
    "mean_squared_error(y_test, ridge_predict)"
   ]
  },
  {
   "cell_type": "code",
   "execution_count": 33,
   "metadata": {},
   "outputs": [
    {
     "data": {
      "text/plain": [
       "208357.22159096427"
      ]
     },
     "execution_count": 33,
     "metadata": {},
     "output_type": "execute_result"
    }
   ],
   "source": [
    "np.sqrt(mean_squared_error(y_test, ridge_predict))"
   ]
  },
  {
   "cell_type": "markdown",
   "metadata": {},
   "source": [
    "### Model Obsevation\n",
    "\n",
    "- Our model performs reasonably on aggregate home groups that have lower average prices. \n",
    "\n",
    "- On more expensive homes, the model performs poorly compared to lower priced clusters\n",
    "\n",
    "\n",
    "This is expected because the more expensive home clusters did not have as many observed restaurant in its group. We need to find more restaurants in those areas if possible."
   ]
  },
  {
   "cell_type": "code",
   "execution_count": 34,
   "metadata": {},
   "outputs": [
    {
     "data": {
      "image/png": "[encoded data removed]",
      "text/plain": [
       "<Figure size 1440x720 with 1 Axes>"
      ]
     },
     "metadata": {
      "needs_background": "light"
     },
     "output_type": "display_data"
    }
   ],
   "source": [
    "plt.figure(figsize=(20,10))\n",
    "x_max = y_test.max()\n",
    "y_max = ridge_predict.max()\n",
    "plt.scatter(y_test, ridge_predict, c='blue')\n",
    "plt.title('Actual vs Predicted Home Value', fontsize=40)\n",
    "plt.plot([0, 1_800_000], [0, 1_800_000], lw=5, ls='--',c='red')\n",
    "plt.xlabel('Actual Home Value $', fontsize=30)\n",
    "plt.ylabel('Predicted Home Value $', fontsize=30)\n",
    "plt.xlim([0, 1_800_000])\n",
    "plt.ylim([0, 1_800_000]);"
   ]
  },
  {
   "cell_type": "markdown",
   "metadata": {},
   "source": [
    "### Statistical Significance\n",
    "\n",
    "Examining whether or not our features are statistically significant (with a P-Value of less than Alpha, or 0.05)."
   ]
  },
  {
   "cell_type": "code",
   "execution_count": 45,
   "metadata": {},
   "outputs": [],
   "source": [
    "sm_index = sm.OLS(y, X).fit()"
   ]
  },
  {
   "cell_type": "code",
   "execution_count": 90,
   "metadata": {},
   "outputs": [],
   "source": [
    "stats_index = sm_index.params"
   ]
  },
  {
   "cell_type": "code",
   "execution_count": 91,
   "metadata": {},
   "outputs": [],
   "source": [
    "sm_model = sm.OLS(y, X).fit()"
   ]
  },
  {
   "cell_type": "code",
   "execution_count": 92,
   "metadata": {
    "scrolled": false
   },
   "outputs": [
    {
     "data": {
      "text/html": [
       "<table class=\"simpletable\">\n",
       "<tr>\n",
       "        <td>Model:</td>               <td>OLS</td>         <td>Adj. R-squared:</td>      <td>0.945</td>  \n",
       "</tr>\n",
       "<tr>\n",
       "  <td>Dependent Variable:</td>       <td>value</td>             <td>AIC:</td>          <td>2824.1834</td>\n",
       "</tr>\n",
       "<tr>\n",
       "         <td>Date:</td>        <td>2019-04-26 09:51</td>        <td>BIC:</td>          <td>2995.4408</td>\n",
       "</tr>\n",
       "<tr>\n",
       "   <td>No. Observations:</td>         <td>103</td>         <td>Log-Likelihood:</td>     <td>-1347.1</td> \n",
       "</tr>\n",
       "<tr>\n",
       "       <td>Df Model:</td>             <td>65</td>           <td>F-statistic:</td>        <td>28.08</td>  \n",
       "</tr>\n",
       "<tr>\n",
       "     <td>Df Residuals:</td>           <td>38</td>        <td>Prob (F-statistic):</td>  <td>1.58e-19</td> \n",
       "</tr>\n",
       "<tr>\n",
       "      <td>R-squared:</td>            <td>0.980</td>            <td>Scale:</td>        <td>3.6347e+10</td>\n",
       "</tr>\n",
       "</table>\n",
       "<table class=\"simpletable\">\n",
       "<tr>\n",
       "            <td></td>                <th>Coef.</th>       <th>Std.Err.</th>      <th>t</th>     <th>P>|t|</th>    <th>[0.025</th>        <th>0.975]</th>    \n",
       "</tr>\n",
       "<tr>\n",
       "  <th>distance_centroid</th>     <td>43328956.9138</td> <td>4722428.2903</td> <td>9.1751</td>  <td>0.0000</td> <td>33768900.6404</td> <td>52889013.1872</td>\n",
       "</tr>\n",
       "<tr>\n",
       "  <th>price_1.0</th>              <td>-6125.4884</td>    <td>19125.8265</td>  <td>-0.3203</td> <td>0.7505</td>  <td>-44843.6999</td>   <td>32592.7230</td>  \n",
       "</tr>\n",
       "<tr>\n",
       "  <th>price_2.0</th>               <td>-508.2784</td>    <td>19207.8695</td>  <td>-0.0265</td> <td>0.9790</td>  <td>-39392.5772</td>   <td>38376.0205</td>  \n",
       "</tr>\n",
       "<tr>\n",
       "  <th>price_3.0</th>              <td>-8730.5351</td>    <td>19832.9030</td>  <td>-0.4402</td> <td>0.6623</td>  <td>-48880.1481</td>   <td>31419.0780</td>  \n",
       "</tr>\n",
       "<tr>\n",
       "  <th>price_4.0</th>              <td>-10483.6298</td>   <td>18911.1486</td>  <td>-0.5544</td> <td>0.5826</td>  <td>-48767.2486</td>   <td>27799.9891</td>  \n",
       "</tr>\n",
       "<tr>\n",
       "  <th>rating_0.0</th>             <td>-41163.7369</td>   <td>260042.8797</td> <td>-0.1583</td> <td>0.8751</td> <td>-567593.0250</td>   <td>485265.5513</td> \n",
       "</tr>\n",
       "<tr>\n",
       "  <th>rating_1.0</th>              <td>2555.6724</td>    <td>35224.8604</td>  <td>0.0726</td>  <td>0.9425</td>  <td>-68753.3294</td>   <td>73864.6743</td>  \n",
       "</tr>\n",
       "<tr>\n",
       "  <th>rating_1.5</th>              <td>1495.8891</td>    <td>22919.8098</td>  <td>0.0653</td>  <td>0.9483</td>  <td>-44902.8402</td>   <td>47894.6184</td>  \n",
       "</tr>\n",
       "<tr>\n",
       "  <th>rating_2.0</th>             <td>-1869.1876</td>    <td>22988.9873</td>  <td>-0.0813</td> <td>0.9356</td>  <td>-48407.9594</td>   <td>44669.5842</td>  \n",
       "</tr>\n",
       "<tr>\n",
       "  <th>rating_2.5</th>              <td>-311.6920</td>    <td>21185.0050</td>  <td>-0.0147</td> <td>0.9883</td>  <td>-43198.4924</td>   <td>42575.1085</td>  \n",
       "</tr>\n",
       "<tr>\n",
       "  <th>rating_3.0</th>             <td>-4349.8064</td>    <td>20622.1894</td>  <td>-0.2109</td> <td>0.8341</td>  <td>-46097.2463</td>   <td>37397.6335</td>  \n",
       "</tr>\n",
       "<tr>\n",
       "  <th>rating_3.5</th>              <td>4569.4633</td>    <td>19238.0176</td>  <td>0.2375</td>  <td>0.8135</td>  <td>-34375.8672</td>   <td>43514.7938</td>  \n",
       "</tr>\n",
       "<tr>\n",
       "  <th>rating_4.0</th>              <td>3195.3797</td>    <td>22234.1744</td>  <td>0.1437</td>  <td>0.8865</td>  <td>-41815.3532</td>   <td>48206.1126</td>  \n",
       "</tr>\n",
       "<tr>\n",
       "  <th>rating_4.5</th>              <td>1820.8320</td>    <td>20020.3830</td>  <td>0.0909</td>  <td>0.9280</td>  <td>-38708.3145</td>   <td>42349.9785</td>  \n",
       "</tr>\n",
       "<tr>\n",
       "  <th>rating_5.0</th>              <td>8209.2546</td>    <td>20837.6213</td>  <td>0.3940</td>  <td>0.6958</td>  <td>-33974.3044</td>   <td>50392.8137</td>  \n",
       "</tr>\n",
       "<tr>\n",
       "  <th>type_aa_other</th>           <td>7968.4846</td>     <td>4047.9598</td>  <td>1.9685</td>  <td>0.0563</td>   <td>-226.1816</td>    <td>16163.1508</td>  \n",
       "</tr>\n",
       "<tr>\n",
       "  <th>type_asianfusion</th>       <td>73536.0199</td>    <td>30577.2079</td>  <td>2.4049</td>  <td>0.0212</td>  <td>11635.6987</td>    <td>135436.3412</td> \n",
       "</tr>\n",
       "<tr>\n",
       "  <th>type_bakeries</th>           <td>9842.9958</td>    <td>11480.8885</td>  <td>0.8573</td>  <td>0.3966</td>  <td>-13398.8478</td>   <td>33084.8395</td>  \n",
       "</tr>\n",
       "<tr>\n",
       "  <th>type_bars</th>              <td>-2212.9735</td>    <td>14930.5523</td>  <td>-0.1482</td> <td>0.8830</td>  <td>-32438.2965</td>   <td>28012.3494</td>  \n",
       "</tr>\n",
       "<tr>\n",
       "  <th>type_bbq</th>               <td>15995.7975</td>    <td>18333.6579</td>  <td>0.8725</td>  <td>0.3884</td>  <td>-21118.7525</td>   <td>53110.3475</td>  \n",
       "</tr>\n",
       "<tr>\n",
       "  <th>type_breakfast_brunch</th>  <td>-10621.9096</td>   <td>11446.0446</td>  <td>-0.9280</td> <td>0.3593</td>  <td>-33793.2156</td>   <td>12549.3964</td>  \n",
       "</tr>\n",
       "<tr>\n",
       "  <th>type_burgers</th>           <td>-2927.0093</td>     <td>7860.5895</td>  <td>-0.3724</td> <td>0.7117</td>  <td>-18839.9409</td>   <td>12985.9223</td>  \n",
       "</tr>\n",
       "<tr>\n",
       "  <th>type_cafes</th>              <td>167.7923</td>     <td>14694.0656</td>  <td>0.0114</td>  <td>0.9909</td>  <td>-29578.7884</td>   <td>29914.3731</td>  \n",
       "</tr>\n",
       "<tr>\n",
       "  <th>type_chicken_wings</th>     <td>-17941.4693</td>   <td>15248.4807</td>  <td>-1.1766</td> <td>0.2467</td>  <td>-48810.4047</td>   <td>12927.4661</td>  \n",
       "</tr>\n",
       "<tr>\n",
       "  <th>type_chinese</th>           <td>-9404.4000</td>     <td>7880.5543</td>  <td>-1.1934</td> <td>0.2401</td>  <td>-25357.7481</td>    <td>6548.9481</td>  \n",
       "</tr>\n",
       "<tr>\n",
       "  <th>type_cocktailbars</th>      <td>-32875.1637</td>   <td>25089.6930</td>  <td>-1.3103</td> <td>0.1980</td>  <td>-83666.5918</td>   <td>17916.2644</td>  \n",
       "</tr>\n",
       "<tr>\n",
       "  <th>type_coffee</th>             <td>488.3545</td>      <td>8848.6858</td>  <td>0.0552</td>  <td>0.9563</td>  <td>-17424.8734</td>   <td>18401.5825</td>  \n",
       "</tr>\n",
       "<tr>\n",
       "  <th>type_convenience</th>       <td>19235.2608</td>    <td>20759.5341</td>  <td>0.9266</td>  <td>0.3600</td>  <td>-22790.2189</td>   <td>61260.7406</td>  \n",
       "</tr>\n",
       "<tr>\n",
       "  <th>type_delis</th>             <td>34099.0729</td>    <td>15417.2939</td>  <td>2.2117</td>  <td>0.0331</td>   <td>2888.3932</td>    <td>65309.7526</td>  \n",
       "</tr>\n",
       "<tr>\n",
       "  <th>type_desserts</th>          <td>-41242.6198</td>   <td>15765.3793</td>  <td>-2.6160</td> <td>0.0127</td>  <td>-73157.9617</td>   <td>-9327.2778</td>  \n",
       "</tr>\n",
       "<tr>\n",
       "  <th>type_diners</th>            <td>-38273.5849</td>   <td>20336.2007</td>  <td>-1.8820</td> <td>0.0675</td>  <td>-79442.0709</td>    <td>2894.9012</td>  \n",
       "</tr>\n",
       "<tr>\n",
       "  <th>type_divebars</th>          <td>18259.3691</td>    <td>36576.2643</td>  <td>0.4992</td>  <td>0.6205</td>  <td>-55785.4070</td>   <td>92304.1452</td>  \n",
       "</tr>\n",
       "<tr>\n",
       "  <th>type_donuts</th>             <td>-758.7913</td>    <td>14594.8685</td>  <td>-0.0520</td> <td>0.9588</td>  <td>-30304.5579</td>   <td>28786.9754</td>  \n",
       "</tr>\n",
       "<tr>\n",
       "  <th>type_filipino</th>          <td>-4117.6801</td>     <td>8590.0781</td>  <td>-0.4794</td> <td>0.6344</td>  <td>-21507.3841</td>   <td>13272.0238</td>  \n",
       "</tr>\n",
       "<tr>\n",
       "  <th>type_foodstands</th>        <td>25467.2310</td>    <td>22668.0568</td>  <td>1.1235</td>  <td>0.2683</td>  <td>-20421.8508</td>   <td>71356.3129</td>  \n",
       "</tr>\n",
       "<tr>\n",
       "  <th>type_foodtrucks</th>         <td>9257.2993</td>     <td>7781.4529</td>  <td>1.1897</td>  <td>0.2416</td>  <td>-6495.4286</td>    <td>25010.0272</td>  \n",
       "</tr>\n",
       "<tr>\n",
       "  <th>type_french</th>            <td>-64574.2876</td>   <td>24661.4715</td>  <td>-2.6184</td> <td>0.0126</td> <td>-114498.8266</td>   <td>-14649.7486</td> \n",
       "</tr>\n",
       "<tr>\n",
       "  <th>type_grocery</th>           <td>14473.3153</td>    <td>17190.8761</td>  <td>0.8419</td>  <td>0.4051</td>  <td>-20327.7939</td>   <td>49274.4244</td>  \n",
       "</tr>\n",
       "<tr>\n",
       "  <th>type_hotdogs</th>           <td>-4711.7002</td>    <td>12697.6144</td>  <td>-0.3711</td> <td>0.7126</td>  <td>-30416.6767</td>   <td>20993.2763</td>  \n",
       "</tr>\n",
       "<tr>\n",
       "  <th>type_icecream</th>          <td>35433.0567</td>    <td>13880.9211</td>  <td>2.5526</td>  <td>0.0148</td>   <td>7332.6010</td>    <td>63533.5124</td>  \n",
       "</tr>\n",
       "<tr>\n",
       "  <th>type_indpak</th>             <td>484.8197</td>     <td>18754.9560</td>  <td>0.0259</td>  <td>0.9795</td>  <td>-37482.6037</td>   <td>38452.2431</td>  \n",
       "</tr>\n",
       "<tr>\n",
       "  <th>type_italian</th>           <td>26719.3710</td>    <td>10573.3633</td>  <td>2.5270</td>  <td>0.0158</td>   <td>5314.7160</td>    <td>48124.0259</td>  \n",
       "</tr>\n",
       "<tr>\n",
       "  <th>type_japanese</th>           <td>3468.9792</td>     <td>8153.9217</td>  <td>0.4254</td>  <td>0.6729</td>  <td>-13037.7722</td>   <td>19975.7307</td>  \n",
       "</tr>\n",
       "<tr>\n",
       "  <th>type_juicebars</th>         <td>50661.7074</td>    <td>22723.1939</td>  <td>2.2295</td>  <td>0.0318</td>   <td>4661.0062</td>    <td>96662.4086</td>  \n",
       "</tr>\n",
       "<tr>\n",
       "  <th>type_korean</th>             <td>-549.6652</td>     <td>3499.3062</td>  <td>-0.1571</td> <td>0.8760</td>  <td>-7633.6402</td>     <td>6534.3098</td>  \n",
       "</tr>\n",
       "<tr>\n",
       "  <th>type_latin</th>             <td>-7390.0743</td>    <td>13167.3299</td>  <td>-0.5612</td> <td>0.5779</td>  <td>-34045.9401</td>   <td>19265.7915</td>  \n",
       "</tr>\n",
       "<tr>\n",
       "  <th>type_lounges</th>           <td>10229.7377</td>    <td>23982.8942</td>  <td>0.4265</td>  <td>0.6721</td>  <td>-38321.0934</td>   <td>58780.5687</td>  \n",
       "</tr>\n",
       "<tr>\n",
       "  <th>type_mediterranean</th>     <td>-4288.5922</td>    <td>15184.4951</td>  <td>-0.2824</td> <td>0.7791</td>  <td>-35027.9955</td>   <td>26450.8111</td>  \n",
       "</tr>\n",
       "<tr>\n",
       "  <th>type_mexican</th>            <td>676.8724</td>      <td>3784.1061</td>  <td>0.1789</td>  <td>0.8590</td>  <td>-6983.6499</td>     <td>8337.3948</td>  \n",
       "</tr>\n",
       "<tr>\n",
       "  <th>type_mideastern</th>        <td>-20455.9841</td>   <td>23083.3209</td>  <td>-0.8862</td> <td>0.3811</td>  <td>-67185.7242</td>   <td>26273.7560</td>  \n",
       "</tr>\n",
       "<tr>\n",
       "  <th>type_newamerican</th>        <td>6924.6991</td>     <td>6556.1357</td>  <td>1.0562</td>  <td>0.2975</td>  <td>-6347.5038</td>    <td>20196.9020</td>  \n",
       "</tr>\n",
       "<tr>\n",
       "  <th>type_persian</th>           <td>-45725.3644</td>   <td>30485.9213</td>  <td>-1.4999</td> <td>0.1419</td> <td>-107440.8855</td>   <td>15990.1567</td>  \n",
       "</tr>\n",
       "<tr>\n",
       "  <th>type_pizza</th>             <td>-3858.1008</td>     <td>7011.0842</td>  <td>-0.5503</td> <td>0.5853</td>  <td>-18051.2987</td>   <td>10335.0971</td>  \n",
       "</tr>\n",
       "<tr>\n",
       "  <th>type_ramen</th>             <td>-46037.6358</td>   <td>20575.0328</td>  <td>-2.2375</td> <td>0.0312</td>  <td>-87689.6121</td>   <td>-4385.6595</td>  \n",
       "</tr>\n",
       "<tr>\n",
       "  <th>type_salad</th>             <td>-42470.0929</td>   <td>23572.1044</td>  <td>-1.8017</td> <td>0.0795</td>  <td>-90189.3235</td>    <td>5249.1378</td>  \n",
       "</tr>\n",
       "<tr>\n",
       "  <th>type_salvadoran</th>        <td>25104.3732</td>    <td>11972.9601</td>  <td>2.0968</td>  <td>0.0427</td>   <td>866.3827</td>     <td>49342.3637</td>  \n",
       "</tr>\n",
       "<tr>\n",
       "  <th>type_sandwiches</th>         <td>6915.2816</td>     <td>9390.9973</td>  <td>0.7364</td>  <td>0.4660</td>  <td>-12095.7986</td>   <td>25926.3619</td>  \n",
       "</tr>\n",
       "<tr>\n",
       "  <th>type_seafood</th>           <td>-11174.9441</td>   <td>12294.7623</td>  <td>-0.9089</td> <td>0.3691</td>  <td>-36064.3893</td>   <td>13714.5010</td>  \n",
       "</tr>\n",
       "<tr>\n",
       "  <th>type_sportsbars</th>         <td>9656.8626</td>    <td>26258.5762</td>  <td>0.3678</td>  <td>0.7151</td>  <td>-43500.8458</td>   <td>62814.5709</td>  \n",
       "</tr>\n",
       "<tr>\n",
       "  <th>type_streetvendors</th>     <td>-39597.4868</td>   <td>20052.5326</td>  <td>-1.9747</td> <td>0.0556</td>  <td>-80191.7168</td>    <td>996.7431</td>   \n",
       "</tr>\n",
       "<tr>\n",
       "  <th>type_sushi</th>              <td>2949.3149</td>    <td>10660.2229</td>  <td>0.2767</td>  <td>0.7835</td>  <td>-18631.1782</td>   <td>24529.8080</td>  \n",
       "</tr>\n",
       "<tr>\n",
       "  <th>type_tacos</th>             <td>26437.6348</td>    <td>18263.0159</td>  <td>1.4476</td>  <td>0.1559</td>  <td>-10533.9079</td>   <td>63409.1776</td>  \n",
       "</tr>\n",
       "<tr>\n",
       "  <th>type_thai</th>               <td>7300.9577</td>     <td>5896.1807</td>  <td>1.2383</td>  <td>0.2232</td>  <td>-4635.2361</td>    <td>19237.1515</td>  \n",
       "</tr>\n",
       "<tr>\n",
       "  <th>type_tradamerican</th>      <td>19635.6000</td>    <td>11995.7202</td>  <td>1.6369</td>  <td>0.1099</td>  <td>-4648.4660</td>    <td>43919.6659</td>  \n",
       "</tr>\n",
       "<tr>\n",
       "  <th>type_vegan</th>             <td>-39067.7230</td>   <td>19430.7831</td>  <td>-2.0106</td> <td>0.0515</td>  <td>-78403.2869</td>    <td>267.8409</td>   \n",
       "</tr>\n",
       "<tr>\n",
       "  <th>type_vietnamese</th>        <td>32452.2699</td>    <td>17385.3465</td>  <td>1.8666</td>  <td>0.0697</td>  <td>-2742.5241</td>    <td>67647.0639</td>  \n",
       "</tr>\n",
       "<tr>\n",
       "  <th>type_wine_bars</th>         <td>-29413.2100</td>   <td>22479.6302</td>  <td>-1.3084</td> <td>0.1986</td>  <td>-74920.8422</td>   <td>16094.4222</td>  \n",
       "</tr>\n",
       "</table>\n",
       "<table class=\"simpletable\">\n",
       "<tr>\n",
       "     <td>Omnibus:</td>    <td>3.237</td>  <td>Durbin-Watson:</td>         <td>2.007</td>      \n",
       "</tr>\n",
       "<tr>\n",
       "  <td>Prob(Omnibus):</td> <td>0.198</td> <td>Jarque-Bera (JB):</td>       <td>2.623</td>      \n",
       "</tr>\n",
       "<tr>\n",
       "       <td>Skew:</td>     <td>0.294</td>     <td>Prob(JB):</td>           <td>0.269</td>      \n",
       "</tr>\n",
       "<tr>\n",
       "     <td>Kurtosis:</td>   <td>3.516</td>  <td>Condition No.:</td>   <td>12797446390160712</td>\n",
       "</tr>\n",
       "</table>"
      ],
      "text/plain": [
       "<class 'statsmodels.iolib.summary2.Summary'>\n",
       "\"\"\"\n",
       "                              Results: Ordinary least squares\n",
       "===========================================================================================\n",
       "Model:                      OLS                      Adj. R-squared:             0.945     \n",
       "Dependent Variable:         value                    AIC:                        2824.1834 \n",
       "Date:                       2019-04-26 09:51         BIC:                        2995.4408 \n",
       "No. Observations:           103                      Log-Likelihood:             -1347.1   \n",
       "Df Model:                   65                       F-statistic:                28.08     \n",
       "Df Residuals:               38                       Prob (F-statistic):         1.58e-19  \n",
       "R-squared:                  0.980                    Scale:                      3.6347e+10\n",
       "-------------------------------------------------------------------------------------------\n",
       "                          Coef.       Std.Err.      t    P>|t|      [0.025        0.975]   \n",
       "-------------------------------------------------------------------------------------------\n",
       "distance_centroid     43328956.9138 4722428.2903  9.1751 0.0000 33768900.6404 52889013.1872\n",
       "price_1.0                -6125.4884   19125.8265 -0.3203 0.7505   -44843.6999    32592.7230\n",
       "price_2.0                 -508.2784   19207.8695 -0.0265 0.9790   -39392.5772    38376.0205\n",
       "price_3.0                -8730.5351   19832.9030 -0.4402 0.6623   -48880.1481    31419.0780\n",
       "price_4.0               -10483.6298   18911.1486 -0.5544 0.5826   -48767.2486    27799.9891\n",
       "rating_0.0              -41163.7369  260042.8797 -0.1583 0.8751  -567593.0250   485265.5513\n",
       "rating_1.0                2555.6724   35224.8604  0.0726 0.9425   -68753.3294    73864.6743\n",
       "rating_1.5                1495.8891   22919.8098  0.0653 0.9483   -44902.8402    47894.6184\n",
       "rating_2.0               -1869.1876   22988.9873 -0.0813 0.9356   -48407.9594    44669.5842\n",
       "rating_2.5                -311.6920   21185.0050 -0.0147 0.9883   -43198.4924    42575.1085\n",
       "rating_3.0               -4349.8064   20622.1894 -0.2109 0.8341   -46097.2463    37397.6335\n",
       "rating_3.5                4569.4633   19238.0176  0.2375 0.8135   -34375.8672    43514.7938\n",
       "rating_4.0                3195.3797   22234.1744  0.1437 0.8865   -41815.3532    48206.1126\n",
       "rating_4.5                1820.8320   20020.3830  0.0909 0.9280   -38708.3145    42349.9785\n",
       "rating_5.0                8209.2546   20837.6213  0.3940 0.6958   -33974.3044    50392.8137\n",
       "type_aa_other             7968.4846    4047.9598  1.9685 0.0563     -226.1816    16163.1508\n",
       "type_asianfusion         73536.0199   30577.2079  2.4049 0.0212    11635.6987   135436.3412\n",
       "type_bakeries             9842.9958   11480.8885  0.8573 0.3966   -13398.8478    33084.8395\n",
       "type_bars                -2212.9735   14930.5523 -0.1482 0.8830   -32438.2965    28012.3494\n",
       "type_bbq                 15995.7975   18333.6579  0.8725 0.3884   -21118.7525    53110.3475\n",
       "type_breakfast_brunch   -10621.9096   11446.0446 -0.9280 0.3593   -33793.2156    12549.3964\n",
       "type_burgers             -2927.0093    7860.5895 -0.3724 0.7117   -18839.9409    12985.9223\n",
       "type_cafes                 167.7923   14694.0656  0.0114 0.9909   -29578.7884    29914.3731\n",
       "type_chicken_wings      -17941.4693   15248.4807 -1.1766 0.2467   -48810.4047    12927.4661\n",
       "type_chinese             -9404.4000    7880.5543 -1.1934 0.2401   -25357.7481     6548.9481\n",
       "type_cocktailbars       -32875.1637   25089.6930 -1.3103 0.1980   -83666.5918    17916.2644\n",
       "type_coffee                488.3545    8848.6858  0.0552 0.9563   -17424.8734    18401.5825\n",
       "type_convenience         19235.2608   20759.5341  0.9266 0.3600   -22790.2189    61260.7406\n",
       "type_delis               34099.0729   15417.2939  2.2117 0.0331     2888.3932    65309.7526\n",
       "type_desserts           -41242.6198   15765.3793 -2.6160 0.0127   -73157.9617    -9327.2778\n",
       "type_diners             -38273.5849   20336.2007 -1.8820 0.0675   -79442.0709     2894.9012\n",
       "type_divebars            18259.3691   36576.2643  0.4992 0.6205   -55785.4070    92304.1452\n",
       "type_donuts               -758.7913   14594.8685 -0.0520 0.9588   -30304.5579    28786.9754\n",
       "type_filipino            -4117.6801    8590.0781 -0.4794 0.6344   -21507.3841    13272.0238\n",
       "type_foodstands          25467.2310   22668.0568  1.1235 0.2683   -20421.8508    71356.3129\n",
       "type_foodtrucks           9257.2993    7781.4529  1.1897 0.2416    -6495.4286    25010.0272\n",
       "type_french             -64574.2876   24661.4715 -2.6184 0.0126  -114498.8266   -14649.7486\n",
       "type_grocery             14473.3153   17190.8761  0.8419 0.4051   -20327.7939    49274.4244\n",
       "type_hotdogs             -4711.7002   12697.6144 -0.3711 0.7126   -30416.6767    20993.2763\n",
       "type_icecream            35433.0567   13880.9211  2.5526 0.0148     7332.6010    63533.5124\n",
       "type_indpak                484.8197   18754.9560  0.0259 0.9795   -37482.6037    38452.2431\n",
       "type_italian             26719.3710   10573.3633  2.5270 0.0158     5314.7160    48124.0259\n",
       "type_japanese             3468.9792    8153.9217  0.4254 0.6729   -13037.7722    19975.7307\n",
       "type_juicebars           50661.7074   22723.1939  2.2295 0.0318     4661.0062    96662.4086\n",
       "type_korean               -549.6652    3499.3062 -0.1571 0.8760    -7633.6402     6534.3098\n",
       "type_latin               -7390.0743   13167.3299 -0.5612 0.5779   -34045.9401    19265.7915\n",
       "type_lounges             10229.7377   23982.8942  0.4265 0.6721   -38321.0934    58780.5687\n",
       "type_mediterranean       -4288.5922   15184.4951 -0.2824 0.7791   -35027.9955    26450.8111\n",
       "type_mexican               676.8724    3784.1061  0.1789 0.8590    -6983.6499     8337.3948\n",
       "type_mideastern         -20455.9841   23083.3209 -0.8862 0.3811   -67185.7242    26273.7560\n",
       "type_newamerican          6924.6991    6556.1357  1.0562 0.2975    -6347.5038    20196.9020\n",
       "type_persian            -45725.3644   30485.9213 -1.4999 0.1419  -107440.8855    15990.1567\n",
       "type_pizza               -3858.1008    7011.0842 -0.5503 0.5853   -18051.2987    10335.0971\n",
       "type_ramen              -46037.6358   20575.0328 -2.2375 0.0312   -87689.6121    -4385.6595\n",
       "type_salad              -42470.0929   23572.1044 -1.8017 0.0795   -90189.3235     5249.1378\n",
       "type_salvadoran          25104.3732   11972.9601  2.0968 0.0427      866.3827    49342.3637\n",
       "type_sandwiches           6915.2816    9390.9973  0.7364 0.4660   -12095.7986    25926.3619\n",
       "type_seafood            -11174.9441   12294.7623 -0.9089 0.3691   -36064.3893    13714.5010\n",
       "type_sportsbars           9656.8626   26258.5762  0.3678 0.7151   -43500.8458    62814.5709\n",
       "type_streetvendors      -39597.4868   20052.5326 -1.9747 0.0556   -80191.7168      996.7431\n",
       "type_sushi                2949.3149   10660.2229  0.2767 0.7835   -18631.1782    24529.8080\n",
       "type_tacos               26437.6348   18263.0159  1.4476 0.1559   -10533.9079    63409.1776\n",
       "type_thai                 7300.9577    5896.1807  1.2383 0.2232    -4635.2361    19237.1515\n",
       "type_tradamerican        19635.6000   11995.7202  1.6369 0.1099    -4648.4660    43919.6659\n",
       "type_vegan              -39067.7230   19430.7831 -2.0106 0.0515   -78403.2869      267.8409\n",
       "type_vietnamese          32452.2699   17385.3465  1.8666 0.0697    -2742.5241    67647.0639\n",
       "type_wine_bars          -29413.2100   22479.6302 -1.3084 0.1986   -74920.8422    16094.4222\n",
       "-------------------------------------------------------------------------------------------\n",
       "Omnibus:                    3.237            Durbin-Watson:               2.007            \n",
       "Prob(Omnibus):              0.198            Jarque-Bera (JB):            2.623            \n",
       "Skew:                       0.294            Prob(JB):                    0.269            \n",
       "Kurtosis:                   3.516            Condition No.:               12797446390160712\n",
       "===========================================================================================\n",
       "* The condition number is large (1e+16). This might indicate             strong\n",
       "multicollinearity or other numerical problems.\n",
       "\"\"\""
      ]
     },
     "execution_count": 92,
     "metadata": {},
     "output_type": "execute_result"
    }
   ],
   "source": [
    "sm_model.summary2()"
   ]
  },
  {
   "cell_type": "code",
   "execution_count": 98,
   "metadata": {},
   "outputs": [],
   "source": [
    "stats_value = sm_model.params"
   ]
  },
  {
   "cell_type": "code",
   "execution_count": 99,
   "metadata": {},
   "outputs": [],
   "source": [
    "pvals = sm_model.pvalues"
   ]
  },
  {
   "cell_type": "code",
   "execution_count": 100,
   "metadata": {},
   "outputs": [],
   "source": [
    "stats_df = pd.DataFrame(stats_index)"
   ]
  },
  {
   "cell_type": "code",
   "execution_count": 105,
   "metadata": {},
   "outputs": [],
   "source": [
    "stats_df[0]=stats_value.values\n",
    "stats_df['pvals'] = pvals.values"
   ]
  },
  {
   "cell_type": "code",
   "execution_count": 128,
   "metadata": {},
   "outputs": [
    {
     "data": {
      "text/plain": [
       "distance_centroid    0.000000\n",
       "type_asianfusion     0.021153\n",
       "type_delis           0.033072\n",
       "type_desserts        0.012692\n",
       "type_french          0.012617\n",
       "type_icecream        0.014831\n",
       "type_italian         0.015785\n",
       "type_juicebars       0.031767\n",
       "type_ramen           0.031192\n",
       "type_salvadoran      0.042725\n",
       "Name: pvals, dtype: float64"
      ]
     },
     "execution_count": 128,
     "metadata": {},
     "output_type": "execute_result"
    }
   ],
   "source": [
    "stats_df['pvals'][stats_df['pvals'] <= 0.05].round(6)"
   ]
  },
  {
   "cell_type": "code",
   "execution_count": 116,
   "metadata": {},
   "outputs": [],
   "source": [
    "import matplotlib.pyplot as plt"
   ]
  },
  {
   "cell_type": "markdown",
   "metadata": {},
   "source": [
    "**Most of our features were not statstically significant.**\n",
    "\n",
    "Distance from the Centroid and Italian Restaurants were the only statistically signifcant features of our top 15 beta weights."
   ]
  },
  {
   "cell_type": "code",
   "execution_count": 130,
   "metadata": {},
   "outputs": [
    {
     "data": {
      "image/png": "[encoded data removed]",
      "text/plain": [
       "<Figure size 1440x720 with 1 Axes>"
      ]
     },
     "metadata": {
      "needs_background": "light"
     },
     "output_type": "display_data"
    }
   ],
   "source": [
    "plt.figure(figsize =(20,10))\n",
    "bar_width = 0.5\n",
    "ind = stats_df['pvals'][stats_df['pvals'] <= 0.05].round(2).index\n",
    "plt.bar(ind, stats_df['pvals'][stats_df['pvals'] <= 0.05].round(2), bar_width, color='firebrick', align='center')\n",
    "plt.tick_params(axis='x', labelsize=15, labelrotation=90)\n",
    "plt.tick_params(axis='y', labelsize=15, labelrotation=0)\n",
    "\n",
    "plt.title('P Values that are Statistcally Significant', fontsize=28)\n",
    "plt.ylabel('P Values', fontsize=20)\n",
    "plt.xlabel('Feature', fontsize=20)\n",
    "plt.ylim(0, 0.05);"
   ]
  },
  {
   "cell_type": "code",
   "execution_count": null,
   "metadata": {},
   "outputs": [],
   "source": []
  }
 ],
 "metadata": {
  "kernelspec": {
   "display_name": "Python 3",
   "language": "python",
   "name": "python3"
  },
  "language_info": {
   "codemirror_mode": {
    "name": "ipython",
    "version": 3
   },
   "file_extension": ".py",
   "mimetype": "text/x-python",
   "name": "python",
   "nbconvert_exporter": "python",
   "pygments_lexer": "ipython3",
   "version": "3.7.1"
  }
 },
 "nbformat": 4,
 "nbformat_minor": 2
}
