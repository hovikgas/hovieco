{
 "cells": [
  {
   "cell_type": "markdown",
   "metadata": {},
   "source": [
    "# Instructions for Building the Restaurant Map Using Dash and Flask"
   ]
  },
  {
   "cell_type": "markdown",
   "metadata": {},
   "source": [
    "### Objectives:\n",
    "\n",
    "-  Setup virtual environment for Flask/Dash app\n",
    "-  Write our first route and link it to a simple html index page\n",
    "-  Connect a dash server to live on our Flask app\n",
    "-  Create line, scatter, and choropleth visualizations on the Dashboard"
   ]
  },
  {
   "cell_type": "markdown",
   "metadata": {},
   "source": [
    "## Installation"
   ]
  },
  {
   "cell_type": "markdown",
   "metadata": {},
   "source": [
    "To get started, we will need a fresh virtual environment. Hopefully you have already run the following installs, as they may take some time: "
   ]
  },
  {
   "cell_type": "markdown",
   "metadata": {},
   "source": [
    "```$ conda install virtualenv\n",
    "$ virtualenv plotlybox\n",
    "$ source plotlybox/bin/activate```\n",
    "\n",
    "Once you have the virtualenv running (you should no longer see (dsi) but instead (plotlybox) next to your username), we need to do some installations to make sure everything will work. \n",
    "\n",
    "`$ pip install Flask pandas scikit-learn scipy plotly dash dash-html-components dash-core-components dash-table pandas_datareader flask_cors datetime`"
   ]
  },
  {
   "cell_type": "markdown",
   "metadata": {},
   "source": [
    "## Setting up your first webserver (Flask)\n",
    "\n",
    "Okay, now we are ready to build some code. Let's start with a simple flask app. \n",
    "\n",
    "```$ touch dashboard.py\n",
    "$ open dashboard.py```\n",
    "\n",
    "Note: I have my atom linked to sublime text. Your open command may choose another text editor or Integrated Development Environment. As long as it gives you the ability to edit text and then save it, you should be good.  "
   ]
  },
  {
   "cell_type": "markdown",
   "metadata": {},
   "source": [
    "The Flask website instructs us to copy and paste the following code into our now open file, save it, then run it with a special Flask command. Let's follow their directions to get started. \n",
    "\n",
    "```\n",
    "from flask import Flask\n",
    "app = Flask(__name__)\n",
    "\n",
    "@app.route(\"/\")\n",
    "def hello():\n",
    "    return \"Hello World!\"\n",
    "    ```"
   ]
  },
  {
   "cell_type": "markdown",
   "metadata": {},
   "source": [
    "Paste that code into your open dashboard.py, then run the following code below: \n",
    "\n",
    "``` \n",
    "$ export FLASK_APP=dashboard.py \n",
    "$ flask run\n",
    "```"
   ]
  },
  {
   "cell_type": "markdown",
   "metadata": {},
   "source": [
    "At this point, if you navigate to http://127.0.0.1:5000/ you should see a \"Hello World\" greeting. \n",
    "\n",
    "Great! Let's see where we can go with this. "
   ]
  },
  {
   "cell_type": "markdown",
   "metadata": {},
   "source": [
    "## Adding html templates"
   ]
  },
  {
   "cell_type": "markdown",
   "metadata": {},
   "source": [
    "Flask works by running the 'backend' logic code from the .py file, but it doesn't want to worry about html, css, and javascript in the same file. In order to compartimentalize these concerns, we are going to add a /templates directory to our project file. \n",
    "\n",
    "```\n",
    "$ mkdir templates\n",
    "$ touch templates/index.html\n",
    "$ open templates/index.html```\n",
    "\n",
    "You should now be looking at a blank html file. Here you go: \n",
    "\n",
    "```\n",
    "<!DOCTYPE html>\n",
    "<html lang=\"en\" dir=\"ltr\">\n",
    "  <head>\n",
    "    <meta charset=\"utf-8\">\n",
    "    <title></title>\n",
    "  </head>\n",
    "  <body>\n",
    "    <h2>Welcome to Dashboard Visualization!</h2>\n",
    "\n",
    "    <p>This project is a simple display of what is possible with flask by integrating another package called Dash.</p>\n",
    "\n",
    "    <p><a href=\"/visualization\">Visualization</a></p>\n",
    "\n",
    "  </body>\n",
    "</html>\n",
    "```\n",
    "\n"
   ]
  },
  {
   "cell_type": "markdown",
   "metadata": {},
   "source": [
    "## Flask w/ Dash"
   ]
  },
  {
   "cell_type": "markdown",
   "metadata": {},
   "source": [
    "Okay, cool, now we have a standalone flask page with some dead links, and a separate dash server that does some neat visualizations. What we would like is if we could link to the visualization in Dash from the homepage in flask. \n",
    "\n",
    "Well, notice the similar structure in these two files: \n",
    "\n",
    "Flask needs a server variable, that gets assigned with the following line of code: \n",
    "\n",
    "`app = Flask(__name__)`\n",
    "\n",
    "In the same way, Dash (which is actually running on top of flask), needs a server. \n",
    "\n",
    "`app = dash.Dash()`\n",
    "\n",
    "We are going to modify these two lines of code so that the dash app uses the flask app we setup, instead of running its own (default behavior). \n",
    "\n",
    "```\n",
    "app = Flask(__name__)\n",
    "dapp = dash.Dash(__name__, server=app, url_base_pathname='/visualization/')\n",
    "```\n",
    "\n",
    "In the flask file, add the dapp line to get the dash app. We see the server variable to `app`, our flask server, and the url_base_pathname to `/visualization/` so that dash knows where to run itself. \n",
    "\n",
    "Then we can copy and paste our dash app over into our flask server with just a few changes and it will run. See the finished code below: \n",
    "\n",
    "```\n",
    "import dash\n",
    "from dash.dependencies import Input, Output\n",
    "import dash_core_components as dcc\n",
    "import dash_html_components as html\n",
    "from pandas_datareader import data as web\n",
    "from datetime import datetime as dt\n",
    "import pandas as pd\n",
    "\n",
    "from flask import Flask, render_template\n",
    "app = Flask(__name__)\n",
    "dapp = dash.Dash(__name__, server=app, url_base_pathname='/visualization/')\n",
    "\n",
    "@app.route(\"/\")\n",
    "@app.route(\"/index\")\n",
    "def main_page():\n",
    "    return render_template('index.html')\n",
    "\n",
    "mapbox_access_token = 'pk.eyJ1IjoibmV1cmFsYWxjaGVtaXN0IiwiYSI6ImNqcWZ0Z3BuOTF4aXo0M3FwdGQ0YnllZXoifQ.xqpGQfUtBOXhKU_SYN4l5w'\n",
    "\n",
    "map_data = pd.read_csv(\"./df_dash.csv\")\n",
    "map_data = map_data[[\"name\", \"price\", \"location\", \"latitude\", \"longitude\", \"totalvalue\",\"totalvalue_bin\"]].drop_duplicates()\n",
    "\n",
    "dapp.css.append_css({'external_url': 'https://codepen.io/amyoshino/pen/jzXypZ.css'})\n",
    "\n",
    "dapp.title = \"LA Restaurant Map\"\n",
    "\n",
    "dapp.layout = html.Div([ html.H2('LA Property Value Mapping'),\n",
    "    html.Div([\n",
    "    html.Div([\n",
    "    dcc.Dropdown(\n",
    "        id='my-dropdown',\n",
    "        options=[\n",
    "            {'label': 1, 'value': 1},\n",
    "            {'label': 2, 'value': 2},\n",
    "            {'label': 3, 'value': 3},\n",
    "            {'label': 4, 'value': 4}\n",
    "        ],\n",
    "        value='SPY'\n",
    "    )\n",
    "    # dcc.Graph(id='my-graph')\n",
    "    ], style = {'flex':'49%'}),\n",
    "    html.Div([\n",
    "    dcc.Dropdown(\n",
    "        id='dropdown-2',\n",
    "        options=[\n",
    "            {'label': '< $400K', 'value': '< $400K'},\n",
    "            {'label': '$400-$800K', 'value': '$400-$800K'},\n",
    "            {'label': '$800-$1,200K' , 'value': '$800-$1,200K'},\n",
    "            {'label': '> $1,200K', 'value': '> $1,200K'}\n",
    "        ],\n",
    "        value='GOOG'\n",
    "    )\n",
    "    # dcc.Graph(id='scatter')\n",
    "    ], style = {'flex':'49%'})\n",
    "], style = {'display':'flex'}),\n",
    "    html.Div([\n",
    "                html.Div(\n",
    "                    [\n",
    "                        dcc.Graph(id='map-graph',\n",
    "                                  animate=True,\n",
    "                                  style={'margin-top': '20'},\n",
    "                                  figure={\"data\": [{\"type\": \"scattermapbox\",\n",
    "                                                    \"lat\": list(map_data['latitude']),\n",
    "                                                    \"lon\": list(map_data['longitude']),\n",
    "                                                    \"hoverinfo\": \"text\",\n",
    "                                                    \"hovertext\": [[\"Name: {} <br>Price: {} <br>Zipcode: {}\".format(i,j,k)]\n",
    "                                                                    for i,j,k in zip(map_data['name'], map_data['price'],map_data['location'])],\n",
    "                                                    \"mode\": \"markers\",\n",
    "                                                    \"name\": list(map_data['name']),\n",
    "                                                    \"marker\": {\n",
    "                                                        \"size\": 6,\n",
    "                                                        \"color\" : map_data['totalvalue'],\n",
    "                                                        \"colorscale\" : 'Viridis',\n",
    "                                                        \"opacity\": 0.7\n",
    "                                                    }\n",
    "                                            }],\n",
    "                                            \"layout\": dict(autosize=True,\n",
    "                                                            height=500,\n",
    "                                                            font=dict(color=\"#191A1A\"),\n",
    "                                                            titlefont=dict(color=\"#191A1A\", size='14'),\n",
    "                                                            margin=dict(\n",
    "                                                                l=35,\n",
    "                                                                r=35,\n",
    "                                                                b=35,\n",
    "                                                                t=45\n",
    "                                                            ),\n",
    "                                                            hovermode=\"closest\",\n",
    "                                                            plot_bgcolor='#fffcfc',\n",
    "                                                            paper_bgcolor='#fffcfc',\n",
    "                                                            legend=dict(font=dict(size=10), orientation='h'),\n",
    "                                                            title='LA Restaurant Locations (via Yelp API)',\n",
    "                                                            mapbox=dict(\n",
    "                                                                accesstoken=mapbox_access_token,\n",
    "                                                                style=\"light\",\n",
    "                                                                center=dict(\n",
    "                                                                    lon=-118.369483,\n",
    "                                                                    lat=34.081971\n",
    "                                                                ),\n",
    "                                                                zoom=10,\n",
    "                                                            )\n",
    "                                                        )\n",
    "                                            }),\n",
    "                        html.Div([html.A('DSI Dash Demo', href = 'https://github.com/amyoshino/Dash_Tutorial_Series/blob/master/ex4.py')],\n",
    "                            style={'text-align':'center'})\n",
    "                    ],\n",
    "                ),\n",
    "\n",
    "\n",
    "            ], className=\"row\"\n",
    "        )\n",
    "    ], className='ten columns offset-by-one')\n",
    "    ```"
   ]
  },
  {
   "cell_type": "markdown",
   "metadata": {},
   "source": [
    "Now you can `$ flask run` one last time and you will see the html page we built before, only this time when you click on the visualizations link you will be redirected to your dashboard. Congrats! You are well on your way to being able to build professional looking data science dashboards. "
   ]
  },
  {
   "cell_type": "markdown",
   "metadata": {},
   "source": [
    "# Further Resources\n",
    "\n",
    "Here are some links that will be helpful: \n",
    "\n",
    "- Dash documentation: https://dash.plot.ly/  \n",
    "- Plot.ly documentation: https://plot.ly/python/  \n",
    "- Plot.ly Jupyter notebook tutorial: https://plot.ly/python/ipython-notebook-tutorial/\n",
    "- Dash examples: https://dash.plot.ly/gallery  "
   ]
  },
  {
   "cell_type": "markdown",
   "metadata": {},
   "source": [
    "# Sources"
   ]
  },
  {
   "cell_type": "markdown",
   "metadata": {},
   "source": [
    "DSI 6 Lecture Notes - Chris Sanatra - LA local TA"
   ]
  }
 ],
 "metadata": {
  "kernelspec": {
   "display_name": "Python 3",
   "language": "python",
   "name": "python3"
  },
  "language_info": {
   "codemirror_mode": {
    "name": "ipython",
    "version": 3
   },
   "file_extension": ".py",
   "mimetype": "text/x-python",
   "name": "python",
   "nbconvert_exporter": "python",
   "pygments_lexer": "ipython3",
   "version": "3.7.1"
  }
 },
 "nbformat": 4,
 "nbformat_minor": 2
}
