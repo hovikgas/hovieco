{
 "cells": [
  {
   "cell_type": "markdown",
   "metadata": {},
   "source": [
    "Combining all our Yelp Data"
   ]
  },
  {
   "cell_type": "code",
   "execution_count": 5,
   "metadata": {},
   "outputs": [],
   "source": [
    "import pandas as pd\n",
    "import numpy as np\n",
    "import seaborn as sns\n",
    "import matplotlib.pyplot as plt\n",
    "%matplotlib inline"
   ]
  },
  {
   "cell_type": "code",
   "execution_count": 6,
   "metadata": {},
   "outputs": [],
   "source": [
    "hov = pd.read_csv('./data/hovs_section.csv', index_col=\"Unnamed: 0\")"
   ]
  },
  {
   "cell_type": "code",
   "execution_count": 7,
   "metadata": {},
   "outputs": [
    {
     "data": {
      "text/plain": [
       "(10019, 10)"
      ]
     },
     "execution_count": 7,
     "metadata": {},
     "output_type": "execute_result"
    }
   ],
   "source": [
    "hov.shape"
   ]
  },
  {
   "cell_type": "code",
   "execution_count": 8,
   "metadata": {},
   "outputs": [],
   "source": [
    "steve = pd.read_csv('./data/steve.csv', index_col='index')"
   ]
  },
  {
   "cell_type": "code",
   "execution_count": 9,
   "metadata": {},
   "outputs": [
    {
     "data": {
      "text/plain": [
       "(8803, 10)"
      ]
     },
     "execution_count": 9,
     "metadata": {},
     "output_type": "execute_result"
    }
   ],
   "source": [
    "steve.shape"
   ]
  },
  {
   "cell_type": "code",
   "execution_count": 10,
   "metadata": {},
   "outputs": [],
   "source": [
    "david = pd.read_csv('./data/david.csv', index_col='index')"
   ]
  },
  {
   "cell_type": "code",
   "execution_count": 11,
   "metadata": {},
   "outputs": [
    {
     "data": {
      "text/plain": [
       "(11357, 10)"
      ]
     },
     "execution_count": 11,
     "metadata": {},
     "output_type": "execute_result"
    }
   ],
   "source": [
    "david.shape"
   ]
  },
  {
   "cell_type": "code",
   "execution_count": 12,
   "metadata": {},
   "outputs": [],
   "source": [
    "yelp_df = pd.concat([hov, steve, david])"
   ]
  },
  {
   "cell_type": "markdown",
   "metadata": {},
   "source": [
    "There were some weird zip codes that were either typos or not from the Los Angeles area, so dropping those"
   ]
  },
  {
   "cell_type": "code",
   "execution_count": 14,
   "metadata": {},
   "outputs": [],
   "source": [
    "yelp_df.drop(yelp_df[yelp_df['location']< 90000].index, inplace=True)"
   ]
  },
  {
   "cell_type": "markdown",
   "metadata": {},
   "source": [
    "Dropping all duplicates"
   ]
  },
  {
   "cell_type": "code",
   "execution_count": 15,
   "metadata": {},
   "outputs": [],
   "source": [
    "yelp_df.drop_duplicates(inplace=True)"
   ]
  },
  {
   "cell_type": "markdown",
   "metadata": {},
   "source": [
    "Setting the type of restaurant to title case, for easier readability in plots."
   ]
  },
  {
   "cell_type": "code",
   "execution_count": 16,
   "metadata": {},
   "outputs": [],
   "source": [
    "yelp_df.type = [str.title(x) for x in yelp_df.type]"
   ]
  },
  {
   "cell_type": "code",
   "execution_count": 17,
   "metadata": {},
   "outputs": [
    {
     "data": {
      "text/html": [
       "<div>\n",
       "<style scoped>\n",
       "    .dataframe tbody tr th:only-of-type {\n",
       "        vertical-align: middle;\n",
       "    }\n",
       "\n",
       "    .dataframe tbody tr th {\n",
       "        vertical-align: top;\n",
       "    }\n",
       "\n",
       "    .dataframe thead th {\n",
       "        text-align: right;\n",
       "    }\n",
       "</style>\n",
       "<table border=\"1\" class=\"dataframe\">\n",
       "  <thead>\n",
       "    <tr style=\"text-align: right;\">\n",
       "      <th></th>\n",
       "      <th>id</th>\n",
       "      <th>name</th>\n",
       "      <th>alias</th>\n",
       "      <th>type</th>\n",
       "      <th>rating</th>\n",
       "      <th>review_count</th>\n",
       "      <th>price</th>\n",
       "      <th>location</th>\n",
       "      <th>latitude</th>\n",
       "      <th>longitude</th>\n",
       "    </tr>\n",
       "  </thead>\n",
       "  <tbody>\n",
       "    <tr>\n",
       "      <th>0</th>\n",
       "      <td>PEHM9AEqq0ca3vACyOMEwA</td>\n",
       "      <td>Lusy's Mediterranean Cafe &amp; Grill</td>\n",
       "      <td>lusys-mediterranean-cafe-and-grill-van-nuys-2</td>\n",
       "      <td>Mediterranean</td>\n",
       "      <td>4.5</td>\n",
       "      <td>771</td>\n",
       "      <td>2.0</td>\n",
       "      <td>91401</td>\n",
       "      <td>34.186598</td>\n",
       "      <td>-118.431349</td>\n",
       "    </tr>\n",
       "    <tr>\n",
       "      <th>1</th>\n",
       "      <td>ja_cBagHfhI0eFJrw3BRTA</td>\n",
       "      <td>Kobee Factory</td>\n",
       "      <td>kobee-factory-van-nuys-2</td>\n",
       "      <td>Mideastern</td>\n",
       "      <td>4.5</td>\n",
       "      <td>536</td>\n",
       "      <td>2.0</td>\n",
       "      <td>91401</td>\n",
       "      <td>34.179265</td>\n",
       "      <td>-118.440370</td>\n",
       "    </tr>\n",
       "    <tr>\n",
       "      <th>2</th>\n",
       "      <td>vWuft2V5ZKKWRPzQUHuKDw</td>\n",
       "      <td>Nat's Early Bite Coffee Shop</td>\n",
       "      <td>nats-early-bite-coffee-shop-sherman-oaks</td>\n",
       "      <td>Diners</td>\n",
       "      <td>4.5</td>\n",
       "      <td>1069</td>\n",
       "      <td>2.0</td>\n",
       "      <td>91401</td>\n",
       "      <td>34.172400</td>\n",
       "      <td>-118.440530</td>\n",
       "    </tr>\n",
       "    <tr>\n",
       "      <th>3</th>\n",
       "      <td>DfmaMh5rJQ_o9vEvhfUDgQ</td>\n",
       "      <td>Uncle Tony's Pizzeria</td>\n",
       "      <td>uncle-tonys-pizzeria-north-hollywood</td>\n",
       "      <td>Italian</td>\n",
       "      <td>4.0</td>\n",
       "      <td>1164</td>\n",
       "      <td>2.0</td>\n",
       "      <td>91606</td>\n",
       "      <td>34.187380</td>\n",
       "      <td>-118.416558</td>\n",
       "    </tr>\n",
       "    <tr>\n",
       "      <th>4</th>\n",
       "      <td>Mfa5dHJKcY4K-c3IQIxKkA</td>\n",
       "      <td>Krimsey's Cajun Kitchen</td>\n",
       "      <td>krimseys-cajun-kitchen-north-hollywood-2</td>\n",
       "      <td>Vegan</td>\n",
       "      <td>4.5</td>\n",
       "      <td>870</td>\n",
       "      <td>2.0</td>\n",
       "      <td>91606</td>\n",
       "      <td>34.186299</td>\n",
       "      <td>-118.413965</td>\n",
       "    </tr>\n",
       "  </tbody>\n",
       "</table>\n",
       "</div>"
      ],
      "text/plain": [
       "                       id                               name  \\\n",
       "0  PEHM9AEqq0ca3vACyOMEwA  Lusy's Mediterranean Cafe & Grill   \n",
       "1  ja_cBagHfhI0eFJrw3BRTA                      Kobee Factory   \n",
       "2  vWuft2V5ZKKWRPzQUHuKDw       Nat's Early Bite Coffee Shop   \n",
       "3  DfmaMh5rJQ_o9vEvhfUDgQ              Uncle Tony's Pizzeria   \n",
       "4  Mfa5dHJKcY4K-c3IQIxKkA            Krimsey's Cajun Kitchen   \n",
       "\n",
       "                                           alias           type  rating  \\\n",
       "0  lusys-mediterranean-cafe-and-grill-van-nuys-2  Mediterranean     4.5   \n",
       "1                       kobee-factory-van-nuys-2     Mideastern     4.5   \n",
       "2       nats-early-bite-coffee-shop-sherman-oaks         Diners     4.5   \n",
       "3           uncle-tonys-pizzeria-north-hollywood        Italian     4.0   \n",
       "4       krimseys-cajun-kitchen-north-hollywood-2          Vegan     4.5   \n",
       "\n",
       "   review_count  price  location   latitude   longitude  \n",
       "0           771    2.0     91401  34.186598 -118.431349  \n",
       "1           536    2.0     91401  34.179265 -118.440370  \n",
       "2          1069    2.0     91401  34.172400 -118.440530  \n",
       "3          1164    2.0     91606  34.187380 -118.416558  \n",
       "4           870    2.0     91606  34.186299 -118.413965  "
      ]
     },
     "execution_count": 17,
     "metadata": {},
     "output_type": "execute_result"
    }
   ],
   "source": [
    "yelp_df.head()"
   ]
  },
  {
   "cell_type": "code",
   "execution_count": 18,
   "metadata": {},
   "outputs": [
    {
     "data": {
      "image/png": "[encoded data removed]",
      "text/plain": [
       "<Figure size 1080x648 with 1 Axes>"
      ]
     },
     "metadata": {
      "needs_background": "light"
     },
     "output_type": "display_data"
    }
   ],
   "source": [
    "yelp_df.rating.hist(figsize=(15,9), grid=False, color='firebrick', bins=9)\n",
    "plt.title('Distribution of Restaurant Ratings Counts', fontsize='25')\n",
    "plt.ylabel(\"Frequency\", fontsize=15)\n",
    "plt.xlabel(\"Rating\", fontsize=15)\n",
    "plt.xticks(fontsize=15)\n",
    "plt.yticks(fontsize=15)\n",
    "plt.savefig('./figures/rating_dist.png', dpi=200);"
   ]
  },
  {
   "cell_type": "markdown",
   "metadata": {},
   "source": [
    "As we can see, the distribution of restaurant ratings is skewed to the left. The majority of restaurants are between 3.5 and 4.5, with very few below 3 stars."
   ]
  },
  {
   "cell_type": "code",
   "execution_count": 19,
   "metadata": {},
   "outputs": [],
   "source": [
    "yelp_df.drop(yelp_df[yelp_df.review_count == 0].index, inplace=True)"
   ]
  },
  {
   "cell_type": "markdown",
   "metadata": {},
   "source": [
    "I dropped the observations that had 0 reviews, because as you'll see below, I wanted to log-transform the variable to deskew it, but you can't take a natural log of 0!"
   ]
  },
  {
   "cell_type": "code",
   "execution_count": 20,
   "metadata": {},
   "outputs": [],
   "source": [
    "yelp_df['log_reviews'] = np.log(yelp_df.review_count)"
   ]
  },
  {
   "cell_type": "code",
   "execution_count": 21,
   "metadata": {},
   "outputs": [
    {
     "data": {
      "image/png": "[encoded data removed]",
      "text/plain": [
       "<Figure size 720x432 with 1 Axes>"
      ]
     },
     "metadata": {
      "needs_background": "light"
     },
     "output_type": "display_data"
    }
   ],
   "source": [
    "yelp_df.review_count.hist(figsize=(10,6), grid=False, bins=50, color='firebrick')\n",
    "plt.title('Distribution of Restaurant Review Counts', fontsize='25')\n",
    "plt.ylabel(\"Frequency\", fontsize=15)\n",
    "plt.xlabel(\"Number of Reviews\", fontsize=15)\n",
    "plt.xticks(fontsize=15)\n",
    "plt.yticks(fontsize=15)\n",
    "plt.savefig('./figures/review_count_dist.png', dpi=200);"
   ]
  },
  {
   "cell_type": "markdown",
   "metadata": {},
   "source": [
    "Indeed, the distribution of restaurant review counts is very heavily skewed to the right. The vast majority of restaurants have less than 500 reviews, but very few have thousands and the most reviewed restaurant in our dataset had over 16,000 reviews!"
   ]
  },
  {
   "cell_type": "code",
   "execution_count": 22,
   "metadata": {},
   "outputs": [
    {
     "data": {
      "image/png": "[encoded data removed]",
      "text/plain": [
       "<Figure size 720x432 with 1 Axes>"
      ]
     },
     "metadata": {
      "needs_background": "light"
     },
     "output_type": "display_data"
    }
   ],
   "source": [
    "yelp_df.log_reviews.hist(figsize=(10,6), grid=False, bins=50, color='firebrick')\n",
    "plt.title('Distribution of Restaurant Review Counts', fontsize='25')\n",
    "plt.ylabel(\"Frequency\", fontsize=15)\n",
    "plt.xlabel(\"Natural Log of Reviews\", fontsize=15)\n",
    "plt.xticks(fontsize=15)\n",
    "plt.yticks(fontsize=15)\n",
    "plt.savefig('./figures/log_review_dist.png', dpi=200);"
   ]
  },
  {
   "cell_type": "markdown",
   "metadata": {},
   "source": [
    "As we can see, log-transforming our variable made it much more normally distributed. "
   ]
  },
  {
   "cell_type": "code",
   "execution_count": 23,
   "metadata": {},
   "outputs": [
    {
     "data": {
      "image/png": "[encoded data removed]",
      "text/plain": [
       "<Figure size 1080x648 with 1 Axes>"
      ]
     },
     "metadata": {
      "needs_background": "light"
     },
     "output_type": "display_data"
    }
   ],
   "source": [
    "plt.figure(figsize=(15,9))\n",
    "sns.countplot(yelp_df.price, color='firebrick')\n",
    "plt.title('Distribution of Restaurant Dollar ($) Signs', fontsize='25')\n",
    "plt.ylabel(\"Frequency\", fontsize=15)\n",
    "plt.xlabel(\"$\", fontsize=15)\n",
    "plt.xticks(fontsize=15)\n",
    "plt.yticks(fontsize=15)\n",
    "plt.savefig('./figures/price_dist.png', dpi=200);"
   ]
  },
  {
   "cell_type": "markdown",
   "metadata": {},
   "source": [
    "Our primary explanatory variable of interest, restaurant dollar signs, is also not normally distributed. The vast majority of restaurants are relatively inexpensive (less than 3 dollar signs). "
   ]
  },
  {
   "cell_type": "code",
   "execution_count": 24,
   "metadata": {},
   "outputs": [
    {
     "data": {
      "image/png": "[encoded data removed]",
      "text/plain": [
       "<Figure size 1080x648 with 1 Axes>"
      ]
     },
     "metadata": {
      "needs_background": "light"
     },
     "output_type": "display_data"
    }
   ],
   "source": [
    "yelp_df.type.value_counts(ascending=True)[217:].plot(kind='barh', figsize=(15,9), fontsize=15, color='firebrick')\n",
    "plt.title(\"Top 20 Restaurant Types\", fontsize=20)\n",
    "plt.savefig('./figures/restaurant_types.png', dpi=200)"
   ]
  },
  {
   "cell_type": "markdown",
   "metadata": {},
   "source": [
    "There are unfortunately over 200 types of restaurants in our yelp dataset, with the distribution being, again, very right skewed (i.e. there are many one-off types that only have 1, or very few, restaurants of that type). Regardless, the plot above shows the top 20 most prevalent restaurant types, with Mexican being the most common."
   ]
  },
  {
   "cell_type": "code",
   "execution_count": 25,
   "metadata": {},
   "outputs": [],
   "source": [
    "yelp_dummies = pd.get_dummies(yelp_df, columns=['price', 'rating', 'type'])"
   ]
  },
  {
   "cell_type": "markdown",
   "metadata": {},
   "source": [
    "Getting dummies for our categorical variables."
   ]
  },
  {
   "cell_type": "code",
   "execution_count": 26,
   "metadata": {},
   "outputs": [
    {
     "data": {
      "text/html": [
       "<div>\n",
       "<style scoped>\n",
       "    .dataframe tbody tr th:only-of-type {\n",
       "        vertical-align: middle;\n",
       "    }\n",
       "\n",
       "    .dataframe tbody tr th {\n",
       "        vertical-align: top;\n",
       "    }\n",
       "\n",
       "    .dataframe thead th {\n",
       "        text-align: right;\n",
       "    }\n",
       "</style>\n",
       "<table border=\"1\" class=\"dataframe\">\n",
       "  <thead>\n",
       "    <tr style=\"text-align: right;\">\n",
       "      <th></th>\n",
       "      <th>id</th>\n",
       "      <th>name</th>\n",
       "      <th>alias</th>\n",
       "      <th>review_count</th>\n",
       "      <th>location</th>\n",
       "      <th>latitude</th>\n",
       "      <th>longitude</th>\n",
       "      <th>log_reviews</th>\n",
       "      <th>price_1.0</th>\n",
       "      <th>price_2.0</th>\n",
       "      <th>...</th>\n",
       "      <th>type_Venues</th>\n",
       "      <th>type_Vietnamese</th>\n",
       "      <th>type_Vitaminssupplements</th>\n",
       "      <th>type_Waffles</th>\n",
       "      <th>type_Whiskeybars</th>\n",
       "      <th>type_Wine_Bars</th>\n",
       "      <th>type_Winetastingroom</th>\n",
       "      <th>type_Womenscloth</th>\n",
       "      <th>type_Wraps</th>\n",
       "      <th>type_Yoga</th>\n",
       "    </tr>\n",
       "  </thead>\n",
       "  <tbody>\n",
       "    <tr>\n",
       "      <th>0</th>\n",
       "      <td>PEHM9AEqq0ca3vACyOMEwA</td>\n",
       "      <td>Lusy's Mediterranean Cafe &amp; Grill</td>\n",
       "      <td>lusys-mediterranean-cafe-and-grill-van-nuys-2</td>\n",
       "      <td>771</td>\n",
       "      <td>91401</td>\n",
       "      <td>34.186598</td>\n",
       "      <td>-118.431349</td>\n",
       "      <td>6.647688</td>\n",
       "      <td>0</td>\n",
       "      <td>1</td>\n",
       "      <td>...</td>\n",
       "      <td>0</td>\n",
       "      <td>0</td>\n",
       "      <td>0</td>\n",
       "      <td>0</td>\n",
       "      <td>0</td>\n",
       "      <td>0</td>\n",
       "      <td>0</td>\n",
       "      <td>0</td>\n",
       "      <td>0</td>\n",
       "      <td>0</td>\n",
       "    </tr>\n",
       "    <tr>\n",
       "      <th>1</th>\n",
       "      <td>ja_cBagHfhI0eFJrw3BRTA</td>\n",
       "      <td>Kobee Factory</td>\n",
       "      <td>kobee-factory-van-nuys-2</td>\n",
       "      <td>536</td>\n",
       "      <td>91401</td>\n",
       "      <td>34.179265</td>\n",
       "      <td>-118.440370</td>\n",
       "      <td>6.284134</td>\n",
       "      <td>0</td>\n",
       "      <td>1</td>\n",
       "      <td>...</td>\n",
       "      <td>0</td>\n",
       "      <td>0</td>\n",
       "      <td>0</td>\n",
       "      <td>0</td>\n",
       "      <td>0</td>\n",
       "      <td>0</td>\n",
       "      <td>0</td>\n",
       "      <td>0</td>\n",
       "      <td>0</td>\n",
       "      <td>0</td>\n",
       "    </tr>\n",
       "    <tr>\n",
       "      <th>2</th>\n",
       "      <td>vWuft2V5ZKKWRPzQUHuKDw</td>\n",
       "      <td>Nat's Early Bite Coffee Shop</td>\n",
       "      <td>nats-early-bite-coffee-shop-sherman-oaks</td>\n",
       "      <td>1069</td>\n",
       "      <td>91401</td>\n",
       "      <td>34.172400</td>\n",
       "      <td>-118.440530</td>\n",
       "      <td>6.974479</td>\n",
       "      <td>0</td>\n",
       "      <td>1</td>\n",
       "      <td>...</td>\n",
       "      <td>0</td>\n",
       "      <td>0</td>\n",
       "      <td>0</td>\n",
       "      <td>0</td>\n",
       "      <td>0</td>\n",
       "      <td>0</td>\n",
       "      <td>0</td>\n",
       "      <td>0</td>\n",
       "      <td>0</td>\n",
       "      <td>0</td>\n",
       "    </tr>\n",
       "    <tr>\n",
       "      <th>3</th>\n",
       "      <td>DfmaMh5rJQ_o9vEvhfUDgQ</td>\n",
       "      <td>Uncle Tony's Pizzeria</td>\n",
       "      <td>uncle-tonys-pizzeria-north-hollywood</td>\n",
       "      <td>1164</td>\n",
       "      <td>91606</td>\n",
       "      <td>34.187380</td>\n",
       "      <td>-118.416558</td>\n",
       "      <td>7.059618</td>\n",
       "      <td>0</td>\n",
       "      <td>1</td>\n",
       "      <td>...</td>\n",
       "      <td>0</td>\n",
       "      <td>0</td>\n",
       "      <td>0</td>\n",
       "      <td>0</td>\n",
       "      <td>0</td>\n",
       "      <td>0</td>\n",
       "      <td>0</td>\n",
       "      <td>0</td>\n",
       "      <td>0</td>\n",
       "      <td>0</td>\n",
       "    </tr>\n",
       "    <tr>\n",
       "      <th>4</th>\n",
       "      <td>Mfa5dHJKcY4K-c3IQIxKkA</td>\n",
       "      <td>Krimsey's Cajun Kitchen</td>\n",
       "      <td>krimseys-cajun-kitchen-north-hollywood-2</td>\n",
       "      <td>870</td>\n",
       "      <td>91606</td>\n",
       "      <td>34.186299</td>\n",
       "      <td>-118.413965</td>\n",
       "      <td>6.768493</td>\n",
       "      <td>0</td>\n",
       "      <td>1</td>\n",
       "      <td>...</td>\n",
       "      <td>0</td>\n",
       "      <td>0</td>\n",
       "      <td>0</td>\n",
       "      <td>0</td>\n",
       "      <td>0</td>\n",
       "      <td>0</td>\n",
       "      <td>0</td>\n",
       "      <td>0</td>\n",
       "      <td>0</td>\n",
       "      <td>0</td>\n",
       "    </tr>\n",
       "  </tbody>\n",
       "</table>\n",
       "<p>5 rows × 258 columns</p>\n",
       "</div>"
      ],
      "text/plain": [
       "                       id                               name  \\\n",
       "0  PEHM9AEqq0ca3vACyOMEwA  Lusy's Mediterranean Cafe & Grill   \n",
       "1  ja_cBagHfhI0eFJrw3BRTA                      Kobee Factory   \n",
       "2  vWuft2V5ZKKWRPzQUHuKDw       Nat's Early Bite Coffee Shop   \n",
       "3  DfmaMh5rJQ_o9vEvhfUDgQ              Uncle Tony's Pizzeria   \n",
       "4  Mfa5dHJKcY4K-c3IQIxKkA            Krimsey's Cajun Kitchen   \n",
       "\n",
       "                                           alias  review_count  location  \\\n",
       "0  lusys-mediterranean-cafe-and-grill-van-nuys-2           771     91401   \n",
       "1                       kobee-factory-van-nuys-2           536     91401   \n",
       "2       nats-early-bite-coffee-shop-sherman-oaks          1069     91401   \n",
       "3           uncle-tonys-pizzeria-north-hollywood          1164     91606   \n",
       "4       krimseys-cajun-kitchen-north-hollywood-2           870     91606   \n",
       "\n",
       "    latitude   longitude  log_reviews  price_1.0  price_2.0  ...  type_Venues  \\\n",
       "0  34.186598 -118.431349     6.647688          0          1  ...            0   \n",
       "1  34.179265 -118.440370     6.284134          0          1  ...            0   \n",
       "2  34.172400 -118.440530     6.974479          0          1  ...            0   \n",
       "3  34.187380 -118.416558     7.059618          0          1  ...            0   \n",
       "4  34.186299 -118.413965     6.768493          0          1  ...            0   \n",
       "\n",
       "   type_Vietnamese  type_Vitaminssupplements  type_Waffles  type_Whiskeybars  \\\n",
       "0                0                         0             0                 0   \n",
       "1                0                         0             0                 0   \n",
       "2                0                         0             0                 0   \n",
       "3                0                         0             0                 0   \n",
       "4                0                         0             0                 0   \n",
       "\n",
       "   type_Wine_Bars  type_Winetastingroom  type_Womenscloth  type_Wraps  \\\n",
       "0               0                     0                 0           0   \n",
       "1               0                     0                 0           0   \n",
       "2               0                     0                 0           0   \n",
       "3               0                     0                 0           0   \n",
       "4               0                     0                 0           0   \n",
       "\n",
       "   type_Yoga  \n",
       "0          0  \n",
       "1          0  \n",
       "2          0  \n",
       "3          0  \n",
       "4          0  \n",
       "\n",
       "[5 rows x 258 columns]"
      ]
     },
     "execution_count": 26,
     "metadata": {},
     "output_type": "execute_result"
    }
   ],
   "source": [
    "yelp_dummies.head()"
   ]
  },
  {
   "cell_type": "code",
   "execution_count": 27,
   "metadata": {},
   "outputs": [],
   "source": [
    "yelp_grouped = yelp_dummies.groupby('location').sum()"
   ]
  },
  {
   "cell_type": "markdown",
   "metadata": {},
   "source": [
    "Grouping our variables by zip code to be able to merge it with our housing data. "
   ]
  },
  {
   "cell_type": "code",
   "execution_count": 28,
   "metadata": {},
   "outputs": [
    {
     "data": {
      "text/plain": [
       "Index(['review_count', 'latitude', 'longitude', 'log_reviews', 'price_1.0',\n",
       "       'price_2.0', 'price_3.0', 'price_4.0', 'rating_1.0', 'rating_1.5',\n",
       "       'rating_2.0', 'rating_2.5', 'rating_3.0', 'rating_3.5', 'rating_4.0',\n",
       "       'rating_4.5', 'rating_5.0', 'type_Acaibowls', 'type_Afghani',\n",
       "       'type_African'],\n",
       "      dtype='object')"
      ]
     },
     "execution_count": 28,
     "metadata": {},
     "output_type": "execute_result"
    }
   ],
   "source": [
    "yelp_grouped.columns[:20]"
   ]
  },
  {
   "cell_type": "markdown",
   "metadata": {},
   "source": [
    "---"
   ]
  },
  {
   "cell_type": "markdown",
   "metadata": {},
   "source": [
    "Importing the Los Angeles County housing data."
   ]
  },
  {
   "cell_type": "code",
   "execution_count": 29,
   "metadata": {},
   "outputs": [],
   "source": [
    "lacounty = pd.read_csv('./data/lacounty.csv', index_col='index')"
   ]
  },
  {
   "cell_type": "markdown",
   "metadata": {},
   "source": [
    "Keeping only the data that we want: total home values, and location data (zip codes and coordinates)."
   ]
  },
  {
   "cell_type": "code",
   "execution_count": 30,
   "metadata": {},
   "outputs": [],
   "source": [
    "properties = lacounty[['totalvalue', 'location', 'latitude', 'longitude']]"
   ]
  },
  {
   "cell_type": "code",
   "execution_count": 31,
   "metadata": {},
   "outputs": [
    {
     "data": {
      "text/html": [
       "<div>\n",
       "<style scoped>\n",
       "    .dataframe tbody tr th:only-of-type {\n",
       "        vertical-align: middle;\n",
       "    }\n",
       "\n",
       "    .dataframe tbody tr th {\n",
       "        vertical-align: top;\n",
       "    }\n",
       "\n",
       "    .dataframe thead th {\n",
       "        text-align: right;\n",
       "    }\n",
       "</style>\n",
       "<table border=\"1\" class=\"dataframe\">\n",
       "  <thead>\n",
       "    <tr style=\"text-align: right;\">\n",
       "      <th></th>\n",
       "      <th>totalvalue</th>\n",
       "      <th>location</th>\n",
       "      <th>latitude</th>\n",
       "      <th>longitude</th>\n",
       "    </tr>\n",
       "    <tr>\n",
       "      <th>index</th>\n",
       "      <th></th>\n",
       "      <th></th>\n",
       "      <th></th>\n",
       "      <th></th>\n",
       "    </tr>\n",
       "  </thead>\n",
       "  <tbody>\n",
       "    <tr>\n",
       "      <th>5</th>\n",
       "      <td>1295400.0</td>\n",
       "      <td>91326</td>\n",
       "      <td>34.2853</td>\n",
       "      <td>-118.535</td>\n",
       "    </tr>\n",
       "    <tr>\n",
       "      <th>6</th>\n",
       "      <td>619286.0</td>\n",
       "      <td>91326</td>\n",
       "      <td>34.2849</td>\n",
       "      <td>-118.534</td>\n",
       "    </tr>\n",
       "    <tr>\n",
       "      <th>27</th>\n",
       "      <td>618184.0</td>\n",
       "      <td>91326</td>\n",
       "      <td>34.2842</td>\n",
       "      <td>-118.534</td>\n",
       "    </tr>\n",
       "    <tr>\n",
       "      <th>34</th>\n",
       "      <td>748768.0</td>\n",
       "      <td>91326</td>\n",
       "      <td>34.2829</td>\n",
       "      <td>-118.535</td>\n",
       "    </tr>\n",
       "    <tr>\n",
       "      <th>43</th>\n",
       "      <td>613655.0</td>\n",
       "      <td>91326</td>\n",
       "      <td>34.2823</td>\n",
       "      <td>-118.535</td>\n",
       "    </tr>\n",
       "  </tbody>\n",
       "</table>\n",
       "</div>"
      ],
      "text/plain": [
       "       totalvalue  location  latitude  longitude\n",
       "index                                           \n",
       "5       1295400.0     91326   34.2853   -118.535\n",
       "6        619286.0     91326   34.2849   -118.534\n",
       "27       618184.0     91326   34.2842   -118.534\n",
       "34       748768.0     91326   34.2829   -118.535\n",
       "43       613655.0     91326   34.2823   -118.535"
      ]
     },
     "execution_count": 31,
     "metadata": {},
     "output_type": "execute_result"
    }
   ],
   "source": [
    "properties.head()"
   ]
  },
  {
   "cell_type": "code",
   "execution_count": 32,
   "metadata": {},
   "outputs": [
    {
     "data": {
      "image/png": "[encoded data removed]",
      "text/plain": [
       "<Figure size 1080x648 with 1 Axes>"
      ]
     },
     "metadata": {
      "needs_background": "light"
     },
     "output_type": "display_data"
    }
   ],
   "source": [
    "properties.totalvalue.hist(figsize=(15,9), bins=50, grid=False);"
   ]
  },
  {
   "cell_type": "markdown",
   "metadata": {},
   "source": [
    "The distribution of home prices are also very heavily skewed to the right, with the vast majority of homes being under \\\\$1,000,000, but very few homes being more than that. As a result, we decided to keep only homes that were over \\\\$200,000 and under \\\\$2,000,000."
   ]
  },
  {
   "cell_type": "code",
   "execution_count": 33,
   "metadata": {},
   "outputs": [],
   "source": [
    "properties = properties[(properties.totalvalue > 200_000) & (properties.totalvalue < 2_000_000)]"
   ]
  },
  {
   "cell_type": "code",
   "execution_count": 34,
   "metadata": {},
   "outputs": [
    {
     "data": {
      "image/png": "[encoded data removed]",
      "text/plain": [
       "<Figure size 1080x648 with 1 Axes>"
      ]
     },
     "metadata": {
      "needs_background": "light"
     },
     "output_type": "display_data"
    }
   ],
   "source": [
    "properties.totalvalue.hist(figsize=(15,9), bins=50, grid=False);"
   ]
  },
  {
   "cell_type": "markdown",
   "metadata": {},
   "source": [
    "As we can see, the plot looks a lot better, but it is still quite skewed to the right, so I will log-transform this as well."
   ]
  },
  {
   "cell_type": "code",
   "execution_count": 35,
   "metadata": {},
   "outputs": [],
   "source": [
    "properties['logvalue'] = np.log(properties.totalvalue)"
   ]
  },
  {
   "cell_type": "code",
   "execution_count": 36,
   "metadata": {},
   "outputs": [
    {
     "data": {
      "image/png": "[encoded data removed]",
      "text/plain": [
       "<Figure size 1080x648 with 1 Axes>"
      ]
     },
     "metadata": {
      "needs_background": "light"
     },
     "output_type": "display_data"
    }
   ],
   "source": [
    "properties.logvalue.hist(figsize=(15,9), grid=False, bins=50, color='firebrick')\n",
    "plt.title('Distribution of LA Home Prices', fontsize='25')\n",
    "plt.ylabel(\"Count of Homes\", fontsize=15)\n",
    "plt.xlabel(\"Natural Log of Prices\", fontsize=15)\n",
    "plt.xticks(fontsize=15)\n",
    "plt.yticks(fontsize=15)\n",
    "plt.savefig('./figures/home_value_dist.png', dpi=200);"
   ]
  },
  {
   "cell_type": "markdown",
   "metadata": {},
   "source": [
    "Now we can see that the log-transformed version looks to be much more normally distributed. Below we group the housing property by zip code as well, but this time using the mean."
   ]
  },
  {
   "cell_type": "code",
   "execution_count": 37,
   "metadata": {},
   "outputs": [],
   "source": [
    "prop_grouped = properties.groupby('location').mean()"
   ]
  },
  {
   "cell_type": "markdown",
   "metadata": {},
   "source": [
    "Merging both dataframes by zip code"
   ]
  },
  {
   "cell_type": "code",
   "execution_count": 38,
   "metadata": {},
   "outputs": [],
   "source": [
    "groupdf = pd.merge(prop_grouped, yelp_grouped, on='location')"
   ]
  },
  {
   "cell_type": "markdown",
   "metadata": {},
   "source": [
    "Checking the average number of restaurants per zip code"
   ]
  },
  {
   "cell_type": "code",
   "execution_count": 39,
   "metadata": {},
   "outputs": [],
   "source": [
    "rests_per_zip = groupdf['price_1.0'] + groupdf['price_2.0'] + groupdf['price_3.0'] + groupdf['price_4.0']"
   ]
  },
  {
   "cell_type": "code",
   "execution_count": 40,
   "metadata": {},
   "outputs": [
    {
     "data": {
      "text/plain": [
       "181.45631067961165"
      ]
     },
     "execution_count": 40,
     "metadata": {},
     "output_type": "execute_result"
    }
   ],
   "source": [
    "rests_per_zip.mean()"
   ]
  },
  {
   "cell_type": "code",
   "execution_count": 41,
   "metadata": {},
   "outputs": [
    {
     "data": {
      "image/png": "[encoded data removed]",
      "text/plain": [
       "<Figure size 1080x648 with 1 Axes>"
      ]
     },
     "metadata": {
      "needs_background": "light"
     },
     "output_type": "display_data"
    }
   ],
   "source": [
    "rests_per_zip.plot(kind='hist', figsize=(15,9), bins=8, color='firebrick')\n",
    "plt.title('Distribution of Number of Restaurants Per Zip Code', fontsize=25)\n",
    "plt.vlines(rests_per_zip.mean(), 0, 35, colors='blue', label='181')\n",
    "plt.yticks(fontsize=15)\n",
    "plt.xticks(fontsize=15)\n",
    "plt.ylabel('Frequency by Zip Code', fontsize=15)\n",
    "plt.savefig('./figures/rests_per_zip.png', dpi=200)"
   ]
  },
  {
   "cell_type": "markdown",
   "metadata": {},
   "source": [
    "As we can see, the distribution of the number of restaurants per zip code is also skewed to the right. Most zip codes have less than 300 restaurants in them, with the average being 182 (the vertical blue line)."
   ]
  },
  {
   "cell_type": "markdown",
   "metadata": {},
   "source": [
    "Now I'm going to save the current dataframe into a CSV file and in the next notebook we'll try some modelling on this grouped data. "
   ]
  },
  {
   "cell_type": "code",
   "execution_count": 44,
   "metadata": {},
   "outputs": [],
   "source": [
    "groupdf.to_csv('./data/groupdf.csv')"
   ]
  },
  {
   "cell_type": "code",
   "execution_count": 38,
   "metadata": {},
   "outputs": [],
   "source": [
    "# combo = pd.concat([df, properties], sort=True)"
   ]
  },
  {
   "cell_type": "code",
   "execution_count": null,
   "metadata": {},
   "outputs": [],
   "source": [
    "# combo.isna().sum()"
   ]
  },
  {
   "cell_type": "code",
   "execution_count": 42,
   "metadata": {},
   "outputs": [],
   "source": [
    "# price_dummies = pd.get_dummies(data=combo.price, columns=\"price\")"
   ]
  },
  {
   "cell_type": "code",
   "execution_count": 173,
   "metadata": {},
   "outputs": [],
   "source": [
    "# combo_dummies = pd.concat([combo, price_dummies], axis=1)"
   ]
  },
  {
   "cell_type": "code",
   "execution_count": null,
   "metadata": {},
   "outputs": [],
   "source": [
    "# clustering = dbscan(combo[['latitude', 'longitude']])"
   ]
  },
  {
   "cell_type": "code",
   "execution_count": 139,
   "metadata": {},
   "outputs": [],
   "source": [
    "# groupby = combo_dummies.groupby(by='location')"
   ]
  },
  {
   "cell_type": "code",
   "execution_count": null,
   "metadata": {},
   "outputs": [],
   "source": [
    "# combo_dummies.sort_values(by='location')"
   ]
  },
  {
   "cell_type": "code",
   "execution_count": null,
   "metadata": {},
   "outputs": [],
   "source": [
    "# groupby.isna().sum()"
   ]
  },
  {
   "cell_type": "code",
   "execution_count": 72,
   "metadata": {},
   "outputs": [],
   "source": [
    "# groupby.dropna(inplace=True)"
   ]
  },
  {
   "cell_type": "code",
   "execution_count": 177,
   "metadata": {},
   "outputs": [],
   "source": [
    "import statsmodels.api as sm"
   ]
  },
  {
   "cell_type": "code",
   "execution_count": 842,
   "metadata": {},
   "outputs": [],
   "source": [
    "from sklearn.linear_model import LinearRegression, Lasso, Ridge\n",
    "from sklearn.model_selection import train_test_split\n",
    "from sklearn.ensemble import RandomForestRegressor\n",
    "from sklearn.preprocessing import StandardScaler"
   ]
  },
  {
   "cell_type": "code",
   "execution_count": 762,
   "metadata": {},
   "outputs": [],
   "source": [
    "X = groupdf[['price_1.0',\n",
    "             'price_2.0', \n",
    "            'price_3.0', \n",
    "            'price_4.0', \n",
    "            'rating_1.0', \n",
    "            'rating_2.0', \n",
    "            'rating_2.5', \n",
    "            'rating_3.0',\n",
    "            'rating_3.5', \n",
    "            'rating_4.0', \n",
    "            'rating_4.5', \n",
    "            'rating_5.0', \n",
    "           'type_mexican',\n",
    "           'type_coffee',\n",
    "           'type_pizza',\n",
    "           'type_hotdogs',\n",
    "           'type_burgers',\n",
    "           'type_bakeries',\n",
    "            'log_reviews']]"
   ]
  },
  {
   "cell_type": "code",
   "execution_count": 763,
   "metadata": {},
   "outputs": [
    {
     "data": {
      "text/html": [
       "<div>\n",
       "<style scoped>\n",
       "    .dataframe tbody tr th:only-of-type {\n",
       "        vertical-align: middle;\n",
       "    }\n",
       "\n",
       "    .dataframe tbody tr th {\n",
       "        vertical-align: top;\n",
       "    }\n",
       "\n",
       "    .dataframe thead th {\n",
       "        text-align: right;\n",
       "    }\n",
       "</style>\n",
       "<table border=\"1\" class=\"dataframe\">\n",
       "  <thead>\n",
       "    <tr style=\"text-align: right;\">\n",
       "      <th></th>\n",
       "      <th>price_1.0</th>\n",
       "      <th>price_2.0</th>\n",
       "      <th>price_3.0</th>\n",
       "      <th>price_4.0</th>\n",
       "      <th>rating_1.0</th>\n",
       "      <th>rating_2.0</th>\n",
       "      <th>rating_2.5</th>\n",
       "      <th>rating_3.0</th>\n",
       "      <th>rating_3.5</th>\n",
       "      <th>rating_4.0</th>\n",
       "      <th>rating_4.5</th>\n",
       "      <th>rating_5.0</th>\n",
       "      <th>type_mexican</th>\n",
       "      <th>type_coffee</th>\n",
       "      <th>type_pizza</th>\n",
       "      <th>type_hotdogs</th>\n",
       "      <th>type_burgers</th>\n",
       "      <th>type_bakeries</th>\n",
       "      <th>log_reviews</th>\n",
       "    </tr>\n",
       "    <tr>\n",
       "      <th>location</th>\n",
       "      <th></th>\n",
       "      <th></th>\n",
       "      <th></th>\n",
       "      <th></th>\n",
       "      <th></th>\n",
       "      <th></th>\n",
       "      <th></th>\n",
       "      <th></th>\n",
       "      <th></th>\n",
       "      <th></th>\n",
       "      <th></th>\n",
       "      <th></th>\n",
       "      <th></th>\n",
       "      <th></th>\n",
       "      <th></th>\n",
       "      <th></th>\n",
       "      <th></th>\n",
       "      <th></th>\n",
       "      <th></th>\n",
       "    </tr>\n",
       "  </thead>\n",
       "  <tbody>\n",
       "    <tr>\n",
       "      <th>90001</th>\n",
       "      <td>135.0</td>\n",
       "      <td>52.0</td>\n",
       "      <td>0.0</td>\n",
       "      <td>0.0</td>\n",
       "      <td>0.0</td>\n",
       "      <td>21.0</td>\n",
       "      <td>10.0</td>\n",
       "      <td>21.0</td>\n",
       "      <td>32.0</td>\n",
       "      <td>34.0</td>\n",
       "      <td>41.0</td>\n",
       "      <td>20.0</td>\n",
       "      <td>44.0</td>\n",
       "      <td>6.0</td>\n",
       "      <td>8.0</td>\n",
       "      <td>10.0</td>\n",
       "      <td>22.0</td>\n",
       "      <td>5.0</td>\n",
       "      <td>502.254649</td>\n",
       "    </tr>\n",
       "    <tr>\n",
       "      <th>90002</th>\n",
       "      <td>39.0</td>\n",
       "      <td>4.0</td>\n",
       "      <td>0.0</td>\n",
       "      <td>0.0</td>\n",
       "      <td>2.0</td>\n",
       "      <td>4.0</td>\n",
       "      <td>2.0</td>\n",
       "      <td>0.0</td>\n",
       "      <td>0.0</td>\n",
       "      <td>11.0</td>\n",
       "      <td>8.0</td>\n",
       "      <td>6.0</td>\n",
       "      <td>2.0</td>\n",
       "      <td>4.0</td>\n",
       "      <td>4.0</td>\n",
       "      <td>4.0</td>\n",
       "      <td>6.0</td>\n",
       "      <td>2.0</td>\n",
       "      <td>98.170200</td>\n",
       "    </tr>\n",
       "    <tr>\n",
       "      <th>90003</th>\n",
       "      <td>118.0</td>\n",
       "      <td>18.0</td>\n",
       "      <td>2.0</td>\n",
       "      <td>2.0</td>\n",
       "      <td>2.0</td>\n",
       "      <td>17.0</td>\n",
       "      <td>10.0</td>\n",
       "      <td>18.0</td>\n",
       "      <td>26.0</td>\n",
       "      <td>16.0</td>\n",
       "      <td>20.0</td>\n",
       "      <td>16.0</td>\n",
       "      <td>30.0</td>\n",
       "      <td>0.0</td>\n",
       "      <td>11.0</td>\n",
       "      <td>8.0</td>\n",
       "      <td>19.0</td>\n",
       "      <td>4.0</td>\n",
       "      <td>383.669881</td>\n",
       "    </tr>\n",
       "    <tr>\n",
       "      <th>90004</th>\n",
       "      <td>98.0</td>\n",
       "      <td>130.0</td>\n",
       "      <td>5.0</td>\n",
       "      <td>0.0</td>\n",
       "      <td>0.0</td>\n",
       "      <td>2.0</td>\n",
       "      <td>10.0</td>\n",
       "      <td>15.0</td>\n",
       "      <td>43.0</td>\n",
       "      <td>102.0</td>\n",
       "      <td>45.0</td>\n",
       "      <td>14.0</td>\n",
       "      <td>11.0</td>\n",
       "      <td>19.0</td>\n",
       "      <td>8.0</td>\n",
       "      <td>4.0</td>\n",
       "      <td>3.0</td>\n",
       "      <td>17.0</td>\n",
       "      <td>1115.333722</td>\n",
       "    </tr>\n",
       "    <tr>\n",
       "      <th>90005</th>\n",
       "      <td>73.0</td>\n",
       "      <td>155.0</td>\n",
       "      <td>4.0</td>\n",
       "      <td>0.0</td>\n",
       "      <td>0.0</td>\n",
       "      <td>2.0</td>\n",
       "      <td>4.0</td>\n",
       "      <td>21.0</td>\n",
       "      <td>41.0</td>\n",
       "      <td>102.0</td>\n",
       "      <td>61.0</td>\n",
       "      <td>1.0</td>\n",
       "      <td>3.0</td>\n",
       "      <td>20.0</td>\n",
       "      <td>0.0</td>\n",
       "      <td>3.0</td>\n",
       "      <td>0.0</td>\n",
       "      <td>5.0</td>\n",
       "      <td>1236.250662</td>\n",
       "    </tr>\n",
       "  </tbody>\n",
       "</table>\n",
       "</div>"
      ],
      "text/plain": [
       "          price_1.0  price_2.0  price_3.0  price_4.0  rating_1.0  rating_2.0  \\\n",
       "location                                                                       \n",
       "90001         135.0       52.0        0.0        0.0         0.0        21.0   \n",
       "90002          39.0        4.0        0.0        0.0         2.0         4.0   \n",
       "90003         118.0       18.0        2.0        2.0         2.0        17.0   \n",
       "90004          98.0      130.0        5.0        0.0         0.0         2.0   \n",
       "90005          73.0      155.0        4.0        0.0         0.0         2.0   \n",
       "\n",
       "          rating_2.5  rating_3.0  rating_3.5  rating_4.0  rating_4.5  \\\n",
       "location                                                               \n",
       "90001           10.0        21.0        32.0        34.0        41.0   \n",
       "90002            2.0         0.0         0.0        11.0         8.0   \n",
       "90003           10.0        18.0        26.0        16.0        20.0   \n",
       "90004           10.0        15.0        43.0       102.0        45.0   \n",
       "90005            4.0        21.0        41.0       102.0        61.0   \n",
       "\n",
       "          rating_5.0  type_mexican  type_coffee  type_pizza  type_hotdogs  \\\n",
       "location                                                                    \n",
       "90001           20.0          44.0          6.0         8.0          10.0   \n",
       "90002            6.0           2.0          4.0         4.0           4.0   \n",
       "90003           16.0          30.0          0.0        11.0           8.0   \n",
       "90004           14.0          11.0         19.0         8.0           4.0   \n",
       "90005            1.0           3.0         20.0         0.0           3.0   \n",
       "\n",
       "          type_burgers  type_bakeries  log_reviews  \n",
       "location                                            \n",
       "90001             22.0            5.0   502.254649  \n",
       "90002              6.0            2.0    98.170200  \n",
       "90003             19.0            4.0   383.669881  \n",
       "90004              3.0           17.0  1115.333722  \n",
       "90005              0.0            5.0  1236.250662  "
      ]
     },
     "execution_count": 763,
     "metadata": {},
     "output_type": "execute_result"
    }
   ],
   "source": [
    "X.head()"
   ]
  },
  {
   "cell_type": "code",
   "execution_count": 764,
   "metadata": {},
   "outputs": [],
   "source": [
    "y = groupdf.logvalue"
   ]
  },
  {
   "cell_type": "code",
   "execution_count": 765,
   "metadata": {},
   "outputs": [],
   "source": [
    "lr = LinearRegression()"
   ]
  },
  {
   "cell_type": "code",
   "execution_count": 766,
   "metadata": {},
   "outputs": [],
   "source": [
    "X_train, X_test, y_train, y_test = train_test_split(X, y, random_state=42)"
   ]
  },
  {
   "cell_type": "code",
   "execution_count": 822,
   "metadata": {},
   "outputs": [],
   "source": [
    "sc = StandardScaler()"
   ]
  },
  {
   "cell_type": "code",
   "execution_count": 823,
   "metadata": {},
   "outputs": [],
   "source": [
    "X_train_sc = sc.fit_transform(X_train)"
   ]
  },
  {
   "cell_type": "code",
   "execution_count": 824,
   "metadata": {},
   "outputs": [],
   "source": [
    "X_test_sc = sc.transform(X_test)"
   ]
  },
  {
   "cell_type": "code",
   "execution_count": 825,
   "metadata": {},
   "outputs": [
    {
     "data": {
      "text/plain": [
       "LinearRegression(copy_X=True, fit_intercept=True, n_jobs=None,\n",
       "         normalize=False)"
      ]
     },
     "execution_count": 825,
     "metadata": {},
     "output_type": "execute_result"
    }
   ],
   "source": [
    "lr.fit(X_train_sc, y_train)"
   ]
  },
  {
   "cell_type": "code",
   "execution_count": 826,
   "metadata": {},
   "outputs": [
    {
     "data": {
      "text/plain": [
       "0.6953214685824456"
      ]
     },
     "execution_count": 826,
     "metadata": {},
     "output_type": "execute_result"
    }
   ],
   "source": [
    "lr.score(X_train_sc, y_train)"
   ]
  },
  {
   "cell_type": "code",
   "execution_count": 827,
   "metadata": {},
   "outputs": [
    {
     "data": {
      "text/plain": [
       "-0.09584934084152243"
      ]
     },
     "execution_count": 827,
     "metadata": {},
     "output_type": "execute_result"
    }
   ],
   "source": [
    "lr.score(X_test_sc, y_test)"
   ]
  },
  {
   "cell_type": "code",
   "execution_count": 835,
   "metadata": {},
   "outputs": [],
   "source": [
    "lasso = Lasso(alpha=1, max_iter=50000)"
   ]
  },
  {
   "cell_type": "code",
   "execution_count": 839,
   "metadata": {},
   "outputs": [
    {
     "data": {
      "text/plain": [
       "Lasso(alpha=1, copy_X=True, fit_intercept=True, max_iter=50000,\n",
       "   normalize=False, positive=False, precompute=False, random_state=None,\n",
       "   selection='cyclic', tol=0.0001, warm_start=False)"
      ]
     },
     "execution_count": 839,
     "metadata": {},
     "output_type": "execute_result"
    }
   ],
   "source": [
    "lasso.fit(X_train, y_train)"
   ]
  },
  {
   "cell_type": "code",
   "execution_count": 840,
   "metadata": {},
   "outputs": [
    {
     "data": {
      "text/plain": [
       "0.5871185812453505"
      ]
     },
     "execution_count": 840,
     "metadata": {},
     "output_type": "execute_result"
    }
   ],
   "source": [
    "lasso.score(X_train, y_train)"
   ]
  },
  {
   "cell_type": "code",
   "execution_count": 841,
   "metadata": {},
   "outputs": [
    {
     "data": {
      "text/plain": [
       "0.2406944379227911"
      ]
     },
     "execution_count": 841,
     "metadata": {},
     "output_type": "execute_result"
    }
   ],
   "source": [
    "lasso.score(X_test, y_test)"
   ]
  },
  {
   "cell_type": "code",
   "execution_count": 843,
   "metadata": {},
   "outputs": [],
   "source": [
    "ridge = Ridge()"
   ]
  },
  {
   "cell_type": "code",
   "execution_count": 844,
   "metadata": {},
   "outputs": [
    {
     "data": {
      "text/plain": [
       "Ridge(alpha=1.0, copy_X=True, fit_intercept=True, max_iter=None,\n",
       "   normalize=False, random_state=None, solver='auto', tol=0.001)"
      ]
     },
     "execution_count": 844,
     "metadata": {},
     "output_type": "execute_result"
    }
   ],
   "source": [
    "ridge.fit(X_train, y_train)"
   ]
  },
  {
   "cell_type": "code",
   "execution_count": 845,
   "metadata": {},
   "outputs": [
    {
     "data": {
      "text/plain": [
       "0.695318865772713"
      ]
     },
     "execution_count": 845,
     "metadata": {},
     "output_type": "execute_result"
    }
   ],
   "source": [
    "ridge.score(X_train, y_train)"
   ]
  },
  {
   "cell_type": "code",
   "execution_count": 846,
   "metadata": {},
   "outputs": [
    {
     "data": {
      "text/plain": [
       "-0.08889790084385263"
      ]
     },
     "execution_count": 846,
     "metadata": {},
     "output_type": "execute_result"
    }
   ],
   "source": [
    "ridge.score(X_test, y_test)"
   ]
  },
  {
   "cell_type": "code",
   "execution_count": 774,
   "metadata": {},
   "outputs": [],
   "source": [
    "rf = RandomForestRegressor()"
   ]
  },
  {
   "cell_type": "code",
   "execution_count": 775,
   "metadata": {},
   "outputs": [
    {
     "name": "stderr",
     "output_type": "stream",
     "text": [
      "/Users/Hovanes/anaconda3/lib/python3.7/site-packages/sklearn/ensemble/forest.py:246: FutureWarning: The default value of n_estimators will change from 10 in version 0.20 to 100 in 0.22.\n",
      "  \"10 in version 0.20 to 100 in 0.22.\", FutureWarning)\n"
     ]
    },
    {
     "data": {
      "text/plain": [
       "RandomForestRegressor(bootstrap=True, criterion='mse', max_depth=None,\n",
       "           max_features='auto', max_leaf_nodes=None,\n",
       "           min_impurity_decrease=0.0, min_impurity_split=None,\n",
       "           min_samples_leaf=1, min_samples_split=2,\n",
       "           min_weight_fraction_leaf=0.0, n_estimators=10, n_jobs=None,\n",
       "           oob_score=False, random_state=None, verbose=0, warm_start=False)"
      ]
     },
     "execution_count": 775,
     "metadata": {},
     "output_type": "execute_result"
    }
   ],
   "source": [
    "rf.fit(X_train, y_train)"
   ]
  },
  {
   "cell_type": "code",
   "execution_count": 776,
   "metadata": {},
   "outputs": [
    {
     "data": {
      "text/plain": [
       "0.8990939781509323"
      ]
     },
     "execution_count": 776,
     "metadata": {},
     "output_type": "execute_result"
    }
   ],
   "source": [
    "rf.score(X_train, y_train)"
   ]
  },
  {
   "cell_type": "code",
   "execution_count": 777,
   "metadata": {},
   "outputs": [
    {
     "data": {
      "text/plain": [
       "0.4117120555085353"
      ]
     },
     "execution_count": 777,
     "metadata": {},
     "output_type": "execute_result"
    }
   ],
   "source": [
    "rf.score(X_test, y_test)"
   ]
  },
  {
   "cell_type": "code",
   "execution_count": 778,
   "metadata": {},
   "outputs": [
    {
     "name": "stderr",
     "output_type": "stream",
     "text": [
      "/Users/Hovanes/anaconda3/lib/python3.7/site-packages/numpy/core/fromnumeric.py:2389: FutureWarning: Method .ptp is deprecated and will be removed in a future version. Use numpy.ptp instead.\n",
      "  return ptp(axis=axis, out=out, **kwargs)\n"
     ]
    }
   ],
   "source": [
    "X = sm.add_constant(X)"
   ]
  },
  {
   "cell_type": "code",
   "execution_count": 779,
   "metadata": {},
   "outputs": [],
   "source": [
    "model = sm.OLS(y, X).fit()"
   ]
  },
  {
   "cell_type": "code",
   "execution_count": 780,
   "metadata": {},
   "outputs": [],
   "source": [
    "smpredictions = model.predict(X)"
   ]
  },
  {
   "cell_type": "code",
   "execution_count": 781,
   "metadata": {},
   "outputs": [
    {
     "data": {
      "text/html": [
       "<table class=\"simpletable\">\n",
       "<caption>OLS Regression Results</caption>\n",
       "<tr>\n",
       "  <th>Dep. Variable:</th>        <td>logvalue</td>     <th>  R-squared:         </th> <td>   0.621</td>\n",
       "</tr>\n",
       "<tr>\n",
       "  <th>Model:</th>                   <td>OLS</td>       <th>  Adj. R-squared:    </th> <td>   0.534</td>\n",
       "</tr>\n",
       "<tr>\n",
       "  <th>Method:</th>             <td>Least Squares</td>  <th>  F-statistic:       </th> <td>   7.161</td>\n",
       "</tr>\n",
       "<tr>\n",
       "  <th>Date:</th>             <td>Thu, 25 Apr 2019</td> <th>  Prob (F-statistic):</th> <td>7.54e-11</td>\n",
       "</tr>\n",
       "<tr>\n",
       "  <th>Time:</th>                 <td>16:34:03</td>     <th>  Log-Likelihood:    </th> <td> -27.506</td>\n",
       "</tr>\n",
       "<tr>\n",
       "  <th>No. Observations:</th>      <td>   103</td>      <th>  AIC:               </th> <td>   95.01</td>\n",
       "</tr>\n",
       "<tr>\n",
       "  <th>Df Residuals:</th>          <td>    83</td>      <th>  BIC:               </th> <td>   147.7</td>\n",
       "</tr>\n",
       "<tr>\n",
       "  <th>Df Model:</th>              <td>    19</td>      <th>                     </th>     <td> </td>   \n",
       "</tr>\n",
       "<tr>\n",
       "  <th>Covariance Type:</th>      <td>nonrobust</td>    <th>                     </th>     <td> </td>   \n",
       "</tr>\n",
       "</table>\n",
       "<table class=\"simpletable\">\n",
       "<tr>\n",
       "        <td></td>           <th>coef</th>     <th>std err</th>      <th>t</th>      <th>P>|t|</th>  <th>[0.025</th>    <th>0.975]</th>  \n",
       "</tr>\n",
       "<tr>\n",
       "  <th>const</th>         <td>   13.5785</td> <td>    0.088</td> <td>  154.891</td> <td> 0.000</td> <td>   13.404</td> <td>   13.753</td>\n",
       "</tr>\n",
       "<tr>\n",
       "  <th>price_1.0</th>     <td>   -0.0263</td> <td>    0.011</td> <td>   -2.304</td> <td> 0.024</td> <td>   -0.049</td> <td>   -0.004</td>\n",
       "</tr>\n",
       "<tr>\n",
       "  <th>price_2.0</th>     <td>   -0.0166</td> <td>    0.012</td> <td>   -1.395</td> <td> 0.167</td> <td>   -0.040</td> <td>    0.007</td>\n",
       "</tr>\n",
       "<tr>\n",
       "  <th>price_3.0</th>     <td>   -0.0190</td> <td>    0.012</td> <td>   -1.565</td> <td> 0.121</td> <td>   -0.043</td> <td>    0.005</td>\n",
       "</tr>\n",
       "<tr>\n",
       "  <th>price_4.0</th>     <td>   -0.0231</td> <td>    0.017</td> <td>   -1.391</td> <td> 0.168</td> <td>   -0.056</td> <td>    0.010</td>\n",
       "</tr>\n",
       "<tr>\n",
       "  <th>rating_1.0</th>    <td>    0.0051</td> <td>    0.042</td> <td>    0.121</td> <td> 0.904</td> <td>   -0.079</td> <td>    0.089</td>\n",
       "</tr>\n",
       "<tr>\n",
       "  <th>rating_2.0</th>    <td>    0.0183</td> <td>    0.017</td> <td>    1.103</td> <td> 0.273</td> <td>   -0.015</td> <td>    0.051</td>\n",
       "</tr>\n",
       "<tr>\n",
       "  <th>rating_2.5</th>    <td>    0.0270</td> <td>    0.016</td> <td>    1.733</td> <td> 0.087</td> <td>   -0.004</td> <td>    0.058</td>\n",
       "</tr>\n",
       "<tr>\n",
       "  <th>rating_3.0</th>    <td>    0.0233</td> <td>    0.013</td> <td>    1.823</td> <td> 0.072</td> <td>   -0.002</td> <td>    0.049</td>\n",
       "</tr>\n",
       "<tr>\n",
       "  <th>rating_3.5</th>    <td>    0.0228</td> <td>    0.013</td> <td>    1.720</td> <td> 0.089</td> <td>   -0.004</td> <td>    0.049</td>\n",
       "</tr>\n",
       "<tr>\n",
       "  <th>rating_4.0</th>    <td>    0.0183</td> <td>    0.014</td> <td>    1.332</td> <td> 0.187</td> <td>   -0.009</td> <td>    0.046</td>\n",
       "</tr>\n",
       "<tr>\n",
       "  <th>rating_4.5</th>    <td>    0.0195</td> <td>    0.013</td> <td>    1.527</td> <td> 0.131</td> <td>   -0.006</td> <td>    0.045</td>\n",
       "</tr>\n",
       "<tr>\n",
       "  <th>rating_5.0</th>    <td>    0.0103</td> <td>    0.016</td> <td>    0.643</td> <td> 0.522</td> <td>   -0.022</td> <td>    0.042</td>\n",
       "</tr>\n",
       "<tr>\n",
       "  <th>type_mexican</th>  <td>   -0.0008</td> <td>    0.005</td> <td>   -0.168</td> <td> 0.867</td> <td>   -0.011</td> <td>    0.009</td>\n",
       "</tr>\n",
       "<tr>\n",
       "  <th>type_coffee</th>   <td>   -0.0126</td> <td>    0.009</td> <td>   -1.453</td> <td> 0.150</td> <td>   -0.030</td> <td>    0.005</td>\n",
       "</tr>\n",
       "<tr>\n",
       "  <th>type_pizza</th>    <td>    0.0050</td> <td>    0.008</td> <td>    0.622</td> <td> 0.536</td> <td>   -0.011</td> <td>    0.021</td>\n",
       "</tr>\n",
       "<tr>\n",
       "  <th>type_hotdogs</th>  <td>   -0.0095</td> <td>    0.013</td> <td>   -0.749</td> <td> 0.456</td> <td>   -0.035</td> <td>    0.016</td>\n",
       "</tr>\n",
       "<tr>\n",
       "  <th>type_burgers</th>  <td>   -0.0121</td> <td>    0.010</td> <td>   -1.250</td> <td> 0.215</td> <td>   -0.031</td> <td>    0.007</td>\n",
       "</tr>\n",
       "<tr>\n",
       "  <th>type_bakeries</th> <td>    0.0185</td> <td>    0.010</td> <td>    1.885</td> <td> 0.063</td> <td>   -0.001</td> <td>    0.038</td>\n",
       "</tr>\n",
       "<tr>\n",
       "  <th>log_reviews</th>   <td>    0.0002</td> <td>    0.001</td> <td>    0.261</td> <td> 0.794</td> <td>   -0.002</td> <td>    0.002</td>\n",
       "</tr>\n",
       "</table>\n",
       "<table class=\"simpletable\">\n",
       "<tr>\n",
       "  <th>Omnibus:</th>       <td> 5.446</td> <th>  Durbin-Watson:     </th> <td>   1.402</td>\n",
       "</tr>\n",
       "<tr>\n",
       "  <th>Prob(Omnibus):</th> <td> 0.066</td> <th>  Jarque-Bera (JB):  </th> <td>   4.802</td>\n",
       "</tr>\n",
       "<tr>\n",
       "  <th>Skew:</th>          <td>-0.474</td> <th>  Prob(JB):          </th> <td>  0.0906</td>\n",
       "</tr>\n",
       "<tr>\n",
       "  <th>Kurtosis:</th>      <td> 3.471</td> <th>  Cond. No.          </th> <td>2.70e+03</td>\n",
       "</tr>\n",
       "</table><br/><br/>Warnings:<br/>[1] Standard Errors assume that the covariance matrix of the errors is correctly specified.<br/>[2] The condition number is large, 2.7e+03. This might indicate that there are<br/>strong multicollinearity or other numerical problems."
      ],
      "text/plain": [
       "<class 'statsmodels.iolib.summary.Summary'>\n",
       "\"\"\"\n",
       "                            OLS Regression Results                            \n",
       "==============================================================================\n",
       "Dep. Variable:               logvalue   R-squared:                       0.621\n",
       "Model:                            OLS   Adj. R-squared:                  0.534\n",
       "Method:                 Least Squares   F-statistic:                     7.161\n",
       "Date:                Thu, 25 Apr 2019   Prob (F-statistic):           7.54e-11\n",
       "Time:                        16:34:03   Log-Likelihood:                -27.506\n",
       "No. Observations:                 103   AIC:                             95.01\n",
       "Df Residuals:                      83   BIC:                             147.7\n",
       "Df Model:                          19                                         \n",
       "Covariance Type:            nonrobust                                         \n",
       "=================================================================================\n",
       "                    coef    std err          t      P>|t|      [0.025      0.975]\n",
       "---------------------------------------------------------------------------------\n",
       "const            13.5785      0.088    154.891      0.000      13.404      13.753\n",
       "price_1.0        -0.0263      0.011     -2.304      0.024      -0.049      -0.004\n",
       "price_2.0        -0.0166      0.012     -1.395      0.167      -0.040       0.007\n",
       "price_3.0        -0.0190      0.012     -1.565      0.121      -0.043       0.005\n",
       "price_4.0        -0.0231      0.017     -1.391      0.168      -0.056       0.010\n",
       "rating_1.0        0.0051      0.042      0.121      0.904      -0.079       0.089\n",
       "rating_2.0        0.0183      0.017      1.103      0.273      -0.015       0.051\n",
       "rating_2.5        0.0270      0.016      1.733      0.087      -0.004       0.058\n",
       "rating_3.0        0.0233      0.013      1.823      0.072      -0.002       0.049\n",
       "rating_3.5        0.0228      0.013      1.720      0.089      -0.004       0.049\n",
       "rating_4.0        0.0183      0.014      1.332      0.187      -0.009       0.046\n",
       "rating_4.5        0.0195      0.013      1.527      0.131      -0.006       0.045\n",
       "rating_5.0        0.0103      0.016      0.643      0.522      -0.022       0.042\n",
       "type_mexican     -0.0008      0.005     -0.168      0.867      -0.011       0.009\n",
       "type_coffee      -0.0126      0.009     -1.453      0.150      -0.030       0.005\n",
       "type_pizza        0.0050      0.008      0.622      0.536      -0.011       0.021\n",
       "type_hotdogs     -0.0095      0.013     -0.749      0.456      -0.035       0.016\n",
       "type_burgers     -0.0121      0.010     -1.250      0.215      -0.031       0.007\n",
       "type_bakeries     0.0185      0.010      1.885      0.063      -0.001       0.038\n",
       "log_reviews       0.0002      0.001      0.261      0.794      -0.002       0.002\n",
       "==============================================================================\n",
       "Omnibus:                        5.446   Durbin-Watson:                   1.402\n",
       "Prob(Omnibus):                  0.066   Jarque-Bera (JB):                4.802\n",
       "Skew:                          -0.474   Prob(JB):                       0.0906\n",
       "Kurtosis:                       3.471   Cond. No.                     2.70e+03\n",
       "==============================================================================\n",
       "\n",
       "Warnings:\n",
       "[1] Standard Errors assume that the covariance matrix of the errors is correctly specified.\n",
       "[2] The condition number is large, 2.7e+03. This might indicate that there are\n",
       "strong multicollinearity or other numerical problems.\n",
       "\"\"\""
      ]
     },
     "execution_count": 781,
     "metadata": {},
     "output_type": "execute_result"
    }
   ],
   "source": [
    "model.summary()"
   ]
  },
  {
   "cell_type": "code",
   "execution_count": 782,
   "metadata": {},
   "outputs": [
    {
     "data": {
      "text/plain": [
       "const        5.611666e-104\n",
       "price_1.0     2.371316e-02\n",
       "dtype: float64"
      ]
     },
     "execution_count": 782,
     "metadata": {},
     "output_type": "execute_result"
    }
   ],
   "source": [
    "model.pvalues[model.pvalues<0.05]"
   ]
  },
  {
   "cell_type": "code",
   "execution_count": 847,
   "metadata": {},
   "outputs": [
    {
     "data": {
      "text/plain": [
       "const            5.611666e-104\n",
       "price_1.0         2.371316e-02\n",
       "rating_2.5        8.673138e-02\n",
       "rating_3.0        7.195180e-02\n",
       "rating_3.5        8.910859e-02\n",
       "type_bakeries     6.291120e-02\n",
       "dtype: float64"
      ]
     },
     "execution_count": 847,
     "metadata": {},
     "output_type": "execute_result"
    }
   ],
   "source": [
    "model.pvalues[model.pvalues<0.1]"
   ]
  },
  {
   "cell_type": "code",
   "execution_count": 783,
   "metadata": {},
   "outputs": [
    {
     "data": {
      "text/plain": [
       "const        13.578454\n",
       "price_1.0    -0.026265\n",
       "dtype: float64"
      ]
     },
     "execution_count": 783,
     "metadata": {},
     "output_type": "execute_result"
    }
   ],
   "source": [
    "model.params[model.params.index.isin(model.pvalues[model.pvalues<0.05].index)]"
   ]
  },
  {
   "cell_type": "code",
   "execution_count": 848,
   "metadata": {},
   "outputs": [
    {
     "data": {
      "text/plain": [
       "const            13.578454\n",
       "price_1.0        -0.026265\n",
       "rating_2.5        0.026984\n",
       "rating_3.0        0.023272\n",
       "rating_3.5        0.022828\n",
       "type_bakeries     0.018454\n",
       "dtype: float64"
      ]
     },
     "execution_count": 848,
     "metadata": {},
     "output_type": "execute_result"
    }
   ],
   "source": [
    "model.params[model.params.index.isin(model.pvalues[model.pvalues<0.1].index)]"
   ]
  },
  {
   "cell_type": "code",
   "execution_count": 784,
   "metadata": {},
   "outputs": [],
   "source": [
    "robust = sm.RLM(y, X).fit()"
   ]
  },
  {
   "cell_type": "code",
   "execution_count": 785,
   "metadata": {},
   "outputs": [
    {
     "data": {
      "text/html": [
       "<table class=\"simpletable\">\n",
       "<caption>Robust linear Model Regression Results</caption>\n",
       "<tr>\n",
       "  <th>Dep. Variable:</th>      <td>logvalue</td>     <th>  No. Observations:  </th> <td>   103</td>\n",
       "</tr>\n",
       "<tr>\n",
       "  <th>Model:</th>                 <td>RLM</td>       <th>  Df Residuals:      </th> <td>    83</td>\n",
       "</tr>\n",
       "<tr>\n",
       "  <th>Method:</th>               <td>IRLS</td>       <th>  Df Model:          </th> <td>    19</td>\n",
       "</tr>\n",
       "<tr>\n",
       "  <th>Norm:</th>                <td>HuberT</td>      <th>                     </th>    <td> </td>  \n",
       "</tr>\n",
       "<tr>\n",
       "  <th>Scale Est.:</th>            <td>mad</td>       <th>                     </th>    <td> </td>  \n",
       "</tr>\n",
       "<tr>\n",
       "  <th>Cov Type:</th>              <td>H1</td>        <th>                     </th>    <td> </td>  \n",
       "</tr>\n",
       "<tr>\n",
       "  <th>Date:</th>           <td>Thu, 25 Apr 2019</td> <th>                     </th>    <td> </td>  \n",
       "</tr>\n",
       "<tr>\n",
       "  <th>Time:</th>               <td>16:35:16</td>     <th>                     </th>    <td> </td>  \n",
       "</tr>\n",
       "<tr>\n",
       "  <th>No. Iterations:</th>        <td>43</td>        <th>                     </th>    <td> </td>  \n",
       "</tr>\n",
       "</table>\n",
       "<table class=\"simpletable\">\n",
       "<tr>\n",
       "        <td></td>           <th>coef</th>     <th>std err</th>      <th>z</th>      <th>P>|z|</th>  <th>[0.025</th>    <th>0.975]</th>  \n",
       "</tr>\n",
       "<tr>\n",
       "  <th>const</th>         <td>   13.4992</td> <td>    0.081</td> <td>  166.220</td> <td> 0.000</td> <td>   13.340</td> <td>   13.658</td>\n",
       "</tr>\n",
       "<tr>\n",
       "  <th>price_1.0</th>     <td>   -0.0217</td> <td>    0.011</td> <td>   -2.051</td> <td> 0.040</td> <td>   -0.042</td> <td>   -0.001</td>\n",
       "</tr>\n",
       "<tr>\n",
       "  <th>price_2.0</th>     <td>   -0.0140</td> <td>    0.011</td> <td>   -1.266</td> <td> 0.206</td> <td>   -0.036</td> <td>    0.008</td>\n",
       "</tr>\n",
       "<tr>\n",
       "  <th>price_3.0</th>     <td>   -0.0160</td> <td>    0.011</td> <td>   -1.421</td> <td> 0.155</td> <td>   -0.038</td> <td>    0.006</td>\n",
       "</tr>\n",
       "<tr>\n",
       "  <th>price_4.0</th>     <td>   -0.0167</td> <td>    0.015</td> <td>   -1.081</td> <td> 0.279</td> <td>   -0.047</td> <td>    0.014</td>\n",
       "</tr>\n",
       "<tr>\n",
       "  <th>rating_1.0</th>    <td>    0.0100</td> <td>    0.039</td> <td>    0.256</td> <td> 0.798</td> <td>   -0.066</td> <td>    0.086</td>\n",
       "</tr>\n",
       "<tr>\n",
       "  <th>rating_2.0</th>    <td>    0.0152</td> <td>    0.015</td> <td>    0.992</td> <td> 0.321</td> <td>   -0.015</td> <td>    0.045</td>\n",
       "</tr>\n",
       "<tr>\n",
       "  <th>rating_2.5</th>    <td>    0.0255</td> <td>    0.014</td> <td>    1.768</td> <td> 0.077</td> <td>   -0.003</td> <td>    0.054</td>\n",
       "</tr>\n",
       "<tr>\n",
       "  <th>rating_3.0</th>    <td>    0.0225</td> <td>    0.012</td> <td>    1.902</td> <td> 0.057</td> <td>   -0.001</td> <td>    0.046</td>\n",
       "</tr>\n",
       "<tr>\n",
       "  <th>rating_3.5</th>    <td>    0.0209</td> <td>    0.012</td> <td>    1.701</td> <td> 0.089</td> <td>   -0.003</td> <td>    0.045</td>\n",
       "</tr>\n",
       "<tr>\n",
       "  <th>rating_4.0</th>    <td>    0.0183</td> <td>    0.013</td> <td>    1.436</td> <td> 0.151</td> <td>   -0.007</td> <td>    0.043</td>\n",
       "</tr>\n",
       "<tr>\n",
       "  <th>rating_4.5</th>    <td>    0.0177</td> <td>    0.012</td> <td>    1.496</td> <td> 0.135</td> <td>   -0.006</td> <td>    0.041</td>\n",
       "</tr>\n",
       "<tr>\n",
       "  <th>rating_5.0</th>    <td>    0.0121</td> <td>    0.015</td> <td>    0.818</td> <td> 0.413</td> <td>   -0.017</td> <td>    0.041</td>\n",
       "</tr>\n",
       "<tr>\n",
       "  <th>type_mexican</th>  <td>   -0.0035</td> <td>    0.005</td> <td>   -0.764</td> <td> 0.445</td> <td>   -0.012</td> <td>    0.005</td>\n",
       "</tr>\n",
       "<tr>\n",
       "  <th>type_coffee</th>   <td>   -0.0115</td> <td>    0.008</td> <td>   -1.423</td> <td> 0.155</td> <td>   -0.027</td> <td>    0.004</td>\n",
       "</tr>\n",
       "<tr>\n",
       "  <th>type_pizza</th>    <td>    0.0050</td> <td>    0.007</td> <td>    0.664</td> <td> 0.507</td> <td>   -0.010</td> <td>    0.020</td>\n",
       "</tr>\n",
       "<tr>\n",
       "  <th>type_hotdogs</th>  <td>   -0.0166</td> <td>    0.012</td> <td>   -1.407</td> <td> 0.159</td> <td>   -0.040</td> <td>    0.007</td>\n",
       "</tr>\n",
       "<tr>\n",
       "  <th>type_burgers</th>  <td>   -0.0171</td> <td>    0.009</td> <td>   -1.906</td> <td> 0.057</td> <td>   -0.035</td> <td>    0.000</td>\n",
       "</tr>\n",
       "<tr>\n",
       "  <th>type_bakeries</th> <td>    0.0085</td> <td>    0.009</td> <td>    0.933</td> <td> 0.351</td> <td>   -0.009</td> <td>    0.026</td>\n",
       "</tr>\n",
       "<tr>\n",
       "  <th>log_reviews</th>   <td>  2.29e-06</td> <td>    0.001</td> <td>    0.003</td> <td> 0.998</td> <td>   -0.002</td> <td>    0.002</td>\n",
       "</tr>\n",
       "</table><br/><br/>If the model instance has been used for another fit with different fit<br/>parameters, then the fit options might not be the correct ones anymore ."
      ],
      "text/plain": [
       "<class 'statsmodels.iolib.summary.Summary'>\n",
       "\"\"\"\n",
       "                    Robust linear Model Regression Results                    \n",
       "==============================================================================\n",
       "Dep. Variable:               logvalue   No. Observations:                  103\n",
       "Model:                            RLM   Df Residuals:                       83\n",
       "Method:                          IRLS   Df Model:                           19\n",
       "Norm:                          HuberT                                         \n",
       "Scale Est.:                       mad                                         \n",
       "Cov Type:                          H1                                         \n",
       "Date:                Thu, 25 Apr 2019                                         \n",
       "Time:                        16:35:16                                         \n",
       "No. Iterations:                    43                                         \n",
       "=================================================================================\n",
       "                    coef    std err          z      P>|z|      [0.025      0.975]\n",
       "---------------------------------------------------------------------------------\n",
       "const            13.4992      0.081    166.220      0.000      13.340      13.658\n",
       "price_1.0        -0.0217      0.011     -2.051      0.040      -0.042      -0.001\n",
       "price_2.0        -0.0140      0.011     -1.266      0.206      -0.036       0.008\n",
       "price_3.0        -0.0160      0.011     -1.421      0.155      -0.038       0.006\n",
       "price_4.0        -0.0167      0.015     -1.081      0.279      -0.047       0.014\n",
       "rating_1.0        0.0100      0.039      0.256      0.798      -0.066       0.086\n",
       "rating_2.0        0.0152      0.015      0.992      0.321      -0.015       0.045\n",
       "rating_2.5        0.0255      0.014      1.768      0.077      -0.003       0.054\n",
       "rating_3.0        0.0225      0.012      1.902      0.057      -0.001       0.046\n",
       "rating_3.5        0.0209      0.012      1.701      0.089      -0.003       0.045\n",
       "rating_4.0        0.0183      0.013      1.436      0.151      -0.007       0.043\n",
       "rating_4.5        0.0177      0.012      1.496      0.135      -0.006       0.041\n",
       "rating_5.0        0.0121      0.015      0.818      0.413      -0.017       0.041\n",
       "type_mexican     -0.0035      0.005     -0.764      0.445      -0.012       0.005\n",
       "type_coffee      -0.0115      0.008     -1.423      0.155      -0.027       0.004\n",
       "type_pizza        0.0050      0.007      0.664      0.507      -0.010       0.020\n",
       "type_hotdogs     -0.0166      0.012     -1.407      0.159      -0.040       0.007\n",
       "type_burgers     -0.0171      0.009     -1.906      0.057      -0.035       0.000\n",
       "type_bakeries     0.0085      0.009      0.933      0.351      -0.009       0.026\n",
       "log_reviews     2.29e-06      0.001      0.003      0.998      -0.002       0.002\n",
       "=================================================================================\n",
       "\n",
       "If the model instance has been used for another fit with different fit\n",
       "parameters, then the fit options might not be the correct ones anymore .\n",
       "\"\"\""
      ]
     },
     "execution_count": 785,
     "metadata": {},
     "output_type": "execute_result"
    }
   ],
   "source": [
    "robust.summary()"
   ]
  },
  {
   "cell_type": "code",
   "execution_count": 786,
   "metadata": {},
   "outputs": [
    {
     "data": {
      "text/plain": [
       "const        0.000000\n",
       "price_1.0    0.040273\n",
       "dtype: float64"
      ]
     },
     "execution_count": 786,
     "metadata": {},
     "output_type": "execute_result"
    }
   ],
   "source": [
    "robust.pvalues[robust.pvalues<0.05]"
   ]
  },
  {
   "cell_type": "code",
   "execution_count": 787,
   "metadata": {},
   "outputs": [
    {
     "data": {
      "text/plain": [
       "const        13.499203\n",
       "price_1.0    -0.021658\n",
       "dtype: float64"
      ]
     },
     "execution_count": 787,
     "metadata": {},
     "output_type": "execute_result"
    }
   ],
   "source": [
    "robust.params[robust.params.index.isin(robust.pvalues[robust.pvalues<0.05].index)]"
   ]
  },
  {
   "cell_type": "code",
   "execution_count": 93,
   "metadata": {},
   "outputs": [],
   "source": [
    "combo['coordinates'] = combo['latitude'].map(str) + ',' + combo['longitude'].map(str)"
   ]
  },
  {
   "cell_type": "code",
   "execution_count": 95,
   "metadata": {},
   "outputs": [],
   "source": [
    "from geopy import distance"
   ]
  },
  {
   "cell_type": "code",
   "execution_count": null,
   "metadata": {},
   "outputs": [],
   "source": [
    "distance.distance(combo.coordinates)"
   ]
  },
  {
   "cell_type": "code",
   "execution_count": 226,
   "metadata": {},
   "outputs": [],
   "source": [
    "def coord_distance(lat1, long1, lat2, long2):\n",
    "    coords_1 = (lat1, long1)\n",
    "    coords_2 = (lat2, long2)\n",
    "\n",
    "    return distance.distance(coords_1, coords_2).mi"
   ]
  },
  {
   "cell_type": "code",
   "execution_count": 278,
   "metadata": {},
   "outputs": [],
   "source": [
    "def restaurant_distance(df, loc):\n",
    "    lst = []\n",
    "    for i in range(len(df.index)):\n",
    "        lst.append(coord_distance(yelp_dummies.loc[loc, 'latitude'], \n",
    "                           yelp_dummies.loc[loc, 'longitude'], \n",
    "                           df.iloc[i]['latitude'], \n",
    "                           df.iloc[i]['longitude']))\n",
    "    df.index = lst"
   ]
  },
  {
   "cell_type": "code",
   "execution_count": null,
   "metadata": {},
   "outputs": [],
   "source": []
  }
 ],
 "metadata": {
  "kernelspec": {
   "display_name": "Python 3",
   "language": "python",
   "name": "python3"
  },
  "language_info": {
   "codemirror_mode": {
    "name": "ipython",
    "version": 3
   },
   "file_extension": ".py",
   "mimetype": "text/x-python",
   "name": "python",
   "nbconvert_exporter": "python",
   "pygments_lexer": "ipython3",
   "version": "3.7.3"
  }
 },
 "nbformat": 4,
 "nbformat_minor": 2
}
