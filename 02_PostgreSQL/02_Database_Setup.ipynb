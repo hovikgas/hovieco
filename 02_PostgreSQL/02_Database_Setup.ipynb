{
 "cells": [
  {
   "cell_type": "markdown",
   "metadata": {},
   "source": [
    "# PostgreSQL DB Setup"
   ]
  },
  {
   "cell_type": "markdown",
   "metadata": {},
   "source": [
    "### Installing Packages: psycopg2-binary"
   ]
  },
  {
   "cell_type": "code",
   "execution_count": 2,
   "metadata": {},
   "outputs": [
    {
     "name": "stdout",
     "output_type": "stream",
     "text": [
      "Collecting psycopg2-binary\n",
      "\u001b[?25l  Downloading https://files.pythonhosted.org/packages/f1/88/549d331f884c71dfbcdca413c6fa60bc30719cf533b05b2b05eea6c91afb/psycopg2_binary-2.8.2-cp37-cp37m-macosx_10_6_intel.macosx_10_9_intel.macosx_10_9_x86_64.macosx_10_10_intel.macosx_10_10_x86_64.whl (1.4MB)\n",
      "\u001b[K    100% |████████████████████████████████| 1.4MB 6.6MB/s \n",
      "\u001b[?25hInstalling collected packages: psycopg2-binary\n",
      "Successfully installed psycopg2-binary-2.8.2\n"
     ]
    }
   ],
   "source": [
    "# !pip install psycopg2-binary"
   ]
  },
  {
   "cell_type": "markdown",
   "metadata": {},
   "source": [
    "### Run File with Postgre Credentials"
   ]
  },
  {
   "cell_type": "code",
   "execution_count": 1,
   "metadata": {},
   "outputs": [],
   "source": [
    "%run sql_test.py"
   ]
  },
  {
   "cell_type": "code",
   "execution_count": 2,
   "metadata": {},
   "outputs": [
    {
     "name": "stdout",
     "output_type": "stream",
     "text": [
      "Variable     Type    Data/Info\n",
      "------------------------------\n",
      "DBNAME       str     project4\n",
      "IP_ADDRESS   str     hovies-dsi-project4.cnpp5<...>-west-2.rds.amazonaws.com\n",
      "PASSWORD     str     general_dsi_p4\n",
      "USER         str     dsi_project4\n"
     ]
    }
   ],
   "source": [
    "whos"
   ]
  },
  {
   "cell_type": "markdown",
   "metadata": {},
   "source": [
    "### Importing Libraries"
   ]
  },
  {
   "cell_type": "code",
   "execution_count": 3,
   "metadata": {},
   "outputs": [],
   "source": [
    "import psycopg2 as pg2\n",
    "from psycopg2.extras import RealDictCursor, Json\n",
    "import json, csv\n",
    "import pandas as pd"
   ]
  },
  {
   "cell_type": "markdown",
   "metadata": {},
   "source": [
    "### Functions: Connecting to DB | Executing Query"
   ]
  },
  {
   "cell_type": "code",
   "execution_count": 4,
   "metadata": {},
   "outputs": [],
   "source": [
    "def con_cur_to_db(dbname=DBNAME, dict_cur=None):\n",
    "    ''' \n",
    "    Returns both a connection and a cursor object for your database\n",
    "    '''\n",
    "\n",
    "    con = pg2.connect(host=IP_ADDRESS,\n",
    "                  dbname=dbname,\n",
    "                  user=USER,\n",
    "                  password=PASSWORD)\n",
    "    if dict_cur:\n",
    "        cur = con.cursor(cursor_factory=RealDictCursor)\n",
    "    else:\n",
    "        cur = con.cursor()\n",
    "    return con, cur\n",
    "    \n",
    "def execute_query(query, dbname=DBNAME, dict_cur=None, command=False):\n",
    "    '''\n",
    "    Executes a query directly to a database, without having to create a cursor and connection each time. \n",
    "    '''\n",
    "    con, cur = con_cur_to_db(dbname, dict_cur)\n",
    "    cur.execute(f'{query}')\n",
    "    if not command:\n",
    "        data = cur.fetchall()\n",
    "        con.close()\n",
    "        return data\n",
    "    con.commit()\n",
    "    con.close()"
   ]
  },
  {
   "cell_type": "markdown",
   "metadata": {},
   "source": [
    "### Importing Data"
   ]
  },
  {
   "cell_type": "code",
   "execution_count": 37,
   "metadata": {},
   "outputs": [],
   "source": [
    "df = pd.read_csv('./data/hovs_section.csv')"
   ]
  },
  {
   "cell_type": "code",
   "execution_count": 38,
   "metadata": {},
   "outputs": [
    {
     "data": {
      "text/html": [
       "<div>\n",
       "<style scoped>\n",
       "    .dataframe tbody tr th:only-of-type {\n",
       "        vertical-align: middle;\n",
       "    }\n",
       "\n",
       "    .dataframe tbody tr th {\n",
       "        vertical-align: top;\n",
       "    }\n",
       "\n",
       "    .dataframe thead th {\n",
       "        text-align: right;\n",
       "    }\n",
       "</style>\n",
       "<table border=\"1\" class=\"dataframe\">\n",
       "  <thead>\n",
       "    <tr style=\"text-align: right;\">\n",
       "      <th></th>\n",
       "      <th>id</th>\n",
       "      <th>name</th>\n",
       "      <th>alias</th>\n",
       "      <th>type</th>\n",
       "      <th>rating</th>\n",
       "      <th>review_count</th>\n",
       "      <th>price</th>\n",
       "      <th>location</th>\n",
       "      <th>latitude</th>\n",
       "      <th>longitude</th>\n",
       "    </tr>\n",
       "  </thead>\n",
       "  <tbody>\n",
       "    <tr>\n",
       "      <th>0</th>\n",
       "      <td>PEHM9AEqq0ca3vACyOMEwA</td>\n",
       "      <td>Lusy's Mediterranean Cafe &amp; Grill</td>\n",
       "      <td>lusys-mediterranean-cafe-and-grill-van-nuys-2</td>\n",
       "      <td>mediterranean</td>\n",
       "      <td>4.5</td>\n",
       "      <td>771</td>\n",
       "      <td>2.0</td>\n",
       "      <td>91401</td>\n",
       "      <td>34.186598</td>\n",
       "      <td>-118.431349</td>\n",
       "    </tr>\n",
       "    <tr>\n",
       "      <th>1</th>\n",
       "      <td>ja_cBagHfhI0eFJrw3BRTA</td>\n",
       "      <td>Kobee Factory</td>\n",
       "      <td>kobee-factory-van-nuys-2</td>\n",
       "      <td>mideastern</td>\n",
       "      <td>4.5</td>\n",
       "      <td>536</td>\n",
       "      <td>2.0</td>\n",
       "      <td>91401</td>\n",
       "      <td>34.179265</td>\n",
       "      <td>-118.440370</td>\n",
       "    </tr>\n",
       "    <tr>\n",
       "      <th>2</th>\n",
       "      <td>vWuft2V5ZKKWRPzQUHuKDw</td>\n",
       "      <td>Nat's Early Bite Coffee Shop</td>\n",
       "      <td>nats-early-bite-coffee-shop-sherman-oaks</td>\n",
       "      <td>diners</td>\n",
       "      <td>4.5</td>\n",
       "      <td>1069</td>\n",
       "      <td>2.0</td>\n",
       "      <td>91401</td>\n",
       "      <td>34.172400</td>\n",
       "      <td>-118.440530</td>\n",
       "    </tr>\n",
       "    <tr>\n",
       "      <th>3</th>\n",
       "      <td>DfmaMh5rJQ_o9vEvhfUDgQ</td>\n",
       "      <td>Uncle Tony's Pizzeria</td>\n",
       "      <td>uncle-tonys-pizzeria-north-hollywood</td>\n",
       "      <td>italian</td>\n",
       "      <td>4.0</td>\n",
       "      <td>1164</td>\n",
       "      <td>2.0</td>\n",
       "      <td>91606</td>\n",
       "      <td>34.187380</td>\n",
       "      <td>-118.416558</td>\n",
       "    </tr>\n",
       "    <tr>\n",
       "      <th>4</th>\n",
       "      <td>Mfa5dHJKcY4K-c3IQIxKkA</td>\n",
       "      <td>Krimsey's Cajun Kitchen</td>\n",
       "      <td>krimseys-cajun-kitchen-north-hollywood-2</td>\n",
       "      <td>vegan</td>\n",
       "      <td>4.5</td>\n",
       "      <td>870</td>\n",
       "      <td>2.0</td>\n",
       "      <td>91606</td>\n",
       "      <td>34.186299</td>\n",
       "      <td>-118.413965</td>\n",
       "    </tr>\n",
       "  </tbody>\n",
       "</table>\n",
       "</div>"
      ],
      "text/plain": [
       "                       id                               name  \\\n",
       "0  PEHM9AEqq0ca3vACyOMEwA  Lusy's Mediterranean Cafe & Grill   \n",
       "1  ja_cBagHfhI0eFJrw3BRTA                      Kobee Factory   \n",
       "2  vWuft2V5ZKKWRPzQUHuKDw       Nat's Early Bite Coffee Shop   \n",
       "3  DfmaMh5rJQ_o9vEvhfUDgQ              Uncle Tony's Pizzeria   \n",
       "4  Mfa5dHJKcY4K-c3IQIxKkA            Krimsey's Cajun Kitchen   \n",
       "\n",
       "                                           alias           type  rating  \\\n",
       "0  lusys-mediterranean-cafe-and-grill-van-nuys-2  mediterranean     4.5   \n",
       "1                       kobee-factory-van-nuys-2     mideastern     4.5   \n",
       "2       nats-early-bite-coffee-shop-sherman-oaks         diners     4.5   \n",
       "3           uncle-tonys-pizzeria-north-hollywood        italian     4.0   \n",
       "4       krimseys-cajun-kitchen-north-hollywood-2          vegan     4.5   \n",
       "\n",
       "   review_count  price  location   latitude   longitude  \n",
       "0           771    2.0     91401  34.186598 -118.431349  \n",
       "1           536    2.0     91401  34.179265 -118.440370  \n",
       "2          1069    2.0     91401  34.172400 -118.440530  \n",
       "3          1164    2.0     91606  34.187380 -118.416558  \n",
       "4           870    2.0     91606  34.186299 -118.413965  "
      ]
     },
     "execution_count": 38,
     "metadata": {},
     "output_type": "execute_result"
    }
   ],
   "source": [
    "df.drop('Unnamed: 0', axis = 1, inplace = True)\n",
    "df.head()"
   ]
  },
  {
   "cell_type": "markdown",
   "metadata": {},
   "source": [
    "### Replacing Commas in 'name' field with periods."
   ]
  },
  {
   "cell_type": "code",
   "execution_count": 39,
   "metadata": {},
   "outputs": [
    {
     "data": {
      "text/html": [
       "<div>\n",
       "<style scoped>\n",
       "    .dataframe tbody tr th:only-of-type {\n",
       "        vertical-align: middle;\n",
       "    }\n",
       "\n",
       "    .dataframe tbody tr th {\n",
       "        vertical-align: top;\n",
       "    }\n",
       "\n",
       "    .dataframe thead th {\n",
       "        text-align: right;\n",
       "    }\n",
       "</style>\n",
       "<table border=\"1\" class=\"dataframe\">\n",
       "  <thead>\n",
       "    <tr style=\"text-align: right;\">\n",
       "      <th></th>\n",
       "      <th>id</th>\n",
       "      <th>name</th>\n",
       "      <th>alias</th>\n",
       "      <th>type</th>\n",
       "      <th>rating</th>\n",
       "      <th>review_count</th>\n",
       "      <th>price</th>\n",
       "      <th>location</th>\n",
       "      <th>latitude</th>\n",
       "      <th>longitude</th>\n",
       "    </tr>\n",
       "  </thead>\n",
       "  <tbody>\n",
       "    <tr>\n",
       "      <th>0</th>\n",
       "      <td>PEHM9AEqq0ca3vACyOMEwA</td>\n",
       "      <td>Lusy's Mediterranean Cafe &amp; Grill</td>\n",
       "      <td>lusys-mediterranean-cafe-and-grill-van-nuys-2</td>\n",
       "      <td>mediterranean</td>\n",
       "      <td>4.5</td>\n",
       "      <td>771</td>\n",
       "      <td>2.0</td>\n",
       "      <td>91401</td>\n",
       "      <td>34.186598</td>\n",
       "      <td>-118.431349</td>\n",
       "    </tr>\n",
       "    <tr>\n",
       "      <th>1</th>\n",
       "      <td>ja_cBagHfhI0eFJrw3BRTA</td>\n",
       "      <td>Kobee Factory</td>\n",
       "      <td>kobee-factory-van-nuys-2</td>\n",
       "      <td>mideastern</td>\n",
       "      <td>4.5</td>\n",
       "      <td>536</td>\n",
       "      <td>2.0</td>\n",
       "      <td>91401</td>\n",
       "      <td>34.179265</td>\n",
       "      <td>-118.440370</td>\n",
       "    </tr>\n",
       "    <tr>\n",
       "      <th>2</th>\n",
       "      <td>vWuft2V5ZKKWRPzQUHuKDw</td>\n",
       "      <td>Nat's Early Bite Coffee Shop</td>\n",
       "      <td>nats-early-bite-coffee-shop-sherman-oaks</td>\n",
       "      <td>diners</td>\n",
       "      <td>4.5</td>\n",
       "      <td>1069</td>\n",
       "      <td>2.0</td>\n",
       "      <td>91401</td>\n",
       "      <td>34.172400</td>\n",
       "      <td>-118.440530</td>\n",
       "    </tr>\n",
       "    <tr>\n",
       "      <th>3</th>\n",
       "      <td>DfmaMh5rJQ_o9vEvhfUDgQ</td>\n",
       "      <td>Uncle Tony's Pizzeria</td>\n",
       "      <td>uncle-tonys-pizzeria-north-hollywood</td>\n",
       "      <td>italian</td>\n",
       "      <td>4.0</td>\n",
       "      <td>1164</td>\n",
       "      <td>2.0</td>\n",
       "      <td>91606</td>\n",
       "      <td>34.187380</td>\n",
       "      <td>-118.416558</td>\n",
       "    </tr>\n",
       "    <tr>\n",
       "      <th>4</th>\n",
       "      <td>Mfa5dHJKcY4K-c3IQIxKkA</td>\n",
       "      <td>Krimsey's Cajun Kitchen</td>\n",
       "      <td>krimseys-cajun-kitchen-north-hollywood-2</td>\n",
       "      <td>vegan</td>\n",
       "      <td>4.5</td>\n",
       "      <td>870</td>\n",
       "      <td>2.0</td>\n",
       "      <td>91606</td>\n",
       "      <td>34.186299</td>\n",
       "      <td>-118.413965</td>\n",
       "    </tr>\n",
       "  </tbody>\n",
       "</table>\n",
       "</div>"
      ],
      "text/plain": [
       "                       id                               name  \\\n",
       "0  PEHM9AEqq0ca3vACyOMEwA  Lusy's Mediterranean Cafe & Grill   \n",
       "1  ja_cBagHfhI0eFJrw3BRTA                      Kobee Factory   \n",
       "2  vWuft2V5ZKKWRPzQUHuKDw       Nat's Early Bite Coffee Shop   \n",
       "3  DfmaMh5rJQ_o9vEvhfUDgQ              Uncle Tony's Pizzeria   \n",
       "4  Mfa5dHJKcY4K-c3IQIxKkA            Krimsey's Cajun Kitchen   \n",
       "\n",
       "                                           alias           type  rating  \\\n",
       "0  lusys-mediterranean-cafe-and-grill-van-nuys-2  mediterranean     4.5   \n",
       "1                       kobee-factory-van-nuys-2     mideastern     4.5   \n",
       "2       nats-early-bite-coffee-shop-sherman-oaks         diners     4.5   \n",
       "3           uncle-tonys-pizzeria-north-hollywood        italian     4.0   \n",
       "4       krimseys-cajun-kitchen-north-hollywood-2          vegan     4.5   \n",
       "\n",
       "   review_count  price  location   latitude   longitude  \n",
       "0           771    2.0     91401  34.186598 -118.431349  \n",
       "1           536    2.0     91401  34.179265 -118.440370  \n",
       "2          1069    2.0     91401  34.172400 -118.440530  \n",
       "3          1164    2.0     91606  34.187380 -118.416558  \n",
       "4           870    2.0     91606  34.186299 -118.413965  "
      ]
     },
     "execution_count": 39,
     "metadata": {},
     "output_type": "execute_result"
    }
   ],
   "source": [
    "df['name'] = df['name'].map(lambda x: x.replace(',','.'))\n",
    "df.head()"
   ]
  },
  {
   "cell_type": "markdown",
   "metadata": {},
   "source": [
    "## Overwriting the old CSV"
   ]
  },
  {
   "cell_type": "code",
   "execution_count": 40,
   "metadata": {},
   "outputs": [],
   "source": [
    "df.to_csv('./data/hovs_section.csv', index=True)"
   ]
  },
  {
   "cell_type": "code",
   "execution_count": null,
   "metadata": {},
   "outputs": [],
   "source": [
    "# df['latitude'] = df['latitude'].map(lambda x: round(x,6))\n",
    "# df['longitude'] = df['longitude'].map(lambda x: round(x,6))\n",
    "# df.head()"
   ]
  },
  {
   "cell_type": "markdown",
   "metadata": {},
   "source": [
    "## Creating a PostgreSQL table"
   ]
  },
  {
   "cell_type": "markdown",
   "metadata": {},
   "source": [
    "### Query to Create table"
   ]
  },
  {
   "cell_type": "code",
   "execution_count": 36,
   "metadata": {},
   "outputs": [],
   "source": [
    "query = ''' CREATE TABLE hovanes_table\n",
    "\n",
    "(index varchar,\n",
    "id varchar,\n",
    "name varchar,\n",
    "alias varchar,\n",
    "type varchar,\n",
    "rating float(2),\n",
    "review_count int,\n",
    "price float(2),\n",
    "location varchar,\n",
    "latitude float(20),\n",
    "longitude float(20)\n",
    ");'''"
   ]
  },
  {
   "cell_type": "markdown",
   "metadata": {},
   "source": [
    "### Query to Drop Table ~ don't run unless you make a mistake and need to delete table"
   ]
  },
  {
   "cell_type": "code",
   "execution_count": 34,
   "metadata": {},
   "outputs": [],
   "source": [
    "# query = '''DROP TABLE hovanes_table;'''"
   ]
  },
  {
   "cell_type": "markdown",
   "metadata": {},
   "source": [
    "### Executing the Query"
   ]
  },
  {
   "cell_type": "code",
   "execution_count": 41,
   "metadata": {},
   "outputs": [],
   "source": [
    "execute_query(query, command=True)"
   ]
  },
  {
   "cell_type": "markdown",
   "metadata": {},
   "source": [
    "### Inputting Data Into the Table"
   ]
  },
  {
   "cell_type": "code",
   "execution_count": 42,
   "metadata": {},
   "outputs": [],
   "source": [
    "con, cur = con_cur_to_db()\n",
    "with open('./data/hovs_section.csv', 'r') as f:\n",
    "    # Notice that we don't need the `csv` module.\n",
    "    next(f)  # Skip the header row.\n",
    "    cur.copy_from(f, 'hovanes_table', sep=',')\n",
    "\n",
    "con.commit()"
   ]
  },
  {
   "cell_type": "code",
   "execution_count": 12,
   "metadata": {},
   "outputs": [],
   "source": [
    "# def insert_entry_json(data, tablename=None):\n",
    "#     con, cur = con_cur_to_db()\n",
    "#     for x in data:\n",
    "#         cur.execute(f'INSERT INTO {tablename} (data) VALUES ({Json(x)});')\n",
    "#     con.commit()\n",
    "#     con.close()"
   ]
  },
  {
   "cell_type": "code",
   "execution_count": 13,
   "metadata": {},
   "outputs": [],
   "source": [
    "# insert_entry_json(raw_data, tablename='david_table')"
   ]
  },
  {
   "cell_type": "code",
   "execution_count": 12,
   "metadata": {},
   "outputs": [],
   "source": [
    "# query = '''SELECT * FROM douglas_table;'''"
   ]
  },
  {
   "cell_type": "code",
   "execution_count": 13,
   "metadata": {},
   "outputs": [],
   "source": [
    "# response = execute_query(query)"
   ]
  },
  {
   "cell_type": "code",
   "execution_count": null,
   "metadata": {
    "scrolled": true
   },
   "outputs": [],
   "source": [
    "# response[0]"
   ]
  },
  {
   "cell_type": "code",
   "execution_count": 27,
   "metadata": {},
   "outputs": [],
   "source": [
    "# query = \"\"\"SELECT data->'text'\n",
    "# FROM douglas_table\n",
    "# WHERE data::text\n",
    "# LIKE '%RT%';\n",
    "# \"\"\""
   ]
  },
  {
   "cell_type": "code",
   "execution_count": 28,
   "metadata": {},
   "outputs": [],
   "source": [
    "# response = execute_query(query, dict_cur=True)"
   ]
  },
  {
   "cell_type": "code",
   "execution_count": null,
   "metadata": {},
   "outputs": [],
   "source": [
    "# len(response)"
   ]
  },
  {
   "cell_type": "code",
   "execution_count": 30,
   "metadata": {},
   "outputs": [],
   "source": [
    "# import pandas as pd"
   ]
  },
  {
   "cell_type": "code",
   "execution_count": null,
   "metadata": {},
   "outputs": [],
   "source": [
    "# pd.DataFrame(response)"
   ]
  }
 ],
 "metadata": {
  "kernelspec": {
   "display_name": "Python 3",
   "language": "python",
   "name": "python3"
  },
  "language_info": {
   "codemirror_mode": {
    "name": "ipython",
    "version": 3
   },
   "file_extension": ".py",
   "mimetype": "text/x-python",
   "name": "python",
   "nbconvert_exporter": "python",
   "pygments_lexer": "ipython3",
   "version": "3.7.3"
  }
 },
 "nbformat": 4,
 "nbformat_minor": 2
}
