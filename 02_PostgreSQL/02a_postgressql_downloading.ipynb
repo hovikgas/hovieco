{
 "cells": [
  {
   "cell_type": "markdown",
   "metadata": {},
   "source": [
    "# Importing Data from PostgresSQL Server#"
   ]
  },
  {
   "cell_type": "markdown",
   "metadata": {},
   "source": [
    "After establishing a PostgresSQL server and uploading all of our group data, we will pull the data to use for analysis"
   ]
  },
  {
   "cell_type": "code",
   "execution_count": 1,
   "metadata": {},
   "outputs": [],
   "source": [
    "import psycopg2 as pg2\n",
    "from psycopg2.extras import RealDictCursor, Json\n",
    "import pandas as pd\n",
    "import numpy as np\n",
    "import matplotlib.pyplot as plt\n",
    "\n",
    "\n",
    "%matplotlib inline"
   ]
  },
  {
   "cell_type": "markdown",
   "metadata": {},
   "source": [
    "We are creating a function to connect to the database and query the database"
   ]
  },
  {
   "cell_type": "code",
   "execution_count": 2,
   "metadata": {},
   "outputs": [],
   "source": [
    "%run sql_test.py"
   ]
  },
  {
   "cell_type": "code",
   "execution_count": 3,
   "metadata": {},
   "outputs": [],
   "source": [
    "def con_cur_to_db(dbname=DBNAME, dict_cur=None):\n",
    "    ''' \n",
    "    Returns both a connection and a cursor object for your database\n",
    "    '''\n",
    "\n",
    "    con = pg2.connect(host=IP_ADDRESS,\n",
    "                  dbname=dbname,\n",
    "                  user=USER,\n",
    "                  password=PASSWORD)\n",
    "    if dict_cur:\n",
    "        cur = con.cursor(cursor_factory=RealDictCursor)\n",
    "    else:\n",
    "        cur = con.cursor()\n",
    "    return con, cur\n",
    "    \n",
    "def execute_query(query, dbname=DBNAME, dict_cur=None, command=False):\n",
    "    '''\n",
    "    Executes a query directly to a database, without having to create a cursor and connection each time. \n",
    "    '''\n",
    "    con, cur = con_cur_to_db(dbname, dict_cur)\n",
    "    cur.execute(f'{query}')\n",
    "    if not command:\n",
    "        data = cur.fetchall()\n",
    "        con.close()\n",
    "        return data\n",
    "    con.commit()\n",
    "    con.close()"
   ]
  },
  {
   "cell_type": "markdown",
   "metadata": {},
   "source": [
    "### Executing query and Importing Yelp Data ###"
   ]
  },
  {
   "cell_type": "code",
   "execution_count": 62,
   "metadata": {},
   "outputs": [],
   "source": [
    "steve_query = '''SELECT  \n",
    "name,\n",
    "id,\n",
    "price,\n",
    "alias,\n",
    "type,\n",
    "type,\n",
    "rating,\n",
    "location,\n",
    "latitude,\n",
    "longitude\n",
    "\n",
    "FROM \n",
    "david_table;\n",
    "'''"
   ]
  },
  {
   "cell_type": "code",
   "execution_count": 55,
   "metadata": {},
   "outputs": [],
   "source": [
    "steve_list = execute_query(steve_query)"
   ]
  },
  {
   "cell_type": "code",
   "execution_count": 63,
   "metadata": {},
   "outputs": [],
   "source": [
    "david_list = execute_query(david_query)"
   ]
  },
  {
   "cell_type": "code",
   "execution_count": 50,
   "metadata": {},
   "outputs": [],
   "source": [
    "hov_list = execute_query(hov_query)"
   ]
  },
  {
   "cell_type": "markdown",
   "metadata": {},
   "source": [
    "Creating a DataFrame with the list pulled from database"
   ]
  },
  {
   "cell_type": "code",
   "execution_count": 64,
   "metadata": {},
   "outputs": [],
   "source": [
    "yelp_df_2 = pd.DataFrame(david_list, columns = [\n",
    "    'name', 'id', 'price', 'alias', 'type', 'category', 'rating', 'zip', 'latitude', 'longitude'])"
   ]
  },
  {
   "cell_type": "code",
   "execution_count": 65,
   "metadata": {},
   "outputs": [],
   "source": [
    "yelp_df_2['zip']=yelp_df_2['zip'].astype('int64')"
   ]
  },
  {
   "cell_type": "markdown",
   "metadata": {},
   "source": [
    "We are combining 3 different Yelp dataframes into one Restaurant dataframe. There is some data that does not belong (outside Zipcode parameters) and will be dropped."
   ]
  },
  {
   "cell_type": "code",
   "execution_count": 69,
   "metadata": {},
   "outputs": [],
   "source": [
    "yelp_df = pd.concat([yelp_df_1, yelp_df_2, yelp_df_3])"
   ]
  },
  {
   "cell_type": "code",
   "execution_count": 70,
   "metadata": {},
   "outputs": [
    {
     "data": {
      "text/html": [
       "<div>\n",
       "<style scoped>\n",
       "    .dataframe tbody tr th:only-of-type {\n",
       "        vertical-align: middle;\n",
       "    }\n",
       "\n",
       "    .dataframe tbody tr th {\n",
       "        vertical-align: top;\n",
       "    }\n",
       "\n",
       "    .dataframe thead th {\n",
       "        text-align: right;\n",
       "    }\n",
       "</style>\n",
       "<table border=\"1\" class=\"dataframe\">\n",
       "  <thead>\n",
       "    <tr style=\"text-align: right;\">\n",
       "      <th></th>\n",
       "      <th>name</th>\n",
       "      <th>id</th>\n",
       "      <th>price</th>\n",
       "      <th>alias</th>\n",
       "      <th>type</th>\n",
       "      <th>category</th>\n",
       "      <th>rating</th>\n",
       "      <th>zip</th>\n",
       "      <th>latitude</th>\n",
       "      <th>longitude</th>\n",
       "    </tr>\n",
       "  </thead>\n",
       "  <tbody>\n",
       "    <tr>\n",
       "      <th>1330</th>\n",
       "      <td>Pop Art</td>\n",
       "      <td>4Vt-_pOpIMLHj4Pa1eM-qg</td>\n",
       "      <td>1.0</td>\n",
       "      <td>pop-art-los-angeles-4</td>\n",
       "      <td>desserts</td>\n",
       "      <td>desserts</td>\n",
       "      <td>5.0</td>\n",
       "      <td>78704</td>\n",
       "      <td>34.0478</td>\n",
       "      <td>-118.2410</td>\n",
       "    </tr>\n",
       "    <tr>\n",
       "      <th>6083</th>\n",
       "      <td>Starbucks</td>\n",
       "      <td>XjNSmeYINzmw64ufoaoxmQ</td>\n",
       "      <td>2.0</td>\n",
       "      <td>starbucks-mesquite</td>\n",
       "      <td>coffee</td>\n",
       "      <td>coffee</td>\n",
       "      <td>2.5</td>\n",
       "      <td>89027</td>\n",
       "      <td>36.8147</td>\n",
       "      <td>-114.0660</td>\n",
       "    </tr>\n",
       "    <tr>\n",
       "      <th>9555</th>\n",
       "      <td>Sandwich University</td>\n",
       "      <td>5MbFGzdLpBNXz2q1Z3uRIA</td>\n",
       "      <td>2.0</td>\n",
       "      <td>sandwich-university-morgantown-2</td>\n",
       "      <td>sandwiches</td>\n",
       "      <td>sandwiches</td>\n",
       "      <td>3.5</td>\n",
       "      <td>26505</td>\n",
       "      <td>39.6318</td>\n",
       "      <td>-79.9544</td>\n",
       "    </tr>\n",
       "    <tr>\n",
       "      <th>9960</th>\n",
       "      <td>le nouveau siecle</td>\n",
       "      <td>N0p2aiJ429dHrbZxF4pPMA</td>\n",
       "      <td>2.0</td>\n",
       "      <td>le-nouveau-siecle-vernon</td>\n",
       "      <td>chinese</td>\n",
       "      <td>chinese</td>\n",
       "      <td>5.0</td>\n",
       "      <td>27200</td>\n",
       "      <td>33.9996</td>\n",
       "      <td>-118.2040</td>\n",
       "    </tr>\n",
       "    <tr>\n",
       "      <th>11303</th>\n",
       "      <td>Lock and Key Events</td>\n",
       "      <td>dXBBpsq5zwdGoiXQtFwdnA</td>\n",
       "      <td>2.0</td>\n",
       "      <td>lock-and-key-events-los-angeles-2</td>\n",
       "      <td>bars</td>\n",
       "      <td>bars</td>\n",
       "      <td>2.0</td>\n",
       "      <td>48093</td>\n",
       "      <td>34.0535</td>\n",
       "      <td>-118.2450</td>\n",
       "    </tr>\n",
       "    <tr>\n",
       "      <th>258</th>\n",
       "      <td>Pop Art</td>\n",
       "      <td>4Vt-_pOpIMLHj4Pa1eM-qg</td>\n",
       "      <td>1.0</td>\n",
       "      <td>pop-art-los-angeles-4</td>\n",
       "      <td>desserts</td>\n",
       "      <td>desserts</td>\n",
       "      <td>5.0</td>\n",
       "      <td>78704</td>\n",
       "      <td>34.0478</td>\n",
       "      <td>-118.2410</td>\n",
       "    </tr>\n",
       "  </tbody>\n",
       "</table>\n",
       "</div>"
      ],
      "text/plain": [
       "                      name                      id  price  \\\n",
       "1330               Pop Art  4Vt-_pOpIMLHj4Pa1eM-qg    1.0   \n",
       "6083             Starbucks  XjNSmeYINzmw64ufoaoxmQ    2.0   \n",
       "9555   Sandwich University  5MbFGzdLpBNXz2q1Z3uRIA    2.0   \n",
       "9960     le nouveau siecle  N0p2aiJ429dHrbZxF4pPMA    2.0   \n",
       "11303  Lock and Key Events  dXBBpsq5zwdGoiXQtFwdnA    2.0   \n",
       "258                Pop Art  4Vt-_pOpIMLHj4Pa1eM-qg    1.0   \n",
       "\n",
       "                                   alias        type    category  rating  \\\n",
       "1330               pop-art-los-angeles-4    desserts    desserts     5.0   \n",
       "6083                  starbucks-mesquite      coffee      coffee     2.5   \n",
       "9555    sandwich-university-morgantown-2  sandwiches  sandwiches     3.5   \n",
       "9960            le-nouveau-siecle-vernon     chinese     chinese     5.0   \n",
       "11303  lock-and-key-events-los-angeles-2        bars        bars     2.0   \n",
       "258                pop-art-los-angeles-4    desserts    desserts     5.0   \n",
       "\n",
       "         zip  latitude  longitude  \n",
       "1330   78704   34.0478  -118.2410  \n",
       "6083   89027   36.8147  -114.0660  \n",
       "9555   26505   39.6318   -79.9544  \n",
       "9960   27200   33.9996  -118.2040  \n",
       "11303  48093   34.0535  -118.2450  \n",
       "258    78704   34.0478  -118.2410  "
      ]
     },
     "execution_count": 70,
     "metadata": {},
     "output_type": "execute_result"
    }
   ],
   "source": [
    "yelp_df[yelp_df['zip']<90000]"
   ]
  },
  {
   "cell_type": "code",
   "execution_count": 71,
   "metadata": {},
   "outputs": [],
   "source": [
    "yelp_df.drop(index=[1330, 6083, 9555, 9960, 11303, 258], inplace = True)"
   ]
  },
  {
   "cell_type": "code",
   "execution_count": 74,
   "metadata": {},
   "outputs": [
    {
     "data": {
      "text/html": [
       "<div>\n",
       "<style scoped>\n",
       "    .dataframe tbody tr th:only-of-type {\n",
       "        vertical-align: middle;\n",
       "    }\n",
       "\n",
       "    .dataframe tbody tr th {\n",
       "        vertical-align: top;\n",
       "    }\n",
       "\n",
       "    .dataframe thead th {\n",
       "        text-align: right;\n",
       "    }\n",
       "</style>\n",
       "<table border=\"1\" class=\"dataframe\">\n",
       "  <thead>\n",
       "    <tr style=\"text-align: right;\">\n",
       "      <th></th>\n",
       "      <th>name</th>\n",
       "      <th>id</th>\n",
       "      <th>price</th>\n",
       "      <th>alias</th>\n",
       "      <th>type</th>\n",
       "      <th>category</th>\n",
       "      <th>rating</th>\n",
       "      <th>zip</th>\n",
       "      <th>latitude</th>\n",
       "      <th>longitude</th>\n",
       "    </tr>\n",
       "  </thead>\n",
       "  <tbody>\n",
       "    <tr>\n",
       "      <th>4498</th>\n",
       "      <td>Gallagher's Irish Pub</td>\n",
       "      <td>KyJSbA4nS5ASlpL65QCd5g</td>\n",
       "      <td>2.0</td>\n",
       "      <td>gallaghers-irish-pub-scotia</td>\n",
       "      <td>irish_pubs</td>\n",
       "      <td>irish_pubs</td>\n",
       "      <td>3.0</td>\n",
       "      <td>95565</td>\n",
       "      <td>40.4845</td>\n",
       "      <td>-124.101</td>\n",
       "    </tr>\n",
       "  </tbody>\n",
       "</table>\n",
       "</div>"
      ],
      "text/plain": [
       "                       name                      id  price  \\\n",
       "4498  Gallagher's Irish Pub  KyJSbA4nS5ASlpL65QCd5g    2.0   \n",
       "\n",
       "                            alias        type    category  rating    zip  \\\n",
       "4498  gallaghers-irish-pub-scotia  irish_pubs  irish_pubs     3.0  95565   \n",
       "\n",
       "      latitude  longitude  \n",
       "4498   40.4845   -124.101  "
      ]
     },
     "execution_count": 74,
     "metadata": {},
     "output_type": "execute_result"
    }
   ],
   "source": [
    "yelp_df[yelp_df['latitude']>40]"
   ]
  },
  {
   "cell_type": "code",
   "execution_count": 75,
   "metadata": {},
   "outputs": [],
   "source": [
    "yelp_df.drop(index=[4498], inplace = True)"
   ]
  },
  {
   "cell_type": "markdown",
   "metadata": {},
   "source": [
    "**Exporting New Restaurant DataFrame**"
   ]
  },
  {
   "cell_type": "code",
   "execution_count": null,
   "metadata": {},
   "outputs": [],
   "source": [
    "yelp_df.to_csv('./data/yelp_combined.csv', header=yelp_df.columns)"
   ]
  },
  {
   "cell_type": "markdown",
   "metadata": {},
   "source": [
    "### Executing Query and Importing Properties ###"
   ]
  },
  {
   "cell_type": "code",
   "execution_count": 25,
   "metadata": {},
   "outputs": [],
   "source": [
    "property_query = '''SELECT  \n",
    "AIN,\n",
    "PropertyLocation,\n",
    "location,\n",
    "LandBaseYear,\n",
    "netTaxableValue,\n",
    "latitude,\n",
    "longitude,\n",
    "cluster\n",
    "\n",
    "FROM \n",
    "property_table;\n",
    "'''"
   ]
  },
  {
   "cell_type": "code",
   "execution_count": 26,
   "metadata": {},
   "outputs": [],
   "source": [
    "property_list = execute_query(property_query)"
   ]
  },
  {
   "cell_type": "code",
   "execution_count": 27,
   "metadata": {},
   "outputs": [],
   "source": [
    "property_df = pd.DataFrame(property_list, columns = [\n",
    "    'property_id', 'address', 'zip', 'year_reassessed', 'value', 'latitude', 'longitude', 'county_cluster'])"
   ]
  },
  {
   "cell_type": "code",
   "execution_count": 28,
   "metadata": {},
   "outputs": [
    {
     "data": {
      "text/html": [
       "<div>\n",
       "<style scoped>\n",
       "    .dataframe tbody tr th:only-of-type {\n",
       "        vertical-align: middle;\n",
       "    }\n",
       "\n",
       "    .dataframe tbody tr th {\n",
       "        vertical-align: top;\n",
       "    }\n",
       "\n",
       "    .dataframe thead th {\n",
       "        text-align: right;\n",
       "    }\n",
       "</style>\n",
       "<table border=\"1\" class=\"dataframe\">\n",
       "  <thead>\n",
       "    <tr style=\"text-align: right;\">\n",
       "      <th></th>\n",
       "      <th>property_id</th>\n",
       "      <th>address</th>\n",
       "      <th>zip</th>\n",
       "      <th>year_reassessed</th>\n",
       "      <th>value</th>\n",
       "      <th>latitude</th>\n",
       "      <th>longitude</th>\n",
       "      <th>county_cluster</th>\n",
       "    </tr>\n",
       "  </thead>\n",
       "  <tbody>\n",
       "    <tr>\n",
       "      <th>0</th>\n",
       "      <td>2872021039</td>\n",
       "      <td>18501 CALLE VISTA CIR  LOS ANGELES CA  91326</td>\n",
       "      <td>91326</td>\n",
       "      <td>2017</td>\n",
       "      <td>1288400.0</td>\n",
       "      <td>34.2853</td>\n",
       "      <td>-118.535</td>\n",
       "      <td>2102</td>\n",
       "    </tr>\n",
       "    <tr>\n",
       "      <th>1</th>\n",
       "      <td>2872021038</td>\n",
       "      <td>18500 CALLE VISTA CIR  LOS ANGELES CA  91326</td>\n",
       "      <td>91326</td>\n",
       "      <td>2011</td>\n",
       "      <td>619286.0</td>\n",
       "      <td>34.2849</td>\n",
       "      <td>-118.534</td>\n",
       "      <td>2102</td>\n",
       "    </tr>\n",
       "    <tr>\n",
       "      <th>2</th>\n",
       "      <td>2872021017</td>\n",
       "      <td>18504 ENTRADA CT  LOS ANGELES CA  91326</td>\n",
       "      <td>91326</td>\n",
       "      <td>2012</td>\n",
       "      <td>618184.0</td>\n",
       "      <td>34.2842</td>\n",
       "      <td>-118.534</td>\n",
       "      <td>2102</td>\n",
       "    </tr>\n",
       "    <tr>\n",
       "      <th>3</th>\n",
       "      <td>2872021010</td>\n",
       "      <td>18526 ENTRADA CT  LOS ANGELES CA  91326</td>\n",
       "      <td>91326</td>\n",
       "      <td>2014</td>\n",
       "      <td>748768.0</td>\n",
       "      <td>34.2829</td>\n",
       "      <td>-118.535</td>\n",
       "      <td>2102</td>\n",
       "    </tr>\n",
       "    <tr>\n",
       "      <th>4</th>\n",
       "      <td>2872021001</td>\n",
       "      <td>18501 BRASILIA DR  LOS ANGELES CA  91326</td>\n",
       "      <td>91326</td>\n",
       "      <td>2011</td>\n",
       "      <td>613655.0</td>\n",
       "      <td>34.2823</td>\n",
       "      <td>-118.535</td>\n",
       "      <td>2102</td>\n",
       "    </tr>\n",
       "  </tbody>\n",
       "</table>\n",
       "</div>"
      ],
      "text/plain": [
       "   property_id                                       address    zip  \\\n",
       "0   2872021039  18501 CALLE VISTA CIR  LOS ANGELES CA  91326  91326   \n",
       "1   2872021038  18500 CALLE VISTA CIR  LOS ANGELES CA  91326  91326   \n",
       "2   2872021017       18504 ENTRADA CT  LOS ANGELES CA  91326  91326   \n",
       "3   2872021010       18526 ENTRADA CT  LOS ANGELES CA  91326  91326   \n",
       "4   2872021001      18501 BRASILIA DR  LOS ANGELES CA  91326  91326   \n",
       "\n",
       "   year_reassessed      value  latitude  longitude  county_cluster  \n",
       "0             2017  1288400.0   34.2853   -118.535            2102  \n",
       "1             2011   619286.0   34.2849   -118.534            2102  \n",
       "2             2012   618184.0   34.2842   -118.534            2102  \n",
       "3             2014   748768.0   34.2829   -118.535            2102  \n",
       "4             2011   613655.0   34.2823   -118.535            2102  "
      ]
     },
     "execution_count": 28,
     "metadata": {},
     "output_type": "execute_result"
    }
   ],
   "source": [
    "property_df.head()"
   ]
  },
  {
   "cell_type": "markdown",
   "metadata": {},
   "source": [
    "**Exporting New Property DataFrame**"
   ]
  },
  {
   "cell_type": "code",
   "execution_count": null,
   "metadata": {},
   "outputs": [],
   "source": [
    "property_df.to_csv('./data/property_df_cleaned.csv', header=property_df.columns)"
   ]
  },
  {
   "cell_type": "markdown",
   "metadata": {},
   "source": [
    "**Visualizing Restaurants over Homes**\n",
    "\n",
    "\n",
    "Some extreme outliers exist in our Restaurant samples. This will be addressed in next preprocessing notebook"
   ]
  },
  {
   "cell_type": "code",
   "execution_count": 82,
   "metadata": {},
   "outputs": [
    {
     "data": {
      "image/png": "[encoded data removed]",
      "text/plain": [
       "<Figure size 1440x1440 with 1 Axes>"
      ]
     },
     "metadata": {
      "needs_background": "light"
     },
     "output_type": "display_data"
    }
   ],
   "source": [
    "fig, ax = plt.subplots(figsize =(20,20))\n",
    "ax.scatter(property_df['longitude'], property_df['latitude'], color='b', alpha=0.5, label='Homes')\n",
    "plt.scatter(yelp_df['longitude'], yelp_df['latitude'], color='red', label='Restaurants')\n",
    "plt.title('LA City Homes and Restaurants', fontsize=28)\n",
    "plt.xlabel('Longitude', fontsize=20)\n",
    "plt.ylabel('Latitude', fontsize=20)\n",
    "ax.legend(fontsize=20);"
   ]
  }
 ],
 "metadata": {
  "kernelspec": {
   "display_name": "Python 3",
   "language": "python",
   "name": "python3"
  },
  "language_info": {
   "codemirror_mode": {
    "name": "ipython",
    "version": 3
   },
   "file_extension": ".py",
   "mimetype": "text/x-python",
   "name": "python",
   "nbconvert_exporter": "python",
   "pygments_lexer": "ipython3",
   "version": "3.7.1"
  }
 },
 "nbformat": 4,
 "nbformat_minor": 2
}
