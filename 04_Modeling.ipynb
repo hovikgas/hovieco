{
 "cells": [
  {
   "cell_type": "markdown",
   "metadata": {},
   "source": [
    "# Baseline Modeling"
   ]
  },
  {
   "cell_type": "code",
   "execution_count": 4,
   "metadata": {},
   "outputs": [],
   "source": [
    "import pandas as pd\n",
    "import numpy as np\n",
    "import seaborn as sns\n",
    "import matplotlib.pyplot as plt\n",
    "%matplotlib inline\n",
    "\n",
    "from sklearn.linear_model import LinearRegression, Lasso, Ridge\n",
    "from sklearn.model_selection import train_test_split\n",
    "from sklearn.ensemble import RandomForestRegressor\n",
    "from sklearn.preprocessing import StandardScaler\n",
    "import statsmodels.api as sm"
   ]
  },
  {
   "cell_type": "code",
   "execution_count": 2,
   "metadata": {},
   "outputs": [],
   "source": [
    "groupdf = pd.read_csv('./data/groupdf.csv')"
   ]
  },
  {
   "cell_type": "code",
   "execution_count": 3,
   "metadata": {},
   "outputs": [
    {
     "data": {
      "text/html": [
       "<div>\n",
       "<style scoped>\n",
       "    .dataframe tbody tr th:only-of-type {\n",
       "        vertical-align: middle;\n",
       "    }\n",
       "\n",
       "    .dataframe tbody tr th {\n",
       "        vertical-align: top;\n",
       "    }\n",
       "\n",
       "    .dataframe thead th {\n",
       "        text-align: right;\n",
       "    }\n",
       "</style>\n",
       "<table border=\"1\" class=\"dataframe\">\n",
       "  <thead>\n",
       "    <tr style=\"text-align: right;\">\n",
       "      <th></th>\n",
       "      <th>location</th>\n",
       "      <th>totalvalue</th>\n",
       "      <th>latitude_x</th>\n",
       "      <th>longitude_x</th>\n",
       "      <th>logvalue</th>\n",
       "      <th>review_count</th>\n",
       "      <th>latitude_y</th>\n",
       "      <th>longitude_y</th>\n",
       "      <th>log_reviews</th>\n",
       "      <th>price_1.0</th>\n",
       "      <th>...</th>\n",
       "      <th>type_Venues</th>\n",
       "      <th>type_Vietnamese</th>\n",
       "      <th>type_Vitaminssupplements</th>\n",
       "      <th>type_Waffles</th>\n",
       "      <th>type_Whiskeybars</th>\n",
       "      <th>type_Wine_Bars</th>\n",
       "      <th>type_Winetastingroom</th>\n",
       "      <th>type_Womenscloth</th>\n",
       "      <th>type_Wraps</th>\n",
       "      <th>type_Yoga</th>\n",
       "    </tr>\n",
       "  </thead>\n",
       "  <tbody>\n",
       "    <tr>\n",
       "      <th>0</th>\n",
       "      <td>90001</td>\n",
       "      <td>2.924906e+05</td>\n",
       "      <td>33.968543</td>\n",
       "      <td>-118.261693</td>\n",
       "      <td>12.564232</td>\n",
       "      <td>8588</td>\n",
       "      <td>6353.401556</td>\n",
       "      <td>-22112.494475</td>\n",
       "      <td>502.254649</td>\n",
       "      <td>135.0</td>\n",
       "      <td>...</td>\n",
       "      <td>0.0</td>\n",
       "      <td>0.0</td>\n",
       "      <td>0.0</td>\n",
       "      <td>0.0</td>\n",
       "      <td>0.0</td>\n",
       "      <td>0.0</td>\n",
       "      <td>0.0</td>\n",
       "      <td>0.0</td>\n",
       "      <td>0.0</td>\n",
       "      <td>0.0</td>\n",
       "    </tr>\n",
       "    <tr>\n",
       "      <th>1</th>\n",
       "      <td>90002</td>\n",
       "      <td>2.870877e+05</td>\n",
       "      <td>33.946024</td>\n",
       "      <td>-118.250578</td>\n",
       "      <td>12.551515</td>\n",
       "      <td>1081</td>\n",
       "      <td>1459.928001</td>\n",
       "      <td>-5084.555034</td>\n",
       "      <td>98.170200</td>\n",
       "      <td>39.0</td>\n",
       "      <td>...</td>\n",
       "      <td>0.0</td>\n",
       "      <td>0.0</td>\n",
       "      <td>0.0</td>\n",
       "      <td>0.0</td>\n",
       "      <td>0.0</td>\n",
       "      <td>0.0</td>\n",
       "      <td>0.0</td>\n",
       "      <td>0.0</td>\n",
       "      <td>0.0</td>\n",
       "      <td>0.0</td>\n",
       "    </tr>\n",
       "    <tr>\n",
       "      <th>2</th>\n",
       "      <td>90003</td>\n",
       "      <td>2.972847e+05</td>\n",
       "      <td>33.961248</td>\n",
       "      <td>-118.273066</td>\n",
       "      <td>12.573247</td>\n",
       "      <td>4701</td>\n",
       "      <td>4755.757869</td>\n",
       "      <td>-16558.215243</td>\n",
       "      <td>383.669881</td>\n",
       "      <td>118.0</td>\n",
       "      <td>...</td>\n",
       "      <td>0.0</td>\n",
       "      <td>0.0</td>\n",
       "      <td>0.0</td>\n",
       "      <td>0.0</td>\n",
       "      <td>0.0</td>\n",
       "      <td>0.0</td>\n",
       "      <td>0.0</td>\n",
       "      <td>0.0</td>\n",
       "      <td>0.0</td>\n",
       "      <td>0.0</td>\n",
       "    </tr>\n",
       "    <tr>\n",
       "      <th>3</th>\n",
       "      <td>90004</td>\n",
       "      <td>1.024344e+06</td>\n",
       "      <td>34.077047</td>\n",
       "      <td>-118.313083</td>\n",
       "      <td>13.743391</td>\n",
       "      <td>69031</td>\n",
       "      <td>7939.550715</td>\n",
       "      <td>-27565.505661</td>\n",
       "      <td>1115.333722</td>\n",
       "      <td>98.0</td>\n",
       "      <td>...</td>\n",
       "      <td>0.0</td>\n",
       "      <td>2.0</td>\n",
       "      <td>0.0</td>\n",
       "      <td>0.0</td>\n",
       "      <td>0.0</td>\n",
       "      <td>0.0</td>\n",
       "      <td>0.0</td>\n",
       "      <td>0.0</td>\n",
       "      <td>0.0</td>\n",
       "      <td>0.0</td>\n",
       "    </tr>\n",
       "    <tr>\n",
       "      <th>4</th>\n",
       "      <td>90005</td>\n",
       "      <td>1.113551e+06</td>\n",
       "      <td>34.058708</td>\n",
       "      <td>-118.319786</td>\n",
       "      <td>13.858325</td>\n",
       "      <td>106745</td>\n",
       "      <td>7901.772113</td>\n",
       "      <td>-27445.860659</td>\n",
       "      <td>1236.250662</td>\n",
       "      <td>73.0</td>\n",
       "      <td>...</td>\n",
       "      <td>0.0</td>\n",
       "      <td>4.0</td>\n",
       "      <td>0.0</td>\n",
       "      <td>0.0</td>\n",
       "      <td>0.0</td>\n",
       "      <td>0.0</td>\n",
       "      <td>0.0</td>\n",
       "      <td>0.0</td>\n",
       "      <td>0.0</td>\n",
       "      <td>0.0</td>\n",
       "    </tr>\n",
       "  </tbody>\n",
       "</table>\n",
       "<p>5 rows × 259 columns</p>\n",
       "</div>"
      ],
      "text/plain": [
       "   location    totalvalue  latitude_x  longitude_x   logvalue  review_count  \\\n",
       "0     90001  2.924906e+05   33.968543  -118.261693  12.564232          8588   \n",
       "1     90002  2.870877e+05   33.946024  -118.250578  12.551515          1081   \n",
       "2     90003  2.972847e+05   33.961248  -118.273066  12.573247          4701   \n",
       "3     90004  1.024344e+06   34.077047  -118.313083  13.743391         69031   \n",
       "4     90005  1.113551e+06   34.058708  -118.319786  13.858325        106745   \n",
       "\n",
       "    latitude_y   longitude_y  log_reviews  price_1.0  ...  type_Venues  \\\n",
       "0  6353.401556 -22112.494475   502.254649      135.0  ...          0.0   \n",
       "1  1459.928001  -5084.555034    98.170200       39.0  ...          0.0   \n",
       "2  4755.757869 -16558.215243   383.669881      118.0  ...          0.0   \n",
       "3  7939.550715 -27565.505661  1115.333722       98.0  ...          0.0   \n",
       "4  7901.772113 -27445.860659  1236.250662       73.0  ...          0.0   \n",
       "\n",
       "   type_Vietnamese  type_Vitaminssupplements  type_Waffles  type_Whiskeybars  \\\n",
       "0              0.0                       0.0           0.0               0.0   \n",
       "1              0.0                       0.0           0.0               0.0   \n",
       "2              0.0                       0.0           0.0               0.0   \n",
       "3              2.0                       0.0           0.0               0.0   \n",
       "4              4.0                       0.0           0.0               0.0   \n",
       "\n",
       "   type_Wine_Bars  type_Winetastingroom  type_Womenscloth  type_Wraps  \\\n",
       "0             0.0                   0.0               0.0         0.0   \n",
       "1             0.0                   0.0               0.0         0.0   \n",
       "2             0.0                   0.0               0.0         0.0   \n",
       "3             0.0                   0.0               0.0         0.0   \n",
       "4             0.0                   0.0               0.0         0.0   \n",
       "\n",
       "   type_Yoga  \n",
       "0        0.0  \n",
       "1        0.0  \n",
       "2        0.0  \n",
       "3        0.0  \n",
       "4        0.0  \n",
       "\n",
       "[5 rows x 259 columns]"
      ]
     },
     "execution_count": 3,
     "metadata": {},
     "output_type": "execute_result"
    }
   ],
   "source": [
    "groupdf.ty"
   ]
  },
  {
   "cell_type": "markdown",
   "metadata": {},
   "source": [
    "Setting our primary explanatory variables for our baseline model with just the top 6 restaurant types"
   ]
  },
  {
   "cell_type": "code",
   "execution_count": 6,
   "metadata": {},
   "outputs": [],
   "source": [
    "X = groupdf[['price_1.0',\n",
    "             'price_2.0', \n",
    "            'price_3.0', \n",
    "            'price_4.0', \n",
    "            'rating_1.0', \n",
    "            'rating_2.0', \n",
    "            'rating_2.5', \n",
    "            'rating_3.0',\n",
    "            'rating_3.5', \n",
    "            'rating_4.0', \n",
    "            'rating_4.5', \n",
    "            'rating_5.0', \n",
    "           'type_Mexican',\n",
    "           'type_Coffee',\n",
    "           'type_Pizza',\n",
    "           'type_Hotdogs',\n",
    "           'type_Burgers',\n",
    "           'type_Bakeries',\n",
    "            'log_reviews']]"
   ]
  },
  {
   "cell_type": "markdown",
   "metadata": {},
   "source": [
    "Setting our outcome variable as the log-transformed home values"
   ]
  },
  {
   "cell_type": "code",
   "execution_count": 7,
   "metadata": {},
   "outputs": [],
   "source": [
    "y = groupdf.logvalue"
   ]
  },
  {
   "cell_type": "markdown",
   "metadata": {},
   "source": [
    "Instantiating a Linear regression model, train/test splitting, and scaling the model."
   ]
  },
  {
   "cell_type": "code",
   "execution_count": 10,
   "metadata": {},
   "outputs": [],
   "source": [
    "lr = LinearRegression()\n",
    "X_train, X_test, y_train, y_test = train_test_split(X, y, random_state=42)"
   ]
  },
  {
   "cell_type": "code",
   "execution_count": 11,
   "metadata": {},
   "outputs": [],
   "source": [
    "sc = StandardScaler()"
   ]
  },
  {
   "cell_type": "code",
   "execution_count": 12,
   "metadata": {},
   "outputs": [],
   "source": [
    "X_train_sc = sc.fit_transform(X_train)\n",
    "X_test_sc = sc.transform(X_test)"
   ]
  },
  {
   "cell_type": "code",
   "execution_count": 13,
   "metadata": {},
   "outputs": [
    {
     "data": {
      "text/plain": [
       "LinearRegression(copy_X=True, fit_intercept=True, n_jobs=None,\n",
       "         normalize=False)"
      ]
     },
     "execution_count": 13,
     "metadata": {},
     "output_type": "execute_result"
    }
   ],
   "source": [
    "lr.fit(X_train_sc, y_train)"
   ]
  },
  {
   "cell_type": "code",
   "execution_count": 14,
   "metadata": {},
   "outputs": [
    {
     "data": {
      "text/plain": [
       "0.694967392695512"
      ]
     },
     "execution_count": 14,
     "metadata": {},
     "output_type": "execute_result"
    }
   ],
   "source": [
    "lr.score(X_train_sc, y_train)"
   ]
  },
  {
   "cell_type": "code",
   "execution_count": 15,
   "metadata": {},
   "outputs": [
    {
     "data": {
      "text/plain": [
       "-0.0974639276197198"
      ]
     },
     "execution_count": 15,
     "metadata": {},
     "output_type": "execute_result"
    }
   ],
   "source": [
    "lr.score(X_test_sc, y_test)"
   ]
  },
  {
   "cell_type": "code",
   "execution_count": null,
   "metadata": {},
   "outputs": [],
   "source": [
    "So it seems like our baseline linear regression model is very overfit on the training set and due to multicollinearity issues, fails to converge on the "
   ]
  }
 ],
 "metadata": {
  "kernelspec": {
   "display_name": "Python 3",
   "language": "python",
   "name": "python3"
  },
  "language_info": {
   "codemirror_mode": {
    "name": "ipython",
    "version": 3
   },
   "file_extension": ".py",
   "mimetype": "text/x-python",
   "name": "python",
   "nbconvert_exporter": "python",
   "pygments_lexer": "ipython3",
   "version": "3.7.3"
  }
 },
 "nbformat": 4,
 "nbformat_minor": 2
}
