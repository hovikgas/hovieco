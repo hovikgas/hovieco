{
 "cells": [
  {
   "cell_type": "markdown",
   "metadata": {},
   "source": [
    "Using Python's YelpAPI to Access the Yelp Fusion API"
   ]
  },
  {
   "cell_type": "code",
   "execution_count": 5,
   "metadata": {},
   "outputs": [],
   "source": [
    "from yelpapi import YelpAPI\n",
    "import requests, time, json\n",
    "import pandas as pd\n",
    "import re\n",
    "import os"
   ]
  },
  {
   "cell_type": "code",
   "execution_count": 6,
   "metadata": {},
   "outputs": [],
   "source": [
    "MY_API_KEY = \"G07Y44e7xpqOaHwVSSyrU8yORkXOc6wvMrXw_ZswImf_vi9v5Ex8N55y1gPmcS6ud51rR2WF8EDQ093Bxq7fKJgEwuf1GlIFCP8qenIbW-qwBnSPekztADggYdmrXHYx\""
   ]
  },
  {
   "cell_type": "code",
   "execution_count": 7,
   "metadata": {},
   "outputs": [],
   "source": [
    "yelp_api = YelpAPI(MY_API_KEY)"
   ]
  },
  {
   "cell_type": "markdown",
   "metadata": {},
   "source": [
    "Defining a custom function for automatically creating a log-file"
   ]
  },
  {
   "cell_type": "code",
   "execution_count": 8,
   "metadata": {},
   "outputs": [],
   "source": [
    "def filename_format_log(file_path, \n",
    "                        logfile = './data/file_log.txt',  \n",
    "                        file_description = None): \n",
    "   \n",
    "    try:\n",
    "        ext = re.search('(?<!^)(?<!\\.)\\.(?!\\.)', file_path).start() \n",
    "    except:\n",
    "        raise NameError('Please enter a relative path with a file extension.') \n",
    "    \n",
    "    stamp = re.search('(?<!^)(?<!\\.)[a-z]+_[a-z]+(?=\\.)', file_path).start()\n",
    "    formatted_name = f'{file_path[:stamp]}{round(time.time())}_{file_path[stamp:]}'  \n",
    "    if not file_description:\n",
    "        file_description = f'Pull: {time.asctime(time.gmtime(round(time.time())))}'\n",
    "    with open(logfile, 'a+') as f:\n",
    "        f.write(f'{formatted_name}: {file_description}\\n')\n",
    "    return formatted_name, file_description"
   ]
  },
  {
   "cell_type": "markdown",
   "metadata": {},
   "source": [
    "Defining a custom function for my Yelp query"
   ]
  },
  {
   "cell_type": "code",
   "execution_count": 9,
   "metadata": {},
   "outputs": [],
   "source": [
    "def yelp_query(category, zip_code, offset_number, n_samples=1000):\n",
    "    yelp_api = YelpAPI(MY_API_KEY)\n",
    "    last_result = round(time.time())\n",
    "    yelp_results = []\n",
    "    size = 50\n",
    "    loops = 0\n",
    "    run = 1\n",
    "    offset_count = offset_number\n",
    "   \n",
    "    \n",
    "    while loops < n_samples:\n",
    "        \n",
    "        print(f'Starting query {run}')\n",
    "        posts = yelp_api.search_query(categories=category, location = zip_code, offset=offset_count, limit=size) \n",
    "            \n",
    "        yelp_results.extend(posts['businesses'])\n",
    "        loops += size\n",
    "        offset_count += 50\n",
    "        time.sleep(3) \n",
    "        run += 1\n",
    "       \n",
    "    \n",
    "    formatted_name, file_description = filename_format_log(file_path =f'./data/raw_{category}.json')\n",
    "    with open(formatted_name, 'w+') as f:\n",
    "        json.dump(yelp_results, f)\n",
    "    \n",
    "    print(f'Saved and completed query and returned {len(yelp_results)} {category}s.')\n",
    "    print(f'Yelp text is ready for processing.')\n",
    "    return print(f'Last timestamp was {round(time.time())}.')"
   ]
  },
  {
   "cell_type": "markdown",
   "metadata": {},
   "source": [
    "Creating a list for all our zipcodes of interest in Los Angeles County"
   ]
  },
  {
   "cell_type": "code",
   "execution_count": 10,
   "metadata": {},
   "outputs": [],
   "source": [
    "zip_code_list = [91342,91344,91335,91331,91326,91364,91306,91406,91343,91367,91304,90047,90045,90065,\n",
    "                 90066,90042,90068,90049,90272,91604,90046,91307,91311,90731,91352,91605,91042,\n",
    "                 91040,90044,91356,91423,90043,91325,90032,91401,91316,90064,91405,90016,91402,91436,91606,90026,90019,\n",
    "                 90003,91403,90002,91324,90039,90291,90034,90041,91607,90744,90210,90027,90018,90011,90732,90077,90004,\n",
    "                 90062,91345,90059,90008,90035,90037,91601,90069,91602,90036,90048,91411,90031, \n",
    "                 90024,91303,90710,90025,90014,90501,91340,90230,90247,90061,90293, 90023,90033,90094,90006,\n",
    "                 90007,90292,90038,90001,90005,90029,90028,90063,90017,90248,90020,90402,90013,90012]"
   ]
  },
  {
   "cell_type": "markdown",
   "metadata": {},
   "source": [
    "My section of the zip code lists (we split up the zip codes evenly between the team members)"
   ]
  },
  {
   "cell_type": "code",
   "execution_count": 11,
   "metadata": {},
   "outputs": [
    {
     "data": {
      "text/plain": [
       "[91401,\n",
       " 91316,\n",
       " 90064,\n",
       " 91405,\n",
       " 90016,\n",
       " 91402,\n",
       " 91436,\n",
       " 91606,\n",
       " 90026,\n",
       " 90019,\n",
       " 90003,\n",
       " 91403,\n",
       " 90002,\n",
       " 91324,\n",
       " 90039,\n",
       " 90291,\n",
       " 90034,\n",
       " 90041,\n",
       " 91607,\n",
       " 90744,\n",
       " 90210,\n",
       " 90027,\n",
       " 90018,\n",
       " 90011,\n",
       " 90732,\n",
       " 90077,\n",
       " 90004,\n",
       " 90062,\n",
       " 91345,\n",
       " 90059,\n",
       " 90008,\n",
       " 90035,\n",
       " 90037,\n",
       " 91601]"
      ]
     },
     "execution_count": 11,
     "metadata": {},
     "output_type": "execute_result"
    }
   ],
   "source": [
    "zip_code_list[34:68]"
   ]
  },
  {
   "cell_type": "markdown",
   "metadata": {},
   "source": [
    "Iterating through all the zipcodes in my list (I couldn't do all of them at once, so the code below is not from start to finish, but eventually I got all the zip codes by continuing to run the cell below wherever the API failed.)"
   ]
  },
  {
   "cell_type": "code",
   "execution_count": 75,
   "metadata": {},
   "outputs": [
    {
     "name": "stdout",
     "output_type": "stream",
     "text": [
      "Starting query 1\n",
      "Starting query 2\n",
      "Starting query 3\n",
      "Starting query 4\n",
      "Starting query 5\n",
      "Starting query 6\n",
      "Starting query 7\n",
      "Starting query 8\n",
      "Starting query 9\n",
      "Starting query 10\n",
      "Starting query 11\n",
      "Starting query 12\n",
      "Starting query 13\n",
      "Starting query 14\n",
      "Starting query 15\n",
      "Starting query 16\n",
      "Starting query 17\n",
      "Starting query 18\n",
      "Starting query 19\n",
      "Starting query 20\n",
      "Saved and completed query and returned 426 restaurants.\n",
      "Yelp text is ready for processing.\n",
      "Last timestamp was 1555439987.\n",
      "Starting query 1\n",
      "Starting query 2\n",
      "Starting query 3\n",
      "Starting query 4\n",
      "Starting query 5\n",
      "Starting query 6\n",
      "Starting query 7\n",
      "Starting query 8\n",
      "Starting query 9\n",
      "Starting query 10\n",
      "Starting query 11\n",
      "Starting query 12\n",
      "Starting query 13\n",
      "Starting query 14\n",
      "Starting query 15\n",
      "Starting query 16\n",
      "Starting query 17\n",
      "Starting query 18\n",
      "Starting query 19\n",
      "Starting query 20\n",
      "Saved and completed query and returned 560 restaurants.\n",
      "Yelp text is ready for processing.\n",
      "Last timestamp was 1555440063.\n",
      "Starting query 1\n",
      "Starting query 2\n",
      "Starting query 3\n",
      "Starting query 4\n",
      "Starting query 5\n",
      "Starting query 6\n",
      "Starting query 7\n",
      "Starting query 8\n",
      "Starting query 9\n",
      "Starting query 10\n",
      "Starting query 11\n",
      "Starting query 12\n",
      "Starting query 13\n",
      "Starting query 14\n",
      "Starting query 15\n",
      "Starting query 16\n",
      "Starting query 17\n",
      "Starting query 18\n",
      "Starting query 19\n",
      "Starting query 20\n",
      "Saved and completed query and returned 1000 restaurants.\n",
      "Yelp text is ready for processing.\n",
      "Last timestamp was 1555440149.\n",
      "Starting query 1\n",
      "Starting query 2\n",
      "Starting query 3\n",
      "Starting query 4\n",
      "Starting query 5\n",
      "Starting query 6\n",
      "Starting query 7\n",
      "Starting query 8\n",
      "Starting query 9\n",
      "Starting query 10\n",
      "Starting query 11\n",
      "Starting query 12\n",
      "Starting query 13\n",
      "Starting query 14\n",
      "Starting query 15\n",
      "Starting query 16\n",
      "Starting query 17\n",
      "Starting query 18\n",
      "Starting query 19\n",
      "Starting query 20\n",
      "Saved and completed query and returned 1000 restaurants.\n",
      "Yelp text is ready for processing.\n",
      "Last timestamp was 1555440233.\n",
      "Starting query 1\n",
      "Starting query 2\n",
      "Starting query 3\n",
      "Starting query 4\n",
      "Starting query 5\n",
      "Starting query 6\n",
      "Starting query 7\n",
      "Starting query 8\n",
      "Starting query 9\n",
      "Starting query 10\n",
      "Starting query 11\n",
      "Starting query 12\n",
      "Starting query 13\n",
      "Starting query 14\n",
      "Starting query 15\n",
      "Starting query 16\n",
      "Starting query 17\n",
      "Starting query 18\n",
      "Starting query 19\n",
      "Starting query 20\n",
      "Saved and completed query and returned 350 restaurants.\n",
      "Yelp text is ready for processing.\n",
      "Last timestamp was 1555440304.\n",
      "Starting query 1\n",
      "Starting query 2\n",
      "Starting query 3\n",
      "Starting query 4\n",
      "Starting query 5\n",
      "Starting query 6\n",
      "Starting query 7\n",
      "Starting query 8\n",
      "Starting query 9\n",
      "Starting query 10\n",
      "Starting query 11\n",
      "Starting query 12\n",
      "Starting query 13\n",
      "Starting query 14\n",
      "Starting query 15\n",
      "Starting query 16\n",
      "Starting query 17\n",
      "Starting query 18\n",
      "Starting query 19\n",
      "Starting query 20\n",
      "Saved and completed query and returned 1000 restaurants.\n",
      "Yelp text is ready for processing.\n",
      "Last timestamp was 1555440390.\n",
      "Starting query 1\n",
      "Starting query 2\n",
      "Starting query 3\n",
      "Starting query 4\n",
      "Starting query 5\n",
      "Starting query 6\n",
      "Starting query 7\n",
      "Starting query 8\n",
      "Starting query 9\n",
      "Starting query 10\n",
      "Starting query 11\n",
      "Starting query 12\n",
      "Starting query 13\n",
      "Starting query 14\n",
      "Starting query 15\n",
      "Starting query 16\n",
      "Starting query 17\n",
      "Starting query 18\n",
      "Starting query 19\n",
      "Starting query 20\n",
      "Saved and completed query and returned 542 restaurants.\n",
      "Yelp text is ready for processing.\n",
      "Last timestamp was 1555440465.\n",
      "Starting query 1\n",
      "Starting query 2\n",
      "Starting query 3\n",
      "Starting query 4\n",
      "Starting query 5\n",
      "Starting query 6\n",
      "Starting query 7\n",
      "Starting query 8\n",
      "Starting query 9\n",
      "Starting query 10\n",
      "Starting query 11\n",
      "Starting query 12\n",
      "Starting query 13\n",
      "Starting query 14\n",
      "Starting query 15\n",
      "Starting query 16\n",
      "Starting query 17\n",
      "Starting query 18\n",
      "Starting query 19\n",
      "Starting query 20\n",
      "Saved and completed query and returned 377 restaurants.\n",
      "Yelp text is ready for processing.\n",
      "Last timestamp was 1555440538.\n",
      "Starting query 1\n",
      "Starting query 2\n",
      "Starting query 3\n",
      "Starting query 4\n",
      "Starting query 5\n",
      "Starting query 6\n",
      "Starting query 7\n",
      "Starting query 8\n",
      "Starting query 9\n",
      "Starting query 10\n",
      "Starting query 11\n",
      "Starting query 12\n",
      "Starting query 13\n",
      "Starting query 14\n",
      "Starting query 15\n",
      "Starting query 16\n",
      "Starting query 17\n",
      "Starting query 18\n",
      "Starting query 19\n",
      "Starting query 20\n",
      "Saved and completed query and returned 1000 restaurants.\n",
      "Yelp text is ready for processing.\n",
      "Last timestamp was 1555440622.\n",
      "Starting query 1\n",
      "Starting query 2\n",
      "Starting query 3\n",
      "Starting query 4\n",
      "Starting query 5\n",
      "Starting query 6\n",
      "Starting query 7\n",
      "Starting query 8\n",
      "Starting query 9\n",
      "Starting query 10\n",
      "Starting query 11\n",
      "Starting query 12\n",
      "Starting query 13\n",
      "Starting query 14\n",
      "Starting query 15\n",
      "Starting query 16\n",
      "Starting query 17\n",
      "Starting query 18\n",
      "Starting query 19\n",
      "Starting query 20\n",
      "Saved and completed query and returned 239 restaurants.\n",
      "Yelp text is ready for processing.\n",
      "Last timestamp was 1555440692.\n",
      "Starting query 1\n",
      "Starting query 2\n",
      "Starting query 3\n",
      "Starting query 4\n",
      "Starting query 5\n",
      "Starting query 6\n",
      "Starting query 7\n",
      "Starting query 8\n",
      "Starting query 9\n",
      "Starting query 10\n",
      "Starting query 11\n",
      "Starting query 12\n",
      "Starting query 13\n",
      "Starting query 14\n",
      "Starting query 15\n",
      "Starting query 16\n",
      "Starting query 17\n",
      "Starting query 18\n",
      "Starting query 19\n",
      "Starting query 20\n",
      "Saved and completed query and returned 216 restaurants.\n",
      "Yelp text is ready for processing.\n",
      "Last timestamp was 1555440763.\n",
      "Starting query 1\n",
      "Starting query 2\n",
      "Starting query 3\n",
      "Starting query 4\n",
      "Starting query 5\n",
      "Starting query 6\n",
      "Starting query 7\n",
      "Starting query 8\n",
      "Starting query 9\n",
      "Starting query 10\n",
      "Starting query 11\n",
      "Starting query 12\n",
      "Starting query 13\n",
      "Starting query 14\n",
      "Starting query 15\n",
      "Starting query 16\n",
      "Starting query 17\n",
      "Starting query 18\n",
      "Starting query 19\n",
      "Starting query 20\n",
      "Saved and completed query and returned 824 restaurants.\n",
      "Yelp text is ready for processing.\n",
      "Last timestamp was 1555440843.\n",
      "Starting query 1\n",
      "Starting query 2\n",
      "Starting query 3\n",
      "Starting query 4\n",
      "Starting query 5\n",
      "Starting query 6\n",
      "Starting query 7\n",
      "Starting query 8\n",
      "Starting query 9\n",
      "Starting query 10\n",
      "Starting query 11\n",
      "Starting query 12\n",
      "Starting query 13\n",
      "Starting query 14\n",
      "Starting query 15\n",
      "Starting query 16\n",
      "Starting query 17\n",
      "Starting query 18\n",
      "Starting query 19\n",
      "Starting query 20\n",
      "Saved and completed query and returned 1000 restaurants.\n",
      "Yelp text is ready for processing.\n",
      "Last timestamp was 1555440929.\n",
      "Starting query 1\n",
      "Starting query 2\n",
      "Starting query 3\n",
      "Starting query 4\n",
      "Starting query 5\n",
      "Starting query 6\n",
      "Starting query 7\n",
      "Starting query 8\n",
      "Starting query 9\n",
      "Starting query 10\n",
      "Starting query 11\n",
      "Starting query 12\n",
      "Starting query 13\n",
      "Starting query 14\n",
      "Starting query 15\n",
      "Starting query 16\n",
      "Starting query 17\n",
      "Starting query 18\n",
      "Starting query 19\n",
      "Starting query 20\n",
      "Saved and completed query and returned 690 restaurants.\n",
      "Yelp text is ready for processing.\n",
      "Last timestamp was 1555441007.\n",
      "Starting query 1\n",
      "Starting query 2\n",
      "Starting query 3\n",
      "Starting query 4\n",
      "Starting query 5\n",
      "Starting query 6\n",
      "Starting query 7\n",
      "Starting query 8\n",
      "Starting query 9\n",
      "Starting query 10\n",
      "Starting query 11\n",
      "Starting query 12\n",
      "Starting query 13\n",
      "Starting query 14\n",
      "Starting query 15\n",
      "Starting query 16\n",
      "Starting query 17\n",
      "Starting query 18\n",
      "Starting query 19\n",
      "Starting query 20\n",
      "Saved and completed query and returned 375 restaurants.\n",
      "Yelp text is ready for processing.\n",
      "Last timestamp was 1555441079.\n",
      "Starting query 1\n",
      "Starting query 2\n",
      "Starting query 3\n",
      "Starting query 4\n",
      "Starting query 5\n",
      "Starting query 6\n",
      "Starting query 7\n",
      "Starting query 8\n",
      "Starting query 9\n",
      "Starting query 10\n",
      "Starting query 11\n",
      "Starting query 12\n",
      "Starting query 13\n",
      "Starting query 14\n",
      "Starting query 15\n",
      "Starting query 16\n",
      "Starting query 17\n",
      "Starting query 18\n",
      "Starting query 19\n",
      "Starting query 20\n",
      "Saved and completed query and returned 578 restaurants.\n",
      "Yelp text is ready for processing.\n",
      "Last timestamp was 1555441155.\n"
     ]
    }
   ],
   "source": [
    "for zipcode in zip_code_list[52:68]:\n",
    "    yelp_query('restaurant', zipcode , 0)"
   ]
  },
  {
   "cell_type": "markdown",
   "metadata": {},
   "source": [
    "Grabbing the location of the saved JSON files."
   ]
  },
  {
   "cell_type": "code",
   "execution_count": 12,
   "metadata": {},
   "outputs": [],
   "source": [
    "files = !ls data/*_raw*"
   ]
  },
  {
   "cell_type": "markdown",
   "metadata": {},
   "source": [
    "Loading in those JSON files so we can parse them."
   ]
  },
  {
   "cell_type": "code",
   "execution_count": 111,
   "metadata": {},
   "outputs": [],
   "source": [
    "yelp_jsons = []\n",
    "for file in files:\n",
    "    with open(file) as f:\n",
    "        yelp_jsons.extend(json.load(f))"
   ]
  },
  {
   "cell_type": "markdown",
   "metadata": {},
   "source": [
    "Checking how many restaurants I pulled. Looks like 24557 for just the zip codes I queried."
   ]
  },
  {
   "cell_type": "code",
   "execution_count": 112,
   "metadata": {},
   "outputs": [
    {
     "data": {
      "text/plain": [
       "24557"
      ]
     },
     "execution_count": 112,
     "metadata": {},
     "output_type": "execute_result"
    }
   ],
   "source": [
    "len(yelp_jsons)"
   ]
  },
  {
   "cell_type": "markdown",
   "metadata": {},
   "source": [
    "Grabbing the review count for our first restaurant, just to test out keying into the dictionary."
   ]
  },
  {
   "cell_type": "code",
   "execution_count": 113,
   "metadata": {},
   "outputs": [
    {
     "data": {
      "text/plain": [
       "771"
      ]
     },
     "execution_count": 113,
     "metadata": {},
     "output_type": "execute_result"
    }
   ],
   "source": [
    "yelp_jsons[0]['review_count']"
   ]
  },
  {
   "cell_type": "markdown",
   "metadata": {},
   "source": [
    "Defining a custom function to automatically parse the aforementioned JSONs and keep only the data we want."
   ]
  },
  {
   "cell_type": "code",
   "execution_count": 114,
   "metadata": {},
   "outputs": [],
   "source": [
    "def yelp_parse(sample):\n",
    "    yelp_list = []\n",
    "    yelp_list.extend(sample)\n",
    "    for x in range(len(yelp_list)):\n",
    "        yelp_list[x]['type'] = yelp_list[x]['categories'][0]['alias']\n",
    "        yelp_list[x]['latitude'] = yelp_list[x]['coordinates']['latitude']\n",
    "        yelp_list[x]['longitude'] = yelp_list[x]['coordinates']['longitude']\n",
    "        yelp_list[x]['location'] = yelp_list[x]['location']['zip_code']\n",
    "        yelp_list[x]['review_count'] = yelp_list[x]['review_count']\n",
    "    \n",
    "    col_list = ['id',\n",
    "                'name',\n",
    "                'alias',\n",
    "                'type',\n",
    "                'rating',\n",
    "                'review_count',\n",
    "                'price',\n",
    "                'location',\n",
    "                'latitude',\n",
    "                'longitude'\n",
    "                ]\n",
    "    \n",
    "    yelp_df = pd.DataFrame(yelp_list)\n",
    "    yelp_df = yelp_df[col_list]\n",
    "    yelp_df['price'] = yelp_df['price'].map({'$': 1, '$$': 2, '$$$': 3, '$$$$': 4})\n",
    "\n",
    "    return yelp_df[col_list]"
   ]
  },
  {
   "cell_type": "markdown",
   "metadata": {},
   "source": [
    "Creating a dataframe from the parsed JSONs"
   ]
  },
  {
   "cell_type": "code",
   "execution_count": 115,
   "metadata": {},
   "outputs": [],
   "source": [
    "yelp_df = yelp_parse(yelp_jsons)"
   ]
  },
  {
   "cell_type": "code",
   "execution_count": 116,
   "metadata": {},
   "outputs": [
    {
     "data": {
      "text/html": [
       "<div>\n",
       "<style scoped>\n",
       "    .dataframe tbody tr th:only-of-type {\n",
       "        vertical-align: middle;\n",
       "    }\n",
       "\n",
       "    .dataframe tbody tr th {\n",
       "        vertical-align: top;\n",
       "    }\n",
       "\n",
       "    .dataframe thead th {\n",
       "        text-align: right;\n",
       "    }\n",
       "</style>\n",
       "<table border=\"1\" class=\"dataframe\">\n",
       "  <thead>\n",
       "    <tr style=\"text-align: right;\">\n",
       "      <th></th>\n",
       "      <th>id</th>\n",
       "      <th>name</th>\n",
       "      <th>alias</th>\n",
       "      <th>type</th>\n",
       "      <th>rating</th>\n",
       "      <th>review_count</th>\n",
       "      <th>price</th>\n",
       "      <th>location</th>\n",
       "      <th>latitude</th>\n",
       "      <th>longitude</th>\n",
       "    </tr>\n",
       "  </thead>\n",
       "  <tbody>\n",
       "    <tr>\n",
       "      <th>0</th>\n",
       "      <td>PEHM9AEqq0ca3vACyOMEwA</td>\n",
       "      <td>Lusy's Mediterranean Cafe &amp; Grill</td>\n",
       "      <td>lusys-mediterranean-cafe-and-grill-van-nuys-2</td>\n",
       "      <td>mediterranean</td>\n",
       "      <td>4.5</td>\n",
       "      <td>771</td>\n",
       "      <td>2.0</td>\n",
       "      <td>91401</td>\n",
       "      <td>34.186598</td>\n",
       "      <td>-118.431349</td>\n",
       "    </tr>\n",
       "    <tr>\n",
       "      <th>1</th>\n",
       "      <td>ja_cBagHfhI0eFJrw3BRTA</td>\n",
       "      <td>Kobee Factory</td>\n",
       "      <td>kobee-factory-van-nuys-2</td>\n",
       "      <td>mideastern</td>\n",
       "      <td>4.5</td>\n",
       "      <td>536</td>\n",
       "      <td>2.0</td>\n",
       "      <td>91401</td>\n",
       "      <td>34.179265</td>\n",
       "      <td>-118.440370</td>\n",
       "    </tr>\n",
       "    <tr>\n",
       "      <th>2</th>\n",
       "      <td>vWuft2V5ZKKWRPzQUHuKDw</td>\n",
       "      <td>Nat's Early Bite Coffee Shop</td>\n",
       "      <td>nats-early-bite-coffee-shop-sherman-oaks</td>\n",
       "      <td>diners</td>\n",
       "      <td>4.5</td>\n",
       "      <td>1069</td>\n",
       "      <td>2.0</td>\n",
       "      <td>91401</td>\n",
       "      <td>34.172400</td>\n",
       "      <td>-118.440530</td>\n",
       "    </tr>\n",
       "    <tr>\n",
       "      <th>3</th>\n",
       "      <td>DfmaMh5rJQ_o9vEvhfUDgQ</td>\n",
       "      <td>Uncle Tony's Pizzeria</td>\n",
       "      <td>uncle-tonys-pizzeria-north-hollywood</td>\n",
       "      <td>italian</td>\n",
       "      <td>4.0</td>\n",
       "      <td>1164</td>\n",
       "      <td>2.0</td>\n",
       "      <td>91606</td>\n",
       "      <td>34.187380</td>\n",
       "      <td>-118.416558</td>\n",
       "    </tr>\n",
       "    <tr>\n",
       "      <th>4</th>\n",
       "      <td>Mfa5dHJKcY4K-c3IQIxKkA</td>\n",
       "      <td>Krimsey's Cajun Kitchen</td>\n",
       "      <td>krimseys-cajun-kitchen-north-hollywood-2</td>\n",
       "      <td>vegan</td>\n",
       "      <td>4.5</td>\n",
       "      <td>870</td>\n",
       "      <td>2.0</td>\n",
       "      <td>91606</td>\n",
       "      <td>34.186299</td>\n",
       "      <td>-118.413965</td>\n",
       "    </tr>\n",
       "  </tbody>\n",
       "</table>\n",
       "</div>"
      ],
      "text/plain": [
       "                       id                               name  \\\n",
       "0  PEHM9AEqq0ca3vACyOMEwA  Lusy's Mediterranean Cafe & Grill   \n",
       "1  ja_cBagHfhI0eFJrw3BRTA                      Kobee Factory   \n",
       "2  vWuft2V5ZKKWRPzQUHuKDw       Nat's Early Bite Coffee Shop   \n",
       "3  DfmaMh5rJQ_o9vEvhfUDgQ              Uncle Tony's Pizzeria   \n",
       "4  Mfa5dHJKcY4K-c3IQIxKkA            Krimsey's Cajun Kitchen   \n",
       "\n",
       "                                           alias           type  rating  \\\n",
       "0  lusys-mediterranean-cafe-and-grill-van-nuys-2  mediterranean     4.5   \n",
       "1                       kobee-factory-van-nuys-2     mideastern     4.5   \n",
       "2       nats-early-bite-coffee-shop-sherman-oaks         diners     4.5   \n",
       "3           uncle-tonys-pizzeria-north-hollywood        italian     4.0   \n",
       "4       krimseys-cajun-kitchen-north-hollywood-2          vegan     4.5   \n",
       "\n",
       "   review_count  price location   latitude   longitude  \n",
       "0           771    2.0    91401  34.186598 -118.431349  \n",
       "1           536    2.0    91401  34.179265 -118.440370  \n",
       "2          1069    2.0    91401  34.172400 -118.440530  \n",
       "3          1164    2.0    91606  34.187380 -118.416558  \n",
       "4           870    2.0    91606  34.186299 -118.413965  "
      ]
     },
     "execution_count": 116,
     "metadata": {},
     "output_type": "execute_result"
    }
   ],
   "source": [
    "yelp_df.head()"
   ]
  },
  {
   "cell_type": "markdown",
   "metadata": {},
   "source": [
    "Dropping duplicates and missing data."
   ]
  },
  {
   "cell_type": "code",
   "execution_count": 128,
   "metadata": {},
   "outputs": [],
   "source": [
    "yelp_df.drop_duplicates(inplace=True)"
   ]
  },
  {
   "cell_type": "code",
   "execution_count": 129,
   "metadata": {},
   "outputs": [],
   "source": [
    "yelp_df.dropna(inplace=True)"
   ]
  },
  {
   "cell_type": "markdown",
   "metadata": {},
   "source": [
    "Even though I only specified 34 zip codes, we have 214 unique zip codes, but that's fine, once we merge it with the housing data later, we'll only keep the zip codes that overlap."
   ]
  },
  {
   "cell_type": "code",
   "execution_count": 130,
   "metadata": {},
   "outputs": [
    {
     "data": {
      "text/plain": [
       "214"
      ]
     },
     "execution_count": 130,
     "metadata": {},
     "output_type": "execute_result"
    }
   ],
   "source": [
    "len(yelp_df.location.unique())"
   ]
  },
  {
   "cell_type": "markdown",
   "metadata": {},
   "source": [
    "Final checks for proper variable types and missing data"
   ]
  },
  {
   "cell_type": "code",
   "execution_count": 131,
   "metadata": {},
   "outputs": [
    {
     "name": "stdout",
     "output_type": "stream",
     "text": [
      "<class 'pandas.core.frame.DataFrame'>\n",
      "Int64Index: 10037 entries, 0 to 24533\n",
      "Data columns (total 10 columns):\n",
      "id              10037 non-null object\n",
      "name            10037 non-null object\n",
      "alias           10037 non-null object\n",
      "type            10037 non-null object\n",
      "rating          10037 non-null float64\n",
      "review_count    10037 non-null int64\n",
      "price           10037 non-null float64\n",
      "location        10037 non-null object\n",
      "latitude        10037 non-null float64\n",
      "longitude       10037 non-null float64\n",
      "dtypes: float64(4), int64(1), object(5)\n",
      "memory usage: 862.6+ KB\n"
     ]
    }
   ],
   "source": [
    "yelp_df.info()"
   ]
  },
  {
   "cell_type": "code",
   "execution_count": 133,
   "metadata": {},
   "outputs": [
    {
     "data": {
      "text/plain": [
       "id              0\n",
       "name            0\n",
       "alias           0\n",
       "type            0\n",
       "rating          0\n",
       "review_count    0\n",
       "price           0\n",
       "location        0\n",
       "latitude        0\n",
       "longitude       0\n",
       "dtype: int64"
      ]
     },
     "execution_count": 133,
     "metadata": {},
     "output_type": "execute_result"
    }
   ],
   "source": [
    "df.isna().sum()"
   ]
  },
  {
   "cell_type": "code",
   "execution_count": 134,
   "metadata": {},
   "outputs": [
    {
     "data": {
      "text/plain": [
       "(10019, 10)"
      ]
     },
     "execution_count": 134,
     "metadata": {},
     "output_type": "execute_result"
    }
   ],
   "source": [
    "df.shape"
   ]
  },
  {
   "cell_type": "markdown",
   "metadata": {},
   "source": [
    "Noticed that there were blanks for location, but they weren't missing, so only keeping those observations with actual values."
   ]
  },
  {
   "cell_type": "code",
   "execution_count": 132,
   "metadata": {},
   "outputs": [],
   "source": [
    "df = yelp_df[yelp_df['location']!='']"
   ]
  },
  {
   "cell_type": "markdown",
   "metadata": {},
   "source": [
    "Saving the dataframe to a CSV to then combine with everyone else's data. "
   ]
  },
  {
   "cell_type": "code",
   "execution_count": 135,
   "metadata": {},
   "outputs": [],
   "source": [
    "df.to_csv('./data/hovs_section.csv')"
   ]
  }
 ],
 "metadata": {
  "kernelspec": {
   "display_name": "Python 3",
   "language": "python",
   "name": "python3"
  },
  "language_info": {
   "codemirror_mode": {
    "name": "ipython",
    "version": 3
   },
   "file_extension": ".py",
   "mimetype": "text/x-python",
   "name": "python",
   "nbconvert_exporter": "python",
   "pygments_lexer": "ipython3",
   "version": "3.7.3"
  }
 },
 "nbformat": 4,
 "nbformat_minor": 2
}
